{
 "cells": [
  {
   "cell_type": "code",
   "execution_count": 2,
   "id": "ec977872",
   "metadata": {},
   "outputs": [],
   "source": [
    "%matplotlib widget\n",
    "\n",
    "import sys\n",
    "import os.path as op\n",
    "from glob import glob\n",
    "import fnmatch\n",
    "\n",
    "import numpy as np\n",
    "import scipy\n",
    "from scipy.io import loadmat\n",
    "from joblib import Parallel, delayed\n",
    "import matplotlib.pyplot as plt\n",
    "import seaborn as sns\n",
    "sns.set()\n",
    "\n",
    "import mne\n",
    "from mne.io import read_epochs_eeglab\n",
    "from mne.decoding import SSD\n",
    "from mne.time_frequency import psd_array_multitaper\n",
    "from mne.viz import plot_topomap\n",
    "\n",
    "from sklearn.decomposition import PCA\n",
    "from sklearn.preprocessing import StandardScaler\n",
    "from sklearn import svm\n",
    "\n",
    "# set path to SpectralEvents\n",
    "import spectralevents as se\n",
    "\n",
    "import pdb"
   ]
  },
  {
   "cell_type": "code",
   "execution_count": 3,
   "id": "bcfcffed",
   "metadata": {
    "scrolled": true
   },
   "outputs": [],
   "source": [
    "def read_data(subj_id, series_num, data_dir, pick_channels=None):\n",
    "    # read in both pre- and post-TMS sessions belonging to a single subject\n",
    "    series_num = str(series_num)\n",
    "    subj_id = subj_id.zfill(4)\n",
    "    fname_t1 = op.join(data_dir, 'series_' + series_num, 'T1/preprocessed',\n",
    "                       subj_id + '_Pre_Session1_Series' + series_num + '_Preprocessed.set')\n",
    "    fname_t2 = op.join(data_dir, 'series_' + series_num, 'T2/preprocessed',\n",
    "                       subj_id + '_Post_Session1_Series' + series_num + '_Preprocessed.set')\n",
    "\n",
    "    # read in data\n",
    "    epochs_pre_post = list()\n",
    "    for fname in [fname_t1, fname_t2]:\n",
    "        epochs = read_epochs_eeglab(fname)\n",
    "        if pick_channels is not None:\n",
    "            if pick_channels == 'frontal':\n",
    "                pick_channels = fnmatch.filter(epochs.ch_names, 'F*') + fnmatch.filter(epochs.ch_names, 'C*')\n",
    "            epochs = epochs.pick_channels(pick_channels)\n",
    "        epochs_data = epochs.get_data().squeeze()\n",
    "        #epochs_data -= np.mean(epochs_data, axis=(1, 2), keepdims=True)\n",
    "        #epochs_data /= np.std(epochs_data, axis=(1, 2), keepdims=True)\n",
    "        epochs_pre_post.append(epochs_data)\n",
    "    epochs_info = epochs.info  # save for fit_ssd()\n",
    "    epoch_times = epochs.times  # save save for spec_event_coherence_shift()\n",
    "    \n",
    "    return epochs_pre_post, epochs_info, epoch_times\n",
    "\n",
    "\n",
    "def plot_features_scatter(x, y, responder_labels, ax_labels):\n",
    "    '''Plot features across subjects in a 2D scatter plot.'''\n",
    "    g = sns.JointGrid()\n",
    "\n",
    "    for class_idx, class_ in enumerate(set(responder_labels)):\n",
    "        if class_ == 1:\n",
    "            label = 'responders'\n",
    "        else:\n",
    "            label = 'non-responders'\n",
    "        cluster_mask = responder_labels == class_\n",
    "        x_data = np.array(x)[cluster_mask]\n",
    "        y_data = np.array(y)[cluster_mask]\n",
    "\n",
    "        # plot data points for a given class label (i.e., responder or non-responder)\n",
    "        sns.scatterplot(x=x_data, y=y_data, alpha=.5, edgecolor=None,\n",
    "                        color=f'C{class_idx + 1}', ax=g.ax_joint)\n",
    "\n",
    "        # plot marginal distributions for a given class label\n",
    "        sns.kdeplot(x=x_data, bw_adjust=0.85, fill=True, linewidth=0, alpha=.5,\n",
    "                    color=f'C{class_idx + 1}', ax=g.ax_marg_x, label=label)\n",
    "        g.ax_marg_x.axvline(np.median(x_data), color=f'C{class_idx + 1}')\n",
    "        sns.kdeplot(y=y_data, bw_adjust=0.85, fill=True, linewidth=0, alpha=.5,\n",
    "                    color=f'C{class_idx + 1}', ax=g.ax_marg_y)\n",
    "        g.ax_marg_y.axhline(np.median(y_data), color=f'C{class_idx + 1}')\n",
    "\n",
    "    g.ax_joint.set_xlabel(ax_labels[0])\n",
    "    g.ax_joint.set_ylabel(ax_labels[1])\n",
    "    g.ax_marg_x.legend(loc='lower center', ncol=3, bbox_to_anchor=(0.5, 1.02))\n",
    "    g.fig.tight_layout()"
   ]
  },
  {
   "cell_type": "code",
   "execution_count": 127,
   "id": "bd316909",
   "metadata": {},
   "outputs": [],
   "source": [
    "def cross_spectral_matrix(chan_coeffs):\n",
    "    '''Compose the cross-spectral matrix at a specific frequency.'''\n",
    "    return np.outer(chan_coeffs, chan_coeffs.conj())\n",
    "\n",
    "def phase_entropy_shift(chan_phases_t0, chan_phases_t1):\n",
    "    entropies = list()\n",
    "    for t_samp_phases in (chan_phases_t0, chan_phases_t1):\n",
    "    \n",
    "        #magnitudes = np.abs(t_samp_phases)\n",
    "        angles = np.angle(t_samp_phases)\n",
    "        \n",
    "        n_bins = 24\n",
    "        pmf, bins = np.histogram(angles, bins=n_bins, density=True)\n",
    "        entropy = scipy.stats.entropy(pmf, np.ones((n_bins,)) / n_bins) # KL-divergence from uniform distribution\n",
    "        entropies.append(entropy)\n",
    "    return entropies[1] - entropies[0]\n",
    "\n",
    "def coherence_shift(chan_coeffs_t0, chan_coeffs_t1):\n",
    "    '''Coherence shift across channels determined at two timepoints.'''\n",
    "    \n",
    "    PC1_phase_offsets = list()\n",
    "    #PC1_global_coher = list()  # not interesting\n",
    "    for chan_coeffs in (chan_coeffs_t0, chan_coeffs_t1):\n",
    "        Pxy = cross_spectral_matrix(chan_coeffs)\n",
    "        U, s, Vh = np.linalg.svd(Pxy)\n",
    "        PC1_phase_offsets.append(Vh[0])\n",
    "        #PC1_global_coher.append(s[0] / np.sum(s))  # not interesting\n",
    "\n",
    "    # angle between the two vectors of phase offsets\n",
    "    #dyn_phase_offsets_shift = np.arccos(np.abs(np.sum(PC1_phase_offsets[0] * PC1_phase_offsets[1])))\n",
    "    # total shift in global coherence ratio\n",
    "    #dyn_global_coher_shift = PC1_global_coher[1] - PC1_global_coher[0]\n",
    "    coher_entropy_shift = phase_entropy_shift(PC1_phase_offsets[0], PC1_phase_offsets[1])\n",
    "\n",
    "    return coher_entropy_shift\n",
    "\n",
    "\n",
    "def spec_spat_events(epochs_pre_post, times):\n",
    "    event_band = [9, 14]  # alpha band (Hz)\n",
    "    #event_band = [15, 29]  # beta band (Hz)\n",
    "    thresh = 0.99  # factor-of-the-median threshold\n",
    "\n",
    "    dt = times[1] - times[0]\n",
    "    samp_freq = 1 / dt\n",
    "    freqs = np.arange(3, 40)\n",
    "    n_freqs = len(freqs)\n",
    "\n",
    "    iei_min = 0.8  # minimum distance between global spectral events; 800 ms\n",
    "    #dyn_interval = 0.2  # time interval (s) at which the complex TFR will be sampled following a global event\n",
    "    \n",
    "    sess_event_rate = list()\n",
    "    sess_event_avg_freq = list()\n",
    "    sess_event_phase_offsets_shift = list()\n",
    "    sess_event_global_coher_init = list()\n",
    "    sess_event_global_coher_shift = list()\n",
    "    for epochs_data in epochs_pre_post:\n",
    "        n_epochs = epochs_data.shape[0]\n",
    "        n_chans = epochs_data.shape[1]\n",
    "        n_times = epochs_data.shape[2]\n",
    "        \n",
    "        # z-score data across channels and time\n",
    "        #epochs_data -= epochs_data.mean(axis=(1, 2), keepdims=True)\n",
    "        #epochs_data /= epochs_data.std(axis=(1, 2), keepdims=True)\n",
    "        \n",
    "        # z-score data across time (caution: removes some spatial patterns!)\n",
    "        #epochs_data -= epochs_data.mean(axis=(2,), keepdims=True)\n",
    "        #epochs_data /= epochs_data.std(axis=(2,), keepdims=True)\n",
    "\n",
    "        #### joblib ####\n",
    "        #tfrs_chan_avg = np.zeros((n_epochs, n_freqs, n_times))\n",
    "        #tfrs_chans_complex = np.zeros((n_epochs, n_chans, n_freqs, n_times), dtype=complex)\n",
    "        n_jobs = 24\n",
    "        output = Parallel(n_jobs=n_jobs)(delayed(se.tfr)(epoch_data, freqs, samp_freq)\n",
    "                                      for epoch_data in epochs_data)\n",
    "        epochs_tfrs, epochs_tfrs_complex = zip(*output)\n",
    "        tfrs_chan_avg = np.mean(np.stack(epochs_tfrs), axis=1)\n",
    "        tfrs_chans_complex = np.stack(epochs_tfrs_complex)\n",
    "        del output, epochs_tfrs, epochs_tfrs_complex\n",
    "        '''\n",
    "        for epoch_idx, epoch_data in enumerate(epochs_data):\n",
    "            tfrs, tfrs_complex = se.tfr(epoch_data, freqs, samp_freq)\n",
    "            # average TFR for this epoch across all channels\n",
    "            tfrs_chan_avg[epoch_idx, :, :] = np.mean(tfrs, axis=(0,))\n",
    "            # store complex TFRs for each channel for later\n",
    "            tfrs_chans_complex[epoch_idx, :, :, :] = tfrs_complex\n",
    "        '''\n",
    "        ################\n",
    "        \n",
    "        # spectral events need to be found using a common thresh procedure across epochs\n",
    "        spec_events_global = se.find_events(tfr=tfrs_chan_avg, times=times, freqs=freqs,\n",
    "                                            event_band=event_band, threshold_FOM=thresh)\n",
    "        # sanity check: plot \"global\" events for the 1st epoch\n",
    "        #fig = se.plot_events(tfr=tfrs_chan_avg[0, :, :],\n",
    "        #                     times=times,\n",
    "        #                     freqs=freqs,\n",
    "        #                     event_band=event_band,\n",
    "        #                     spec_events=spec_events_global[0])\n",
    "        n_events = len(sum(spec_events_global, []))\n",
    "        event_rate = n_events / n_epochs\n",
    "        print(f'Found {n_events} global spectral events in this session!!!')\n",
    "        \n",
    "        event_freqs = list()\n",
    "        event_coher_shifts = list()\n",
    "        for epoch_events, epoch_tfrs_complex in zip(spec_events_global, tfrs_chans_complex):\n",
    "\n",
    "            event_times = np.array([event['Peak Time'] for event in epoch_events])\n",
    "\n",
    "            event_times_no_overlap = list()\n",
    "            for event_idx, event_time in enumerate(event_times):\n",
    "                # crop off events that are too close to the end of the epoch\n",
    "                if times[-1] - event_time < iei_min:\n",
    "                    continue\n",
    "\n",
    "                # don't include events that are shortly followed by another subsequent event\n",
    "                if event_idx + 1 < len(event_times):\n",
    "                    next_event_time = event_times[event_idx + 1]\n",
    "                    if next_event_time - event_time < iei_min:\n",
    "                        continue\n",
    "                event_times_no_overlap.append(event_time)\n",
    "\n",
    "            if len(event_times_no_overlap) > 0:\n",
    "                # get event peak frequencies to calculate average; concat to master list\n",
    "                event_freqs += [event['Peak Frequency'] for event in epoch_events\n",
    "                                if event['Peak Time'] in event_times_no_overlap]\n",
    "\n",
    "                # sample the complex TFR at the current event across channels\n",
    "                for event_idx, event_time in enumerate(event_times_no_overlap):\n",
    "                    event_freq = event_freqs[event_idx]\n",
    "                    # time interval (s) at which the complex TFR will be sampled following a global event\n",
    "                    dyn_interval = 2 / event_freq  # 2 periods of the peak event frequency\n",
    "\n",
    "                    freq_idx = np.nonzero(freqs == event_freq)[0][0]\n",
    "                    time_idx = np.nonzero(times == event_time)[0][0]\n",
    "                    later_time_idx = time_idx + int(dyn_interval // dt)\n",
    "                    \n",
    "                    chan_coeffs_t0 = epoch_tfrs_complex[:, freq_idx, time_idx]\n",
    "                    chan_coeffs_t1 = epoch_tfrs_complex[:, freq_idx, later_time_idx]\n",
    "                    \n",
    "                    output = coherence_shift(chan_coeffs_t0, chan_coeffs_t1)\n",
    "                    event_coher_shift = dict(phase_offsets_init=output[0],  # XXX currently ignoring this feature\n",
    "                                             phase_offsets_shift=output[1],\n",
    "                                             global_coher_init=output[2],\n",
    "                                             global_coher_shift=output[3],\n",
    "                                             phases=output[4])\n",
    "                    event_coher_shifts.append(event_coher_shift)\n",
    "\n",
    "        if len(event_coher_shifts) > 0:\n",
    "            print(f'Kept {len(event_coher_shifts)} events for analysis in this session!!!')\n",
    "        else:\n",
    "            raise ValueError(\"No events were found in this session. Consider decreasing \"\n",
    "                             \"threshold_FOM when searching for spectral events!!!\")\n",
    "        # clean up memory\n",
    "        del tfrs_chan_avg, tfrs_chans_complex\n",
    "        \n",
    "        # compile session stats\n",
    "        sess_event_rate.append(event_rate)\n",
    "        sess_event_avg_freq.append(np.mean(event_freqs))\n",
    "        \n",
    "        all_event_phase_offsets_shifts = [event['phase_offsets_shift'] for event in event_coher_shifts]\n",
    "        sess_event_phase_offsets_shift.append(np.mean(all_event_phase_offsets_shifts))\n",
    "        \n",
    "        all_event_global_coher_init = [event['global_coher_init'] for event in event_coher_shifts]\n",
    "        sess_event_global_coher_init.append(np.mean(all_event_global_coher_init))\n",
    "        \n",
    "        all_event_global_coher_shift = [event['global_coher_shift'] for event in event_coher_shifts]\n",
    "        sess_event_global_coher_shift.append(np.mean(all_event_global_coher_shift))\n",
    "        \n",
    "    sess_event_rate_diff = sess_event_rate[1] - sess_event_rate[0]\n",
    "    sess_event_avg_freq_diff = sess_event_avg_freq[1] - sess_event_avg_freq[0]\n",
    "    sess_event_phase_offsets_shift_diff = sess_event_phase_offsets_shift[1] - sess_event_phase_offsets_shift[0]\n",
    "    #sess_event_global_coher_init_diff = sess_event_global_coher_init[1] - sess_event_global_coher_init[0]\n",
    "    #sess_event_global_coher_shift_diff = sess_event_global_coher_shift[1] - sess_event_global_coher_shift[0]\n",
    "\n",
    "    return (sess_event_rate[0], sess_event_rate_diff,\n",
    "            sess_event_avg_freq[0], sess_event_avg_freq_diff,\n",
    "            sess_event_phase_offsets_shift[0], sess_event_phase_offsets_shift_diff,\n",
    "            event_coher_shifts)\n",
    "\n",
    "\n",
    "def get_features(subj_id, series_num, data_dir):\n",
    "    '''Main pipeline for computing all features for a given subject.'''\n",
    "    pick_channels = 'frontal'\n",
    "    epochs_pre_post, _, times = read_data(subj_id, series_num, data_dir, pick_channels=pick_channels)\n",
    "    features = spec_spat_events(epochs_pre_post, times)\n",
    "    return features"
   ]
  },
  {
   "cell_type": "code",
   "execution_count": 5,
   "id": "752b0ac1",
   "metadata": {},
   "outputs": [],
   "source": [
    "# set data directory\n",
    "data_dir = '/gpfs/data/brainstorm-ws/data/'\n",
    "data_type = 'TRAINING'"
   ]
  },
  {
   "cell_type": "code",
   "execution_count": 6,
   "id": "8e2a08ce",
   "metadata": {},
   "outputs": [],
   "source": [
    "# read metadata from master list\n",
    "fname_master = op.join(data_dir, data_type, data_type + '_Master List_All Series.csv')\n",
    "master_keys = np.loadtxt(fname_master,  delimiter=',', max_rows=1, dtype=str)\n",
    "master_keys[0] = 'TMSID'  # fix first key string\n",
    "master_values = np.loadtxt(fname_master, delimiter=',', skiprows=1, dtype=str)\n",
    "master_info = {key: master_values[:, master_keys == key].squeeze() for key in master_keys}\n",
    "\n",
    "# get subject IDs for subject series with both pre-/post-TMS EEG recordings\n",
    "subj_select = master_info['HasT1T2'] == '1'\n",
    "subj_ids = master_info['TMSID'][subj_select]\n",
    "n_subj_series = sum(subj_select)"
   ]
  },
  {
   "cell_type": "code",
   "execution_count": 7,
   "id": "0425f11f",
   "metadata": {},
   "outputs": [],
   "source": [
    "# read metadata from demographics and clinical outcomes\n",
    "fname_outcomes = op.join(data_dir, data_type, data_type + '_Demographics and Clinical Outcomes_All Series.csv')\n",
    "outcomes_keys = np.loadtxt(fname_outcomes,  delimiter=',', max_rows=1, dtype=str)\n",
    "outcomes_keys[0] = 'TMSID'  # fix first key string\n",
    "outcomes_values = np.loadtxt(fname_outcomes, delimiter=',', skiprows=1, dtype=str)\n",
    "outcome_info = {key: outcomes_values[:, outcomes_keys == key].squeeze() for key in outcomes_keys}\n",
    "\n",
    "# get demographic and outcome data for each subject series\n",
    "ages = outcome_info['AgeTMSstart'][subj_select].astype(int)\n",
    "sexes = outcome_info['Sex'][subj_select].astype(int)\n",
    "depression_histories = outcome_info['SevHxDep'][subj_select].astype(int)\n",
    "symptoms_init = outcome_info['IDSSRtot.Ses1'][subj_select].astype(int)\n",
    "responders = outcome_info['LastRespIDSSR'][subj_select].astype(int)\n",
    "\n",
    "# get series number for each subject series\n",
    "series_nums = outcome_info['Series'][subj_select].astype(int)"
   ]
  },
  {
   "cell_type": "markdown",
   "id": "a317d444",
   "metadata": {},
   "source": [
    "## Optional: pipeline test"
   ]
  },
  {
   "cell_type": "code",
   "execution_count": 140,
   "id": "3baa818f",
   "metadata": {
    "scrolled": false
   },
   "outputs": [
    {
     "name": "stdout",
     "output_type": "stream",
     "text": [
      "Extracting parameters from /gpfs/data/brainstorm-ws/data/TRAINING/series_2/T1/preprocessed/0261_Pre_Session1_Series2_Preprocessed.set...\n",
      "Not setting metadata\n",
      "101 matching events found\n",
      "No baseline correction applied\n",
      "0 projection items activated\n",
      "Ready.\n",
      "Extracting parameters from /gpfs/data/brainstorm-ws/data/TRAINING/series_2/T2/preprocessed/0261_Post_Session1_Series2_Preprocessed.set...\n"
     ]
    },
    {
     "name": "stderr",
     "output_type": "stream",
     "text": [
      "/tmp/ipykernel_2307/2441085883.py:13: RuntimeWarning: At least one epoch has multiple events. Only the latency of the first event will be retained.\n",
      "  epochs = read_epochs_eeglab(fname)\n",
      "/tmp/ipykernel_2307/2441085883.py:13: RuntimeWarning: At least one epoch has multiple events. Only the latency of the first event will be retained.\n",
      "  epochs = read_epochs_eeglab(fname)\n"
     ]
    },
    {
     "name": "stdout",
     "output_type": "stream",
     "text": [
      "Not setting metadata\n",
      "87 matching events found\n",
      "No baseline correction applied\n",
      "0 projection items activated\n",
      "Ready.\n",
      "Found 61 global spectral events in this session!!!\n",
      "Kept 41 events for analysis in this session!!!\n",
      "Found 51 global spectral events in this session!!!\n",
      "Kept 32 events for analysis in this session!!!\n"
     ]
    }
   ],
   "source": [
    "# test analysis pipeline\n",
    "data_type_dir = op.join(data_dir, data_type)\n",
    "spec_spat_features = get_features(subj_ids[11], series_nums[11], data_type_dir)"
   ]
  },
  {
   "cell_type": "code",
   "execution_count": 88,
   "id": "30fc5424",
   "metadata": {},
   "outputs": [],
   "source": [
    "event_idx = 4\n",
    "x = spec_spat_features[6][event_idx]['phases'][1]"
   ]
  },
  {
   "cell_type": "code",
   "execution_count": 141,
   "id": "195a33a3",
   "metadata": {},
   "outputs": [
    {
     "data": {
      "text/plain": [
       "<matplotlib.lines.Line2D at 0x7fbc813aa430>"
      ]
     },
     "execution_count": 141,
     "metadata": {},
     "output_type": "execute_result"
    },
    {
     "data": {
      "application/vnd.jupyter.widget-view+json": {
       "model_id": "19746d73a55647a789bc839d74d2cd31",
       "version_major": 2,
       "version_minor": 0
      },
      "image/png": "[encoded data removed]",
      "text/html": [
       "\n",
       "            <div style=\"display: inline-block;\">\n",
       "                <div class=\"jupyter-widgets widget-label\" style=\"text-align: center;\">\n",
       "                    Figure\n",
       "                </div>\n",
       "                <img src='data:image/png;base64,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' width=640.0/>\n",
       "            </div>\n",
       "        "
      ],
      "text/plain": [
       "Canvas(toolbar=Toolbar(toolitems=[('Home', 'Reset original view', 'home', 'home'), ('Back', 'Back to previous …"
      ]
     },
     "metadata": {},
     "output_type": "display_data"
    },
    {
     "data": {
      "application/vnd.jupyter.widget-view+json": {
       "model_id": "7febf9981a1e473baed520b5f8c0e4a3",
       "version_major": 2,
       "version_minor": 0
      },
      "image/png": "[encoded data removed]",
      "text/html": [
       "\n",
       "            <div style=\"display: inline-block;\">\n",
       "                <div class=\"jupyter-widgets widget-label\" style=\"text-align: center;\">\n",
       "                    Figure\n",
       "                </div>\n",
       "                <img src='data:image/png;base64,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' width=640.0/>\n",
       "            </div>\n",
       "        "
      ],
      "text/plain": [
       "Canvas(toolbar=Toolbar(toolitems=[('Home', 'Reset original view', 'home', 'home'), ('Back', 'Back to previous …"
      ]
     },
     "metadata": {},
     "output_type": "display_data"
    }
   ],
   "source": [
    "entropy_changes = list()\n",
    "for event_features in spec_spat_features[6]:\n",
    "    entropies = list()\n",
    "    for t_samp_phases in event_features['phases']:\n",
    "    \n",
    "        magnitudes = np.abs(t_samp_phases)\n",
    "        angles = np.angle(t_samp_phases)\n",
    "        \n",
    "        n_bins = 24\n",
    "        pmf, bins = np.histogram(angles, bins=n_bins, density=True)\n",
    "        entropy = scipy.stats.entropy(pmf, np.ones((n_bins,)) / n_bins) # KL-divergence from uniform distribution\n",
    "        entropies.append(entropy)\n",
    "    entropy_changes.append(entropies[1] - entropies[0])\n",
    "\n",
    "fig, ax = plt.subplots(1, 1, subplot_kw={'projection': 'polar'})\n",
    "ax.stem(angles, magnitudes, markerfmt='.')\n",
    "\n",
    "fig, ax = plt.subplots(1, 1)\n",
    "\n",
    "ax.hist(entropy_changes)\n",
    "ax.axvline(np.mean(entropy_changes), c='r')"
   ]
  },
  {
   "cell_type": "code",
   "execution_count": 28,
   "id": "4d16f5d8",
   "metadata": {},
   "outputs": [
    {
     "data": {
      "text/plain": [
       "-2.7554259041923608"
      ]
     },
     "execution_count": 28,
     "metadata": {},
     "output_type": "execute_result"
    }
   ],
   "source": [
    "np.angle(np.sum(x))"
   ]
  },
  {
   "cell_type": "code",
   "execution_count": 14,
   "id": "04ad1c1d",
   "metadata": {},
   "outputs": [
    {
     "name": "stdout",
     "output_type": "stream",
     "text": [
      "(1.6329113924050633, 0.13453046806005298, 22.227272727272727, 1.787220026350461, 0.976459955842707, 0.09846113701698922)\n"
     ]
    }
   ],
   "source": [
    "print(spec_spat_features)"
   ]
  },
  {
   "cell_type": "code",
   "execution_count": 9,
   "id": "ad342e51",
   "metadata": {
    "scrolled": true
   },
   "outputs": [
    {
     "name": "stdout",
     "output_type": "stream",
     "text": [
      "Extracting parameters from /gpfs/data/brainstorm-ws/data/TRAINING/series_3/T1/preprocessed/0026_Pre_Session1_Series3_Preprocessed.set...\n",
      "Not setting metadata\n",
      "79 matching events found\n",
      "No baseline correction applied\n",
      "0 projection items activated\n",
      "Ready.\n",
      "Extracting parameters from /gpfs/data/brainstorm-ws/data/TRAINING/series_3/T2/preprocessed/0026_Post_Session1_Series3_Preprocessed.set...\n",
      "Not setting metadata\n",
      "86 matching events found\n"
     ]
    },
    {
     "name": "stderr",
     "output_type": "stream",
     "text": [
      "/tmp/ipykernel_134628/24770785.py:13: RuntimeWarning: At least one epoch has multiple events. Only the latency of the first event will be retained.\n",
      "  epochs = read_epochs_eeglab(fname)\n",
      "/tmp/ipykernel_134628/24770785.py:13: RuntimeWarning: At least one epoch has multiple events. Only the latency of the first event will be retained.\n",
      "  epochs = read_epochs_eeglab(fname)\n"
     ]
    },
    {
     "name": "stdout",
     "output_type": "stream",
     "text": [
      "No baseline correction applied\n",
      "0 projection items activated\n",
      "Ready.\n",
      "Found 203 global spectral events!!!\n",
      "Kept 107 events for analysis!!!\n",
      "shape: (107, 64, 299)\n",
      "> \u001b[0;32m/tmp/ipykernel_134628/2418046904.py\u001b[0m(28)\u001b[0;36mcross_spectral_decomp\u001b[0;34m()\u001b[0m\n",
      "\u001b[0;32m     26 \u001b[0;31m        \u001b[0mU\u001b[0m\u001b[0;34m,\u001b[0m \u001b[0ms\u001b[0m\u001b[0;34m,\u001b[0m \u001b[0mVh\u001b[0m \u001b[0;34m=\u001b[0m \u001b[0mnp\u001b[0m\u001b[0;34m.\u001b[0m\u001b[0mlinalg\u001b[0m\u001b[0;34m.\u001b[0m\u001b[0msvd\u001b[0m\u001b[0;34m(\u001b[0m\u001b[0mc_mat_agg\u001b[0m\u001b[0;34m.\u001b[0m\u001b[0mmean\u001b[0m\u001b[0;34m(\u001b[0m\u001b[0maxis\u001b[0m\u001b[0;34m=\u001b[0m\u001b[0;36m0\u001b[0m\u001b[0;34m)\u001b[0m\u001b[0;34m)\u001b[0m\u001b[0;34m\u001b[0m\u001b[0;34m\u001b[0m\u001b[0m\n",
      "\u001b[0m\u001b[0;32m     27 \u001b[0;31m        \u001b[0mpdb\u001b[0m\u001b[0;34m.\u001b[0m\u001b[0mset_trace\u001b[0m\u001b[0;34m(\u001b[0m\u001b[0;34m)\u001b[0m\u001b[0;34m\u001b[0m\u001b[0;34m\u001b[0m\u001b[0m\n",
      "\u001b[0m\u001b[0;32m---> 28 \u001b[0;31m        \u001b[0mcomp_1\u001b[0m\u001b[0;34m.\u001b[0m\u001b[0mappend\u001b[0m\u001b[0;34m(\u001b[0m\u001b[0mVh\u001b[0m\u001b[0;34m[\u001b[0m\u001b[0;36m0\u001b[0m\u001b[0;34m]\u001b[0m\u001b[0;34m)\u001b[0m\u001b[0;34m\u001b[0m\u001b[0;34m\u001b[0m\u001b[0m\n",
      "\u001b[0m\u001b[0;32m     29 \u001b[0;31m\u001b[0;34m\u001b[0m\u001b[0m\n",
      "\u001b[0m\u001b[0;32m     30 \u001b[0;31m    \u001b[0;32mreturn\u001b[0m \u001b[0mcomp_1\u001b[0m\u001b[0;34m[\u001b[0m\u001b[0;36m0\u001b[0m\u001b[0;34m]\u001b[0m\u001b[0;34m,\u001b[0m \u001b[0mcomp_1\u001b[0m\u001b[0;34m[\u001b[0m\u001b[0;36m1\u001b[0m\u001b[0;34m]\u001b[0m\u001b[0;34m\u001b[0m\u001b[0;34m\u001b[0m\u001b[0m\n",
      "\u001b[0m\n",
      "ipdb> Vh\n",
      "array([[-0.02588516, -0.09475999, -0.15976416, ...,  0.16787171,\n",
      "        -0.04988146,  0.04911718],\n",
      "       [ 0.20051307,  0.19050289,  0.12749832, ..., -0.11746141,\n",
      "        -0.12270424, -0.1242573 ],\n",
      "       [ 0.22110282,  0.2134898 ,  0.15863421, ..., -0.01589887,\n",
      "        -0.06105223,  0.07596627],\n",
      "       ...,\n",
      "       [ 0.00356599, -0.0206539 ,  0.0121998 , ..., -0.18590969,\n",
      "         0.18044825, -0.00777287],\n",
      "       [ 0.02974765, -0.002205  ,  0.00936559, ..., -0.52179642,\n",
      "        -0.02897513, -0.00964158],\n",
      "       [ 0.02522348, -0.02482114,  0.00144699, ..., -0.13465778,\n",
      "        -0.2347249 , -0.01456895]])\n",
      "ipdb> U\n",
      "array([[-0.02588516,  0.20051307, -0.22110282, ...,  0.00356599,\n",
      "        -0.02974765,  0.02522348],\n",
      "       [-0.09475999,  0.19050289, -0.2134898 , ..., -0.0206539 ,\n",
      "         0.002205  , -0.02482114],\n",
      "       [-0.15976416,  0.12749832, -0.15863421, ...,  0.0121998 ,\n",
      "        -0.00936559,  0.00144699],\n",
      "       ...,\n",
      "       [ 0.16787171, -0.11746141,  0.01589887, ..., -0.18590969,\n",
      "         0.52179642, -0.13465778],\n",
      "       [-0.04988146, -0.12270424,  0.06105223, ...,  0.18044825,\n",
      "         0.02897513, -0.2347249 ],\n",
      "       [ 0.04911718, -0.1242573 , -0.07596627, ..., -0.00777287,\n",
      "         0.00964158, -0.01456895]])\n",
      "ipdb> Vh[0]\n",
      "array([-0.02588516, -0.09475999, -0.15976416,  0.08577057,  0.0181932 ,\n",
      "       -0.06907574, -0.13285715, -0.18002716,  0.14552154,  0.00832164,\n",
      "       -0.1298837 , -0.17099844,  0.09674265,  0.21612538,  0.12383706,\n",
      "       -0.06650782, -0.15251168, -0.16597388, -0.09701305,  0.22033865,\n",
      "        0.08478766, -0.10200232, -0.16285835,  0.17202839,  0.15050999,\n",
      "       -0.03692552, -0.04546824, -0.08256464, -0.04608541,  0.10316917,\n",
      "       -0.0446335 , -0.02597866,  0.04818873,  0.00152066, -0.13383026,\n",
      "       -0.17517047,  0.07238011,  0.00704463, -0.129107  , -0.17941169,\n",
      "        0.07831008, -0.0689895 , -0.16120558,  0.20009676,  0.03969868,\n",
      "       -0.12591993, -0.16427919,  0.16749404, -0.14498133,  0.18036092,\n",
      "       -0.03750974, -0.04430754, -0.08166614,  0.16663949,  0.16959328,\n",
      "       -0.04930906, -0.04623476,  0.12681158, -0.15329038,  0.22714735,\n",
      "       -0.1578155 ,  0.16787171, -0.04988146,  0.04911718])\n",
      "ipdb> U[0]\n",
      "array([-0.02588516,  0.20051307, -0.22110282, -0.1625904 , -0.08683391,\n",
      "       -0.08177755, -0.10454264, -0.01546505, -0.15500549,  0.19428176,\n",
      "       -0.04489671, -0.03583023,  0.11697262,  0.0378094 ,  0.12042448,\n",
      "       -0.11580041, -0.02884895,  0.03569558,  0.18728614, -0.01747265,\n",
      "       -0.01049177,  0.02889934,  0.05086629,  0.14326266,  0.26979103,\n",
      "        0.18119369,  0.15867728,  0.05497068,  0.09548345, -0.04444846,\n",
      "        0.00887686,  0.23405817,  0.36721532,  0.21380365, -0.14064621,\n",
      "        0.00823114,  0.03123896, -0.22372221,  0.05058369, -0.30075915,\n",
      "        0.06028493, -0.07802366,  0.13928956,  0.05726105, -0.16725555,\n",
      "        0.16946752,  0.16012808, -0.03920016, -0.01812576,  0.00410556,\n",
      "       -0.07945145,  0.00808185, -0.03682533,  0.05463273, -0.06435531,\n",
      "        0.003494  ,  0.06494653, -0.01082088,  0.0644308 ,  0.00934482,\n",
      "       -0.05424966,  0.00356599, -0.02974765,  0.02522348])\n",
      "ipdb> U.T[0]\n",
      "array([-0.02588516, -0.09475999, -0.15976416,  0.08577057,  0.0181932 ,\n",
      "       -0.06907574, -0.13285715, -0.18002716,  0.14552154,  0.00832164,\n",
      "       -0.1298837 , -0.17099844,  0.09674265,  0.21612538,  0.12383706,\n",
      "       -0.06650782, -0.15251168, -0.16597388, -0.09701305,  0.22033865,\n",
      "        0.08478766, -0.10200232, -0.16285835,  0.17202839,  0.15050999,\n",
      "       -0.03692552, -0.04546824, -0.08256464, -0.04608541,  0.10316917,\n",
      "       -0.0446335 , -0.02597866,  0.04818873,  0.00152066, -0.13383026,\n",
      "       -0.17517047,  0.07238011,  0.00704463, -0.129107  , -0.17941169,\n",
      "        0.07831008, -0.0689895 , -0.16120558,  0.20009676,  0.03969868,\n",
      "       -0.12591993, -0.16427919,  0.16749404, -0.14498133,  0.18036092,\n",
      "       -0.03750974, -0.04430754, -0.08166614,  0.16663949,  0.16959328,\n",
      "       -0.04930906, -0.04623476,  0.12681158, -0.15329038,  0.22714735,\n",
      "       -0.1578155 ,  0.16787171, -0.04988146,  0.04911718])\n",
      "ipdb> exit\n"
     ]
    },
    {
     "ename": "BdbQuit",
     "evalue": "",
     "output_type": "error",
     "traceback": [
      "\u001b[0;31m---------------------------------------------------------------------------\u001b[0m",
      "\u001b[0;31mBdbQuit\u001b[0m                                   Traceback (most recent call last)",
      "\u001b[0;32m/tmp/ipykernel_134628/974457523.py\u001b[0m in \u001b[0;36m<cell line: 3>\u001b[0;34m()\u001b[0m\n\u001b[1;32m      1\u001b[0m \u001b[0;31m# test analysis pipeline\u001b[0m\u001b[0;34m\u001b[0m\u001b[0;34m\u001b[0m\u001b[0;34m\u001b[0m\u001b[0m\n\u001b[1;32m      2\u001b[0m \u001b[0mdata_type_dir\u001b[0m \u001b[0;34m=\u001b[0m \u001b[0mop\u001b[0m\u001b[0;34m.\u001b[0m\u001b[0mjoin\u001b[0m\u001b[0;34m(\u001b[0m\u001b[0mdata_dir\u001b[0m\u001b[0;34m,\u001b[0m \u001b[0mdata_type\u001b[0m\u001b[0;34m)\u001b[0m\u001b[0;34m\u001b[0m\u001b[0;34m\u001b[0m\u001b[0m\n\u001b[0;32m----> 3\u001b[0;31m \u001b[0mspec_spat_features\u001b[0m \u001b[0;34m=\u001b[0m \u001b[0mget_features\u001b[0m\u001b[0;34m(\u001b[0m\u001b[0msubj_ids\u001b[0m\u001b[0;34m[\u001b[0m\u001b[0;36m0\u001b[0m\u001b[0;34m]\u001b[0m\u001b[0;34m,\u001b[0m \u001b[0mseries_nums\u001b[0m\u001b[0;34m[\u001b[0m\u001b[0;36m0\u001b[0m\u001b[0;34m]\u001b[0m\u001b[0;34m,\u001b[0m \u001b[0mdata_type_dir\u001b[0m\u001b[0;34m)\u001b[0m\u001b[0;34m\u001b[0m\u001b[0;34m\u001b[0m\u001b[0m\n\u001b[0m\u001b[1;32m      4\u001b[0m \u001b[0;34m\u001b[0m\u001b[0m\n\u001b[1;32m      5\u001b[0m \u001b[0;31m# plot two successive post-event topographies in the pre-TMS session\u001b[0m\u001b[0;34m\u001b[0m\u001b[0;34m\u001b[0m\u001b[0;34m\u001b[0m\u001b[0m\n",
      "\u001b[0;32m/tmp/ipykernel_134628/2418046904.py\u001b[0m in \u001b[0;36mget_features\u001b[0;34m(subj_id, series_num, data_dir)\u001b[0m\n\u001b[1;32m    156\u001b[0m     \u001b[0;34m'''Main pipeline for computing all features for a given subject.'''\u001b[0m\u001b[0;34m\u001b[0m\u001b[0;34m\u001b[0m\u001b[0m\n\u001b[1;32m    157\u001b[0m     \u001b[0mepochs_pre_post\u001b[0m\u001b[0;34m,\u001b[0m \u001b[0m_\u001b[0m\u001b[0;34m,\u001b[0m \u001b[0mtimes\u001b[0m \u001b[0;34m=\u001b[0m \u001b[0mread_data\u001b[0m\u001b[0;34m(\u001b[0m\u001b[0msubj_id\u001b[0m\u001b[0;34m,\u001b[0m \u001b[0mseries_num\u001b[0m\u001b[0;34m,\u001b[0m \u001b[0mdata_dir\u001b[0m\u001b[0;34m)\u001b[0m\u001b[0;34m\u001b[0m\u001b[0;34m\u001b[0m\u001b[0m\n\u001b[0;32m--> 158\u001b[0;31m     \u001b[0mfeatures\u001b[0m \u001b[0;34m=\u001b[0m \u001b[0mspec_spat_events\u001b[0m\u001b[0;34m(\u001b[0m\u001b[0mepochs_pre_post\u001b[0m\u001b[0;34m,\u001b[0m \u001b[0mtimes\u001b[0m\u001b[0;34m)\u001b[0m\u001b[0;34m\u001b[0m\u001b[0;34m\u001b[0m\u001b[0m\n\u001b[0m\u001b[1;32m    159\u001b[0m     \u001b[0;32mreturn\u001b[0m \u001b[0mfeatures\u001b[0m\u001b[0;34m\u001b[0m\u001b[0;34m\u001b[0m\u001b[0m\n",
      "\u001b[0;32m/tmp/ipykernel_134628/2418046904.py\u001b[0m in \u001b[0;36mspec_spat_events\u001b[0;34m(epochs_pre_post, times)\u001b[0m\n\u001b[1;32m    134\u001b[0m         \u001b[0mlag\u001b[0m \u001b[0;34m=\u001b[0m \u001b[0mint\u001b[0m\u001b[0;34m(\u001b[0m\u001b[0mround\u001b[0m\u001b[0;34m(\u001b[0m\u001b[0msamp_freq\u001b[0m \u001b[0;34m/\u001b[0m \u001b[0mpeak_freq_avg\u001b[0m\u001b[0;34m)\u001b[0m\u001b[0;34m)\u001b[0m  \u001b[0;31m# time lag in number of samples (i.e., indices)\u001b[0m\u001b[0;34m\u001b[0m\u001b[0;34m\u001b[0m\u001b[0m\n\u001b[1;32m    135\u001b[0m \u001b[0;34m\u001b[0m\u001b[0m\n\u001b[0;32m--> 136\u001b[0;31m         \u001b[0mcs_comp1\u001b[0m\u001b[0;34m,\u001b[0m \u001b[0mcs_comp2\u001b[0m \u001b[0;34m=\u001b[0m \u001b[0mcross_spectral_decomp\u001b[0m\u001b[0;34m(\u001b[0m\u001b[0mevent_windows_agg\u001b[0m\u001b[0;34m,\u001b[0m \u001b[0mlag\u001b[0m\u001b[0;34m)\u001b[0m\u001b[0;34m\u001b[0m\u001b[0;34m\u001b[0m\u001b[0m\n\u001b[0m\u001b[1;32m    137\u001b[0m         \u001b[0mcs_comp_change\u001b[0m \u001b[0;34m=\u001b[0m \u001b[0mnp\u001b[0m\u001b[0;34m.\u001b[0m\u001b[0mlinalg\u001b[0m\u001b[0;34m.\u001b[0m\u001b[0mnorm\u001b[0m\u001b[0;34m(\u001b[0m\u001b[0mcs_comp2\u001b[0m \u001b[0;34m-\u001b[0m \u001b[0mcs_comp1\u001b[0m\u001b[0;34m)\u001b[0m\u001b[0;34m\u001b[0m\u001b[0;34m\u001b[0m\u001b[0m\n\u001b[1;32m    138\u001b[0m \u001b[0;34m\u001b[0m\u001b[0m\n",
      "\u001b[0;32m/tmp/ipykernel_134628/2418046904.py\u001b[0m in \u001b[0;36mcross_spectral_decomp\u001b[0;34m(event_windows, lag)\u001b[0m\n\u001b[1;32m     26\u001b[0m         \u001b[0mU\u001b[0m\u001b[0;34m,\u001b[0m \u001b[0ms\u001b[0m\u001b[0;34m,\u001b[0m \u001b[0mVh\u001b[0m \u001b[0;34m=\u001b[0m \u001b[0mnp\u001b[0m\u001b[0;34m.\u001b[0m\u001b[0mlinalg\u001b[0m\u001b[0;34m.\u001b[0m\u001b[0msvd\u001b[0m\u001b[0;34m(\u001b[0m\u001b[0mc_mat_agg\u001b[0m\u001b[0;34m.\u001b[0m\u001b[0mmean\u001b[0m\u001b[0;34m(\u001b[0m\u001b[0maxis\u001b[0m\u001b[0;34m=\u001b[0m\u001b[0;36m0\u001b[0m\u001b[0;34m)\u001b[0m\u001b[0;34m)\u001b[0m\u001b[0;34m\u001b[0m\u001b[0;34m\u001b[0m\u001b[0m\n\u001b[1;32m     27\u001b[0m         \u001b[0mpdb\u001b[0m\u001b[0;34m.\u001b[0m\u001b[0mset_trace\u001b[0m\u001b[0;34m(\u001b[0m\u001b[0;34m)\u001b[0m\u001b[0;34m\u001b[0m\u001b[0;34m\u001b[0m\u001b[0m\n\u001b[0;32m---> 28\u001b[0;31m         \u001b[0mcomp_1\u001b[0m\u001b[0;34m.\u001b[0m\u001b[0mappend\u001b[0m\u001b[0;34m(\u001b[0m\u001b[0mVh\u001b[0m\u001b[0;34m[\u001b[0m\u001b[0;36m0\u001b[0m\u001b[0;34m]\u001b[0m\u001b[0;34m)\u001b[0m\u001b[0;34m\u001b[0m\u001b[0;34m\u001b[0m\u001b[0m\n\u001b[0m\u001b[1;32m     29\u001b[0m \u001b[0;34m\u001b[0m\u001b[0m\n\u001b[1;32m     30\u001b[0m     \u001b[0;32mreturn\u001b[0m \u001b[0mcomp_1\u001b[0m\u001b[0;34m[\u001b[0m\u001b[0;36m0\u001b[0m\u001b[0;34m]\u001b[0m\u001b[0;34m,\u001b[0m \u001b[0mcomp_1\u001b[0m\u001b[0;34m[\u001b[0m\u001b[0;36m1\u001b[0m\u001b[0;34m]\u001b[0m\u001b[0;34m\u001b[0m\u001b[0;34m\u001b[0m\u001b[0m\n",
      "\u001b[0;32m/tmp/ipykernel_134628/2418046904.py\u001b[0m in \u001b[0;36mcross_spectral_decomp\u001b[0;34m(event_windows, lag)\u001b[0m\n\u001b[1;32m     26\u001b[0m         \u001b[0mU\u001b[0m\u001b[0;34m,\u001b[0m \u001b[0ms\u001b[0m\u001b[0;34m,\u001b[0m \u001b[0mVh\u001b[0m \u001b[0;34m=\u001b[0m \u001b[0mnp\u001b[0m\u001b[0;34m.\u001b[0m\u001b[0mlinalg\u001b[0m\u001b[0;34m.\u001b[0m\u001b[0msvd\u001b[0m\u001b[0;34m(\u001b[0m\u001b[0mc_mat_agg\u001b[0m\u001b[0;34m.\u001b[0m\u001b[0mmean\u001b[0m\u001b[0;34m(\u001b[0m\u001b[0maxis\u001b[0m\u001b[0;34m=\u001b[0m\u001b[0;36m0\u001b[0m\u001b[0;34m)\u001b[0m\u001b[0;34m)\u001b[0m\u001b[0;34m\u001b[0m\u001b[0;34m\u001b[0m\u001b[0m\n\u001b[1;32m     27\u001b[0m         \u001b[0mpdb\u001b[0m\u001b[0;34m.\u001b[0m\u001b[0mset_trace\u001b[0m\u001b[0;34m(\u001b[0m\u001b[0;34m)\u001b[0m\u001b[0;34m\u001b[0m\u001b[0;34m\u001b[0m\u001b[0m\n\u001b[0;32m---> 28\u001b[0;31m         \u001b[0mcomp_1\u001b[0m\u001b[0;34m.\u001b[0m\u001b[0mappend\u001b[0m\u001b[0;34m(\u001b[0m\u001b[0mVh\u001b[0m\u001b[0;34m[\u001b[0m\u001b[0;36m0\u001b[0m\u001b[0;34m]\u001b[0m\u001b[0;34m)\u001b[0m\u001b[0;34m\u001b[0m\u001b[0;34m\u001b[0m\u001b[0m\n\u001b[0m\u001b[1;32m     29\u001b[0m \u001b[0;34m\u001b[0m\u001b[0m\n\u001b[1;32m     30\u001b[0m     \u001b[0;32mreturn\u001b[0m \u001b[0mcomp_1\u001b[0m\u001b[0;34m[\u001b[0m\u001b[0;36m0\u001b[0m\u001b[0;34m]\u001b[0m\u001b[0;34m,\u001b[0m \u001b[0mcomp_1\u001b[0m\u001b[0;34m[\u001b[0m\u001b[0;36m1\u001b[0m\u001b[0;34m]\u001b[0m\u001b[0;34m\u001b[0m\u001b[0;34m\u001b[0m\u001b[0m\n",
      "\u001b[0;32m~/envs/brainstorm_env/lib/python3.8/bdb.py\u001b[0m in \u001b[0;36mtrace_dispatch\u001b[0;34m(self, frame, event, arg)\u001b[0m\n\u001b[1;32m     86\u001b[0m             \u001b[0;32mreturn\u001b[0m \u001b[0;31m# None\u001b[0m\u001b[0;34m\u001b[0m\u001b[0;34m\u001b[0m\u001b[0m\n\u001b[1;32m     87\u001b[0m         \u001b[0;32mif\u001b[0m \u001b[0mevent\u001b[0m \u001b[0;34m==\u001b[0m \u001b[0;34m'line'\u001b[0m\u001b[0;34m:\u001b[0m\u001b[0;34m\u001b[0m\u001b[0;34m\u001b[0m\u001b[0m\n\u001b[0;32m---> 88\u001b[0;31m             \u001b[0;32mreturn\u001b[0m \u001b[0mself\u001b[0m\u001b[0;34m.\u001b[0m\u001b[0mdispatch_line\u001b[0m\u001b[0;34m(\u001b[0m\u001b[0mframe\u001b[0m\u001b[0;34m)\u001b[0m\u001b[0;34m\u001b[0m\u001b[0;34m\u001b[0m\u001b[0m\n\u001b[0m\u001b[1;32m     89\u001b[0m         \u001b[0;32mif\u001b[0m \u001b[0mevent\u001b[0m \u001b[0;34m==\u001b[0m \u001b[0;34m'call'\u001b[0m\u001b[0;34m:\u001b[0m\u001b[0;34m\u001b[0m\u001b[0;34m\u001b[0m\u001b[0m\n\u001b[1;32m     90\u001b[0m             \u001b[0;32mreturn\u001b[0m \u001b[0mself\u001b[0m\u001b[0;34m.\u001b[0m\u001b[0mdispatch_call\u001b[0m\u001b[0;34m(\u001b[0m\u001b[0mframe\u001b[0m\u001b[0;34m,\u001b[0m \u001b[0marg\u001b[0m\u001b[0;34m)\u001b[0m\u001b[0;34m\u001b[0m\u001b[0;34m\u001b[0m\u001b[0m\n",
      "\u001b[0;32m~/envs/brainstorm_env/lib/python3.8/bdb.py\u001b[0m in \u001b[0;36mdispatch_line\u001b[0;34m(self, frame)\u001b[0m\n\u001b[1;32m    111\u001b[0m         \u001b[0;32mif\u001b[0m \u001b[0mself\u001b[0m\u001b[0;34m.\u001b[0m\u001b[0mstop_here\u001b[0m\u001b[0;34m(\u001b[0m\u001b[0mframe\u001b[0m\u001b[0;34m)\u001b[0m \u001b[0;32mor\u001b[0m \u001b[0mself\u001b[0m\u001b[0;34m.\u001b[0m\u001b[0mbreak_here\u001b[0m\u001b[0;34m(\u001b[0m\u001b[0mframe\u001b[0m\u001b[0;34m)\u001b[0m\u001b[0;34m:\u001b[0m\u001b[0;34m\u001b[0m\u001b[0;34m\u001b[0m\u001b[0m\n\u001b[1;32m    112\u001b[0m             \u001b[0mself\u001b[0m\u001b[0;34m.\u001b[0m\u001b[0muser_line\u001b[0m\u001b[0;34m(\u001b[0m\u001b[0mframe\u001b[0m\u001b[0;34m)\u001b[0m\u001b[0;34m\u001b[0m\u001b[0;34m\u001b[0m\u001b[0m\n\u001b[0;32m--> 113\u001b[0;31m             \u001b[0;32mif\u001b[0m \u001b[0mself\u001b[0m\u001b[0;34m.\u001b[0m\u001b[0mquitting\u001b[0m\u001b[0;34m:\u001b[0m \u001b[0;32mraise\u001b[0m \u001b[0mBdbQuit\u001b[0m\u001b[0;34m\u001b[0m\u001b[0;34m\u001b[0m\u001b[0m\n\u001b[0m\u001b[1;32m    114\u001b[0m         \u001b[0;32mreturn\u001b[0m \u001b[0mself\u001b[0m\u001b[0;34m.\u001b[0m\u001b[0mtrace_dispatch\u001b[0m\u001b[0;34m\u001b[0m\u001b[0;34m\u001b[0m\u001b[0m\n\u001b[1;32m    115\u001b[0m \u001b[0;34m\u001b[0m\u001b[0m\n",
      "\u001b[0;31mBdbQuit\u001b[0m: "
     ]
    }
   ],
   "source": [
    "# test analysis pipeline\n",
    "data_type_dir = op.join(data_dir, data_type)\n",
    "spec_spat_features = get_features(subj_ids[0], series_nums[0], data_type_dir)\n",
    "\n",
    "# plot two successive post-event topographies in the pre-TMS session\n",
    "_, epochs_info, _ = read_data(subj_ids[0], series_nums[0], data_type_dir)\n",
    "fig, axes = plt.subplots(1, 2)\n",
    "im_1, _ = plot_topomap(spec_spat_features[4][0][0], epochs_info, axes=axes[0],\n",
    "                       vmin=-0.2, vmax=0.2, show=False)\n",
    "plt.colorbar(im_1, ax=axes[0], fraction=0.05)\n",
    "im_2, _ = plot_topomap(spec_spat_features[4][0][1], epochs_info, axes=axes[1],\n",
    "                       vmin=-0.2, vmax=0.2, show=True)\n",
    "plt.colorbar(im_2, ax=axes[1], fraction=0.05)"
   ]
  },
  {
   "cell_type": "markdown",
   "id": "861c14c1",
   "metadata": {},
   "source": [
    "## Run main pipeline for feature extraction"
   ]
  },
  {
   "cell_type": "code",
   "execution_count": 15,
   "id": "c8ebe557",
   "metadata": {
    "scrolled": true
   },
   "outputs": [
    {
     "name": "stdout",
     "output_type": "stream",
     "text": [
      "Extracting parameters from /gpfs/data/brainstorm-ws/data/TRAINING/series_3/T1/preprocessed/0026_Pre_Session1_Series3_Preprocessed.set...\n",
      "Not setting metadata\n",
      "79 matching events found\n",
      "No baseline correction applied\n",
      "0 projection items activated\n",
      "Ready.\n",
      "Extracting parameters from /gpfs/data/brainstorm-ws/data/TRAINING/series_3/T2/preprocessed/0026_Post_Session1_Series3_Preprocessed.set...\n",
      "Not setting metadata\n",
      "86 matching events found\n"
     ]
    },
    {
     "name": "stderr",
     "output_type": "stream",
     "text": [
      "/tmp/ipykernel_53240/2441085883.py:13: RuntimeWarning: At least one epoch has multiple events. Only the latency of the first event will be retained.\n",
      "  epochs = read_epochs_eeglab(fname)\n",
      "/tmp/ipykernel_53240/2441085883.py:13: RuntimeWarning: At least one epoch has multiple events. Only the latency of the first event will be retained.\n",
      "  epochs = read_epochs_eeglab(fname)\n"
     ]
    },
    {
     "name": "stdout",
     "output_type": "stream",
     "text": [
      "No baseline correction applied\n",
      "0 projection items activated\n",
      "Ready.\n",
      "Found 129 global spectral events in this session!!!\n",
      "Kept 66 events for analysis in this session!!!\n",
      "Found 152 global spectral events in this session!!!\n",
      "Kept 69 events for analysis in this session!!!\n",
      "Extracting parameters from /gpfs/data/brainstorm-ws/data/TRAINING/series_4/T1/preprocessed/0091_Pre_Session1_Series4_Preprocessed.set...\n",
      "Not setting metadata\n",
      "80 matching events found\n",
      "No baseline correction applied\n",
      "0 projection items activated\n",
      "Ready.\n",
      "Extracting parameters from /gpfs/data/brainstorm-ws/data/TRAINING/series_4/T2/preprocessed/0091_Post_Session1_Series4_Preprocessed.set...\n",
      "Not setting metadata\n",
      "56 matching events found\n",
      "No baseline correction applied\n",
      "0 projection items activated\n",
      "Ready.\n"
     ]
    },
    {
     "name": "stderr",
     "output_type": "stream",
     "text": [
      "/tmp/ipykernel_53240/2441085883.py:13: RuntimeWarning: At least one epoch has multiple events. Only the latency of the first event will be retained.\n",
      "  epochs = read_epochs_eeglab(fname)\n",
      "/tmp/ipykernel_53240/2441085883.py:13: RuntimeWarning: At least one epoch has multiple events. Only the latency of the first event will be retained.\n",
      "  epochs = read_epochs_eeglab(fname)\n"
     ]
    },
    {
     "name": "stdout",
     "output_type": "stream",
     "text": [
      "Found 142 global spectral events in this session!!!\n",
      "Kept 64 events for analysis in this session!!!\n",
      "Found 87 global spectral events in this session!!!\n",
      "Kept 47 events for analysis in this session!!!\n",
      "Extracting parameters from /gpfs/data/brainstorm-ws/data/TRAINING/series_3/T1/preprocessed/0116_Pre_Session1_Series3_Preprocessed.set...\n",
      "Not setting metadata\n",
      "75 matching events found\n",
      "No baseline correction applied\n",
      "0 projection items activated\n",
      "Ready.\n",
      "Extracting parameters from /gpfs/data/brainstorm-ws/data/TRAINING/series_3/T2/preprocessed/0116_Post_Session1_Series3_Preprocessed.set...\n",
      "Not setting metadata\n",
      "72 matching events found\n"
     ]
    },
    {
     "name": "stderr",
     "output_type": "stream",
     "text": [
      "/tmp/ipykernel_53240/2441085883.py:13: RuntimeWarning: At least one epoch has multiple events. Only the latency of the first event will be retained.\n",
      "  epochs = read_epochs_eeglab(fname)\n",
      "/tmp/ipykernel_53240/2441085883.py:13: RuntimeWarning: At least one epoch has multiple events. Only the latency of the first event will be retained.\n",
      "  epochs = read_epochs_eeglab(fname)\n"
     ]
    },
    {
     "name": "stdout",
     "output_type": "stream",
     "text": [
      "No baseline correction applied\n",
      "0 projection items activated\n",
      "Ready.\n",
      "Found 110 global spectral events in this session!!!\n",
      "Kept 53 events for analysis in this session!!!\n",
      "Found 129 global spectral events in this session!!!\n",
      "Kept 67 events for analysis in this session!!!\n",
      "Extracting parameters from /gpfs/data/brainstorm-ws/data/TRAINING/series_2/T1/preprocessed/0167_Pre_Session1_Series2_Preprocessed.set...\n",
      "Not setting metadata\n",
      "96 matching events found\n",
      "No baseline correction applied\n",
      "0 projection items activated\n",
      "Ready.\n",
      "Extracting parameters from /gpfs/data/brainstorm-ws/data/TRAINING/series_2/T2/preprocessed/0167_Post_Session1_Series2_Preprocessed.set...\n"
     ]
    },
    {
     "name": "stderr",
     "output_type": "stream",
     "text": [
      "/tmp/ipykernel_53240/2441085883.py:13: RuntimeWarning: At least one epoch has multiple events. Only the latency of the first event will be retained.\n",
      "  epochs = read_epochs_eeglab(fname)\n",
      "/tmp/ipykernel_53240/2441085883.py:13: RuntimeWarning: At least one epoch has multiple events. Only the latency of the first event will be retained.\n",
      "  epochs = read_epochs_eeglab(fname)\n"
     ]
    },
    {
     "name": "stdout",
     "output_type": "stream",
     "text": [
      "Not setting metadata\n",
      "100 matching events found\n",
      "No baseline correction applied\n",
      "0 projection items activated\n",
      "Ready.\n",
      "Found 120 global spectral events in this session!!!\n",
      "Kept 65 events for analysis in this session!!!\n",
      "Found 117 global spectral events in this session!!!\n",
      "Kept 69 events for analysis in this session!!!\n",
      "Extracting parameters from /gpfs/data/brainstorm-ws/data/TRAINING/series_3/T1/preprocessed/0192_Pre_Session1_Series3_Preprocessed.set...\n",
      "Not setting metadata\n",
      "25 matching events found\n",
      "No baseline correction applied\n",
      "0 projection items activated\n",
      "Ready.\n",
      "Extracting parameters from /gpfs/data/brainstorm-ws/data/TRAINING/series_3/T2/preprocessed/0192_Post_Session1_Series3_Preprocessed.set...\n",
      "Not setting metadata\n",
      "79 matching events found\n",
      "No baseline correction applied\n",
      "0 projection items activated\n",
      "Ready.\n"
     ]
    },
    {
     "name": "stderr",
     "output_type": "stream",
     "text": [
      "/tmp/ipykernel_53240/2441085883.py:13: RuntimeWarning: At least one epoch has multiple events. Only the latency of the first event will be retained.\n",
      "  epochs = read_epochs_eeglab(fname)\n",
      "/tmp/ipykernel_53240/2441085883.py:13: RuntimeWarning: At least one epoch has multiple events. Only the latency of the first event will be retained.\n",
      "  epochs = read_epochs_eeglab(fname)\n"
     ]
    },
    {
     "name": "stdout",
     "output_type": "stream",
     "text": [
      "Found 42 global spectral events in this session!!!\n",
      "Kept 21 events for analysis in this session!!!\n",
      "Found 100 global spectral events in this session!!!\n",
      "Kept 49 events for analysis in this session!!!\n",
      "Extracting parameters from /gpfs/data/brainstorm-ws/data/TRAINING/series_4/T1/preprocessed/0192_Pre_Session1_Series4_Preprocessed.set...\n",
      "Not setting metadata\n",
      "103 matching events found\n",
      "No baseline correction applied\n",
      "0 projection items activated\n",
      "Ready.\n",
      "Extracting parameters from /gpfs/data/brainstorm-ws/data/TRAINING/series_4/T2/preprocessed/0192_Post_Session1_Series4_Preprocessed.set...\n"
     ]
    },
    {
     "name": "stderr",
     "output_type": "stream",
     "text": [
      "/tmp/ipykernel_53240/2441085883.py:13: RuntimeWarning: At least one epoch has multiple events. Only the latency of the first event will be retained.\n",
      "  epochs = read_epochs_eeglab(fname)\n",
      "/tmp/ipykernel_53240/2441085883.py:13: RuntimeWarning: At least one epoch has multiple events. Only the latency of the first event will be retained.\n",
      "  epochs = read_epochs_eeglab(fname)\n"
     ]
    },
    {
     "name": "stdout",
     "output_type": "stream",
     "text": [
      "Not setting metadata\n",
      "118 matching events found\n",
      "No baseline correction applied\n",
      "0 projection items activated\n",
      "Ready.\n",
      "Found 169 global spectral events in this session!!!\n",
      "Kept 80 events for analysis in this session!!!\n",
      "Found 197 global spectral events in this session!!!\n",
      "Kept 98 events for analysis in this session!!!\n",
      "Extracting parameters from /gpfs/data/brainstorm-ws/data/TRAINING/series_1/T1/preprocessed/0246_Pre_Session1_Series1_Preprocessed.set...\n",
      "Not setting metadata\n",
      "68 matching events found\n",
      "No baseline correction applied\n",
      "0 projection items activated\n",
      "Ready.\n",
      "Extracting parameters from /gpfs/data/brainstorm-ws/data/TRAINING/series_1/T2/preprocessed/0246_Post_Session1_Series1_Preprocessed.set...\n",
      "Not setting metadata\n",
      "86 matching events found\n"
     ]
    },
    {
     "name": "stderr",
     "output_type": "stream",
     "text": [
      "/tmp/ipykernel_53240/2441085883.py:13: RuntimeWarning: At least one epoch has multiple events. Only the latency of the first event will be retained.\n",
      "  epochs = read_epochs_eeglab(fname)\n",
      "/tmp/ipykernel_53240/2441085883.py:13: RuntimeWarning: At least one epoch has multiple events. Only the latency of the first event will be retained.\n",
      "  epochs = read_epochs_eeglab(fname)\n"
     ]
    },
    {
     "name": "stdout",
     "output_type": "stream",
     "text": [
      "No baseline correction applied\n",
      "0 projection items activated\n",
      "Ready.\n",
      "Found 103 global spectral events in this session!!!\n",
      "Kept 58 events for analysis in this session!!!\n",
      "Found 173 global spectral events in this session!!!\n",
      "Kept 89 events for analysis in this session!!!\n",
      "Extracting parameters from /gpfs/data/brainstorm-ws/data/TRAINING/series_1/T1/preprocessed/0249_Pre_Session1_Series1_Preprocessed.set...\n",
      "Not setting metadata\n",
      "72 matching events found\n",
      "No baseline correction applied\n",
      "0 projection items activated\n",
      "Ready.\n",
      "Extracting parameters from /gpfs/data/brainstorm-ws/data/TRAINING/series_1/T2/preprocessed/0249_Post_Session1_Series1_Preprocessed.set...\n",
      "Not setting metadata\n",
      "43 matching events found\n"
     ]
    },
    {
     "name": "stderr",
     "output_type": "stream",
     "text": [
      "/tmp/ipykernel_53240/2441085883.py:13: RuntimeWarning: At least one epoch has multiple events. Only the latency of the first event will be retained.\n",
      "  epochs = read_epochs_eeglab(fname)\n",
      "/tmp/ipykernel_53240/2441085883.py:13: RuntimeWarning: At least one epoch has multiple events. Only the latency of the first event will be retained.\n",
      "  epochs = read_epochs_eeglab(fname)\n"
     ]
    },
    {
     "name": "stdout",
     "output_type": "stream",
     "text": [
      "No baseline correction applied\n",
      "0 projection items activated\n",
      "Ready.\n",
      "Found 89 global spectral events in this session!!!\n",
      "Kept 46 events for analysis in this session!!!\n",
      "Found 53 global spectral events in this session!!!\n",
      "Kept 27 events for analysis in this session!!!\n",
      "Extracting parameters from /gpfs/data/brainstorm-ws/data/TRAINING/series_1/T1/preprocessed/0250_Pre_Session1_Series1_Preprocessed.set...\n",
      "Not setting metadata\n",
      "89 matching events found\n",
      "No baseline correction applied\n",
      "0 projection items activated\n",
      "Ready.\n",
      "Extracting parameters from /gpfs/data/brainstorm-ws/data/TRAINING/series_1/T2/preprocessed/0250_Post_Session1_Series1_Preprocessed.set...\n",
      "Not setting metadata\n",
      "73 matching events found\n"
     ]
    },
    {
     "name": "stderr",
     "output_type": "stream",
     "text": [
      "/tmp/ipykernel_53240/2441085883.py:13: RuntimeWarning: At least one epoch has multiple events. Only the latency of the first event will be retained.\n",
      "  epochs = read_epochs_eeglab(fname)\n",
      "/tmp/ipykernel_53240/2441085883.py:13: RuntimeWarning: At least one epoch has multiple events. Only the latency of the first event will be retained.\n",
      "  epochs = read_epochs_eeglab(fname)\n"
     ]
    },
    {
     "name": "stdout",
     "output_type": "stream",
     "text": [
      "No baseline correction applied\n",
      "0 projection items activated\n",
      "Ready.\n",
      "Found 154 global spectral events in this session!!!\n",
      "Kept 81 events for analysis in this session!!!\n",
      "Found 118 global spectral events in this session!!!\n",
      "Kept 63 events for analysis in this session!!!\n",
      "Extracting parameters from /gpfs/data/brainstorm-ws/data/TRAINING/series_1/T1/preprocessed/0255_Pre_Session1_Series1_Preprocessed.set...\n",
      "Not setting metadata\n",
      "81 matching events found\n",
      "No baseline correction applied\n",
      "0 projection items activated\n",
      "Ready.\n",
      "Extracting parameters from /gpfs/data/brainstorm-ws/data/TRAINING/series_1/T2/preprocessed/0255_Post_Session1_Series1_Preprocessed.set...\n"
     ]
    },
    {
     "name": "stderr",
     "output_type": "stream",
     "text": [
      "/tmp/ipykernel_53240/2441085883.py:13: RuntimeWarning: At least one epoch has multiple events. Only the latency of the first event will be retained.\n",
      "  epochs = read_epochs_eeglab(fname)\n",
      "/tmp/ipykernel_53240/2441085883.py:13: RuntimeWarning: At least one epoch has multiple events. Only the latency of the first event will be retained.\n",
      "  epochs = read_epochs_eeglab(fname)\n"
     ]
    },
    {
     "name": "stdout",
     "output_type": "stream",
     "text": [
      "Not setting metadata\n",
      "67 matching events found\n",
      "No baseline correction applied\n",
      "0 projection items activated\n",
      "Ready.\n",
      "Found 105 global spectral events in this session!!!\n",
      "Kept 49 events for analysis in this session!!!\n",
      "Found 93 global spectral events in this session!!!\n",
      "Kept 44 events for analysis in this session!!!\n",
      "Extracting parameters from /gpfs/data/brainstorm-ws/data/TRAINING/series_1/T1/preprocessed/0256_Pre_Session1_Series1_Preprocessed.set...\n",
      "Not setting metadata\n",
      "80 matching events found\n",
      "No baseline correction applied\n",
      "0 projection items activated\n",
      "Ready.\n",
      "Extracting parameters from /gpfs/data/brainstorm-ws/data/TRAINING/series_1/T2/preprocessed/0256_Post_Session1_Series1_Preprocessed.set...\n",
      "Not setting metadata\n",
      "71 matching events found\n"
     ]
    },
    {
     "name": "stderr",
     "output_type": "stream",
     "text": [
      "/tmp/ipykernel_53240/2441085883.py:13: RuntimeWarning: At least one epoch has multiple events. Only the latency of the first event will be retained.\n",
      "  epochs = read_epochs_eeglab(fname)\n",
      "/tmp/ipykernel_53240/2441085883.py:13: RuntimeWarning: At least one epoch has multiple events. Only the latency of the first event will be retained.\n",
      "  epochs = read_epochs_eeglab(fname)\n"
     ]
    },
    {
     "name": "stdout",
     "output_type": "stream",
     "text": [
      "No baseline correction applied\n",
      "0 projection items activated\n",
      "Ready.\n",
      "Found 129 global spectral events in this session!!!\n",
      "Kept 64 events for analysis in this session!!!\n",
      "Found 128 global spectral events in this session!!!\n",
      "Kept 65 events for analysis in this session!!!\n",
      "Extracting parameters from /gpfs/data/brainstorm-ws/data/TRAINING/series_2/T1/preprocessed/0261_Pre_Session1_Series2_Preprocessed.set...\n",
      "Not setting metadata\n",
      "101 matching events found\n",
      "No baseline correction applied\n",
      "0 projection items activated\n",
      "Ready.\n",
      "Extracting parameters from /gpfs/data/brainstorm-ws/data/TRAINING/series_2/T2/preprocessed/0261_Post_Session1_Series2_Preprocessed.set...\n"
     ]
    },
    {
     "name": "stderr",
     "output_type": "stream",
     "text": [
      "/tmp/ipykernel_53240/2441085883.py:13: RuntimeWarning: At least one epoch has multiple events. Only the latency of the first event will be retained.\n",
      "  epochs = read_epochs_eeglab(fname)\n",
      "/tmp/ipykernel_53240/2441085883.py:13: RuntimeWarning: At least one epoch has multiple events. Only the latency of the first event will be retained.\n",
      "  epochs = read_epochs_eeglab(fname)\n"
     ]
    },
    {
     "name": "stdout",
     "output_type": "stream",
     "text": [
      "Not setting metadata\n",
      "87 matching events found\n",
      "No baseline correction applied\n",
      "0 projection items activated\n",
      "Ready.\n",
      "Found 130 global spectral events in this session!!!\n",
      "Kept 70 events for analysis in this session!!!\n",
      "Found 102 global spectral events in this session!!!\n",
      "Kept 56 events for analysis in this session!!!\n",
      "Extracting parameters from /gpfs/data/brainstorm-ws/data/TRAINING/series_1/T1/preprocessed/0265_Pre_Session1_Series1_Preprocessed.set...\n",
      "Not setting metadata\n",
      "76 matching events found\n",
      "No baseline correction applied\n",
      "0 projection items activated\n",
      "Ready.\n",
      "Extracting parameters from /gpfs/data/brainstorm-ws/data/TRAINING/series_1/T2/preprocessed/0265_Post_Session1_Series1_Preprocessed.set...\n",
      "Not setting metadata\n",
      "72 matching events found\n"
     ]
    },
    {
     "name": "stderr",
     "output_type": "stream",
     "text": [
      "/tmp/ipykernel_53240/2441085883.py:13: RuntimeWarning: At least one epoch has multiple events. Only the latency of the first event will be retained.\n",
      "  epochs = read_epochs_eeglab(fname)\n",
      "/tmp/ipykernel_53240/2441085883.py:13: RuntimeWarning: At least one epoch has multiple events. Only the latency of the first event will be retained.\n",
      "  epochs = read_epochs_eeglab(fname)\n"
     ]
    },
    {
     "name": "stdout",
     "output_type": "stream",
     "text": [
      "No baseline correction applied\n",
      "0 projection items activated\n",
      "Ready.\n",
      "Found 101 global spectral events in this session!!!\n",
      "Kept 46 events for analysis in this session!!!\n",
      "Found 96 global spectral events in this session!!!\n",
      "Kept 48 events for analysis in this session!!!\n",
      "Extracting parameters from /gpfs/data/brainstorm-ws/data/TRAINING/series_1/T1/preprocessed/0266_Pre_Session1_Series1_Preprocessed.set...\n",
      "Not setting metadata\n",
      "76 matching events found\n",
      "No baseline correction applied\n",
      "0 projection items activated\n",
      "Ready.\n",
      "Extracting parameters from /gpfs/data/brainstorm-ws/data/TRAINING/series_1/T2/preprocessed/0266_Post_Session1_Series1_Preprocessed.set...\n",
      "Not setting metadata\n",
      "65 matching events found\n",
      "No baseline correction applied\n",
      "0 projection items activated\n",
      "Ready.\n"
     ]
    },
    {
     "name": "stderr",
     "output_type": "stream",
     "text": [
      "/tmp/ipykernel_53240/2441085883.py:13: RuntimeWarning: At least one epoch has multiple events. Only the latency of the first event will be retained.\n",
      "  epochs = read_epochs_eeglab(fname)\n",
      "/tmp/ipykernel_53240/2441085883.py:13: RuntimeWarning: At least one epoch has multiple events. Only the latency of the first event will be retained.\n",
      "  epochs = read_epochs_eeglab(fname)\n"
     ]
    },
    {
     "name": "stdout",
     "output_type": "stream",
     "text": [
      "Found 138 global spectral events in this session!!!\n",
      "Kept 63 events for analysis in this session!!!\n",
      "Found 131 global spectral events in this session!!!\n",
      "Kept 66 events for analysis in this session!!!\n",
      "Extracting parameters from /gpfs/data/brainstorm-ws/data/TRAINING/series_1/T1/preprocessed/0267_Pre_Session1_Series1_Preprocessed.set...\n",
      "Not setting metadata\n",
      "74 matching events found\n",
      "No baseline correction applied\n",
      "0 projection items activated\n",
      "Ready.\n",
      "Extracting parameters from /gpfs/data/brainstorm-ws/data/TRAINING/series_1/T2/preprocessed/0267_Post_Session1_Series1_Preprocessed.set...\n",
      "Not setting metadata\n",
      "62 matching events found\n",
      "No baseline correction applied\n",
      "0 projection items activated\n"
     ]
    },
    {
     "name": "stderr",
     "output_type": "stream",
     "text": [
      "/tmp/ipykernel_53240/2441085883.py:13: RuntimeWarning: At least one epoch has multiple events. Only the latency of the first event will be retained.\n",
      "  epochs = read_epochs_eeglab(fname)\n",
      "/tmp/ipykernel_53240/2441085883.py:13: RuntimeWarning: At least one epoch has multiple events. Only the latency of the first event will be retained.\n",
      "  epochs = read_epochs_eeglab(fname)\n"
     ]
    },
    {
     "name": "stdout",
     "output_type": "stream",
     "text": [
      "Ready.\n",
      "Found 129 global spectral events in this session!!!\n",
      "Kept 63 events for analysis in this session!!!\n",
      "Found 114 global spectral events in this session!!!\n",
      "Kept 60 events for analysis in this session!!!\n",
      "Extracting parameters from /gpfs/data/brainstorm-ws/data/TRAINING/series_1/T1/preprocessed/0268_Pre_Session1_Series1_Preprocessed.set...\n",
      "Not setting metadata\n",
      "72 matching events found\n",
      "No baseline correction applied\n",
      "0 projection items activated\n",
      "Ready.\n",
      "Extracting parameters from /gpfs/data/brainstorm-ws/data/TRAINING/series_1/T2/preprocessed/0268_Post_Session1_Series1_Preprocessed.set...\n",
      "Not setting metadata\n",
      "68 matching events found\n",
      "No baseline correction applied\n",
      "0 projection items activated\n",
      "Ready.\n"
     ]
    },
    {
     "name": "stderr",
     "output_type": "stream",
     "text": [
      "/tmp/ipykernel_53240/2441085883.py:13: RuntimeWarning: At least one epoch has multiple events. Only the latency of the first event will be retained.\n",
      "  epochs = read_epochs_eeglab(fname)\n",
      "/tmp/ipykernel_53240/2441085883.py:13: RuntimeWarning: At least one epoch has multiple events. Only the latency of the first event will be retained.\n",
      "  epochs = read_epochs_eeglab(fname)\n"
     ]
    },
    {
     "name": "stdout",
     "output_type": "stream",
     "text": [
      "Found 79 global spectral events in this session!!!\n",
      "Kept 44 events for analysis in this session!!!\n",
      "Found 89 global spectral events in this session!!!\n",
      "Kept 48 events for analysis in this session!!!\n",
      "Extracting parameters from /gpfs/data/brainstorm-ws/data/TRAINING/series_1/T1/preprocessed/0274_Pre_Session1_Series1_Preprocessed.set...\n",
      "Not setting metadata\n",
      "99 matching events found\n",
      "No baseline correction applied\n",
      "0 projection items activated\n",
      "Ready.\n",
      "Extracting parameters from /gpfs/data/brainstorm-ws/data/TRAINING/series_1/T2/preprocessed/0274_Post_Session1_Series1_Preprocessed.set...\n"
     ]
    },
    {
     "name": "stderr",
     "output_type": "stream",
     "text": [
      "/tmp/ipykernel_53240/2441085883.py:13: RuntimeWarning: At least one epoch has multiple events. Only the latency of the first event will be retained.\n",
      "  epochs = read_epochs_eeglab(fname)\n",
      "/tmp/ipykernel_53240/2441085883.py:13: RuntimeWarning: At least one epoch has multiple events. Only the latency of the first event will be retained.\n",
      "  epochs = read_epochs_eeglab(fname)\n"
     ]
    },
    {
     "name": "stdout",
     "output_type": "stream",
     "text": [
      "Not setting metadata\n",
      "103 matching events found\n",
      "No baseline correction applied\n",
      "0 projection items activated\n",
      "Ready.\n",
      "Found 134 global spectral events in this session!!!\n",
      "Kept 61 events for analysis in this session!!!\n",
      "Found 110 global spectral events in this session!!!\n",
      "Kept 62 events for analysis in this session!!!\n",
      "Extracting parameters from /gpfs/data/brainstorm-ws/data/TRAINING/series_1/T1/preprocessed/0291_Pre_Session1_Series1_Preprocessed.set...\n",
      "Not setting metadata\n",
      "95 matching events found\n",
      "No baseline correction applied\n",
      "0 projection items activated\n",
      "Ready.\n",
      "Extracting parameters from /gpfs/data/brainstorm-ws/data/TRAINING/series_1/T2/preprocessed/0291_Post_Session1_Series1_Preprocessed.set...\n",
      "Not setting metadata\n",
      "58 matching events found\n",
      "No baseline correction applied\n",
      "0 projection items activated\n",
      "Ready.\n"
     ]
    },
    {
     "name": "stderr",
     "output_type": "stream",
     "text": [
      "/tmp/ipykernel_53240/2441085883.py:13: RuntimeWarning: At least one epoch has multiple events. Only the latency of the first event will be retained.\n",
      "  epochs = read_epochs_eeglab(fname)\n",
      "/tmp/ipykernel_53240/2441085883.py:13: RuntimeWarning: At least one epoch has multiple events. Only the latency of the first event will be retained.\n",
      "  epochs = read_epochs_eeglab(fname)\n"
     ]
    },
    {
     "name": "stdout",
     "output_type": "stream",
     "text": [
      "Found 132 global spectral events in this session!!!\n",
      "Kept 70 events for analysis in this session!!!\n",
      "Found 84 global spectral events in this session!!!\n",
      "Kept 46 events for analysis in this session!!!\n",
      "Extracting parameters from /gpfs/data/brainstorm-ws/data/TRAINING/series_1/T1/preprocessed/0293_Pre_Session1_Series1_Preprocessed.set...\n",
      "Not setting metadata\n",
      "101 matching events found\n",
      "No baseline correction applied\n",
      "0 projection items activated\n",
      "Ready.\n",
      "Extracting parameters from /gpfs/data/brainstorm-ws/data/TRAINING/series_1/T2/preprocessed/0293_Post_Session1_Series1_Preprocessed.set...\n"
     ]
    },
    {
     "name": "stderr",
     "output_type": "stream",
     "text": [
      "/tmp/ipykernel_53240/2441085883.py:13: RuntimeWarning: At least one epoch has multiple events. Only the latency of the first event will be retained.\n",
      "  epochs = read_epochs_eeglab(fname)\n",
      "/tmp/ipykernel_53240/2441085883.py:13: RuntimeWarning: At least one epoch has multiple events. Only the latency of the first event will be retained.\n",
      "  epochs = read_epochs_eeglab(fname)\n"
     ]
    },
    {
     "name": "stdout",
     "output_type": "stream",
     "text": [
      "Not setting metadata\n",
      "42 matching events found\n",
      "No baseline correction applied\n",
      "0 projection items activated\n",
      "Ready.\n",
      "Found 155 global spectral events in this session!!!\n",
      "Kept 82 events for analysis in this session!!!\n",
      "Found 70 global spectral events in this session!!!\n",
      "Kept 39 events for analysis in this session!!!\n",
      "Extracting parameters from /gpfs/data/brainstorm-ws/data/TRAINING/series_2/T1/preprocessed/0293_Pre_Session1_Series2_Preprocessed.set...\n",
      "Not setting metadata\n",
      "106 matching events found\n",
      "No baseline correction applied\n",
      "0 projection items activated\n",
      "Ready.\n",
      "Extracting parameters from /gpfs/data/brainstorm-ws/data/TRAINING/series_2/T2/preprocessed/0293_Post_Session1_Series2_Preprocessed.set...\n"
     ]
    },
    {
     "name": "stderr",
     "output_type": "stream",
     "text": [
      "/tmp/ipykernel_53240/2441085883.py:13: RuntimeWarning: At least one epoch has multiple events. Only the latency of the first event will be retained.\n",
      "  epochs = read_epochs_eeglab(fname)\n",
      "/tmp/ipykernel_53240/2441085883.py:13: RuntimeWarning: At least one epoch has multiple events. Only the latency of the first event will be retained.\n",
      "  epochs = read_epochs_eeglab(fname)\n"
     ]
    },
    {
     "name": "stdout",
     "output_type": "stream",
     "text": [
      "Not setting metadata\n",
      "93 matching events found\n",
      "No baseline correction applied\n",
      "0 projection items activated\n",
      "Ready.\n",
      "Found 170 global spectral events in this session!!!\n",
      "Kept 86 events for analysis in this session!!!\n",
      "Found 140 global spectral events in this session!!!\n",
      "Kept 60 events for analysis in this session!!!\n",
      "Extracting parameters from /gpfs/data/brainstorm-ws/data/TRAINING/series_1/T1/preprocessed/0295_Pre_Session1_Series1_Preprocessed.set...\n",
      "Not setting metadata\n",
      "79 matching events found\n",
      "No baseline correction applied\n",
      "0 projection items activated\n",
      "Ready.\n",
      "Extracting parameters from /gpfs/data/brainstorm-ws/data/TRAINING/series_1/T2/preprocessed/0295_Post_Session1_Series1_Preprocessed.set...\n",
      "Not setting metadata\n",
      "74 matching events found\n"
     ]
    },
    {
     "name": "stderr",
     "output_type": "stream",
     "text": [
      "/tmp/ipykernel_53240/2441085883.py:13: RuntimeWarning: At least one epoch has multiple events. Only the latency of the first event will be retained.\n",
      "  epochs = read_epochs_eeglab(fname)\n",
      "/tmp/ipykernel_53240/2441085883.py:13: RuntimeWarning: At least one epoch has multiple events. Only the latency of the first event will be retained.\n",
      "  epochs = read_epochs_eeglab(fname)\n"
     ]
    },
    {
     "name": "stdout",
     "output_type": "stream",
     "text": [
      "No baseline correction applied\n",
      "0 projection items activated\n",
      "Ready.\n",
      "Found 102 global spectral events in this session!!!\n",
      "Kept 58 events for analysis in this session!!!\n",
      "Found 82 global spectral events in this session!!!\n",
      "Kept 39 events for analysis in this session!!!\n",
      "Extracting parameters from /gpfs/data/brainstorm-ws/data/TRAINING/series_2/T1/preprocessed/0295_Pre_Session1_Series2_Preprocessed.set...\n",
      "Not setting metadata\n",
      "117 matching events found\n",
      "No baseline correction applied\n",
      "0 projection items activated\n",
      "Ready.\n",
      "Extracting parameters from /gpfs/data/brainstorm-ws/data/TRAINING/series_2/T2/preprocessed/0295_Post_Session1_Series2_Preprocessed.set...\n"
     ]
    },
    {
     "name": "stderr",
     "output_type": "stream",
     "text": [
      "/tmp/ipykernel_53240/2441085883.py:13: RuntimeWarning: At least one epoch has multiple events. Only the latency of the first event will be retained.\n",
      "  epochs = read_epochs_eeglab(fname)\n",
      "/tmp/ipykernel_53240/2441085883.py:13: RuntimeWarning: At least one epoch has multiple events. Only the latency of the first event will be retained.\n",
      "  epochs = read_epochs_eeglab(fname)\n"
     ]
    },
    {
     "name": "stdout",
     "output_type": "stream",
     "text": [
      "Not setting metadata\n",
      "105 matching events found\n",
      "No baseline correction applied\n",
      "0 projection items activated\n",
      "Ready.\n",
      "Found 141 global spectral events in this session!!!\n",
      "Kept 73 events for analysis in this session!!!\n",
      "Found 122 global spectral events in this session!!!\n",
      "Kept 57 events for analysis in this session!!!\n",
      "Extracting parameters from /gpfs/data/brainstorm-ws/data/TRAINING/series_2/T1/preprocessed/0296_Pre_Session1_Series2_Preprocessed.set...\n",
      "Not setting metadata\n",
      "86 matching events found\n",
      "No baseline correction applied\n",
      "0 projection items activated\n",
      "Ready.\n",
      "Extracting parameters from /gpfs/data/brainstorm-ws/data/TRAINING/series_2/T2/preprocessed/0296_Post_Session1_Series2_Preprocessed.set...\n"
     ]
    },
    {
     "name": "stderr",
     "output_type": "stream",
     "text": [
      "/tmp/ipykernel_53240/2441085883.py:13: RuntimeWarning: At least one epoch has multiple events. Only the latency of the first event will be retained.\n",
      "  epochs = read_epochs_eeglab(fname)\n",
      "/tmp/ipykernel_53240/2441085883.py:13: RuntimeWarning: At least one epoch has multiple events. Only the latency of the first event will be retained.\n",
      "  epochs = read_epochs_eeglab(fname)\n"
     ]
    },
    {
     "name": "stdout",
     "output_type": "stream",
     "text": [
      "Not setting metadata\n",
      "81 matching events found\n",
      "No baseline correction applied\n",
      "0 projection items activated\n",
      "Ready.\n",
      "Found 141 global spectral events in this session!!!\n",
      "Kept 58 events for analysis in this session!!!\n",
      "Found 126 global spectral events in this session!!!\n",
      "Kept 62 events for analysis in this session!!!\n",
      "Extracting parameters from /gpfs/data/brainstorm-ws/data/TRAINING/series_3/T1/preprocessed/0296_Pre_Session1_Series3_Preprocessed.set...\n",
      "Not setting metadata\n",
      "93 matching events found\n",
      "No baseline correction applied\n",
      "0 projection items activated\n",
      "Ready.\n"
     ]
    },
    {
     "name": "stderr",
     "output_type": "stream",
     "text": [
      "/tmp/ipykernel_53240/2441085883.py:13: RuntimeWarning: At least one epoch has multiple events. Only the latency of the first event will be retained.\n",
      "  epochs = read_epochs_eeglab(fname)\n"
     ]
    },
    {
     "name": "stdout",
     "output_type": "stream",
     "text": [
      "Extracting parameters from /gpfs/data/brainstorm-ws/data/TRAINING/series_3/T2/preprocessed/0296_Post_Session1_Series3_Preprocessed.set...\n",
      "Not setting metadata\n",
      "121 matching events found\n",
      "No baseline correction applied\n",
      "0 projection items activated\n",
      "Ready.\n"
     ]
    },
    {
     "name": "stderr",
     "output_type": "stream",
     "text": [
      "/tmp/ipykernel_53240/2441085883.py:13: RuntimeWarning: At least one epoch has multiple events. Only the latency of the first event will be retained.\n",
      "  epochs = read_epochs_eeglab(fname)\n"
     ]
    },
    {
     "name": "stdout",
     "output_type": "stream",
     "text": [
      "Found 129 global spectral events in this session!!!\n",
      "Kept 60 events for analysis in this session!!!\n",
      "Found 175 global spectral events in this session!!!\n",
      "Kept 75 events for analysis in this session!!!\n",
      "Extracting parameters from /gpfs/data/brainstorm-ws/data/TRAINING/series_1/T1/preprocessed/0302_Pre_Session1_Series1_Preprocessed.set...\n",
      "Not setting metadata\n",
      "74 matching events found\n",
      "No baseline correction applied\n",
      "0 projection items activated\n",
      "Ready.\n",
      "Extracting parameters from /gpfs/data/brainstorm-ws/data/TRAINING/series_1/T2/preprocessed/0302_Post_Session1_Series1_Preprocessed.set...\n",
      "Not setting metadata\n",
      "78 matching events found\n"
     ]
    },
    {
     "name": "stderr",
     "output_type": "stream",
     "text": [
      "/tmp/ipykernel_53240/2441085883.py:13: RuntimeWarning: At least one epoch has multiple events. Only the latency of the first event will be retained.\n",
      "  epochs = read_epochs_eeglab(fname)\n",
      "/tmp/ipykernel_53240/2441085883.py:13: RuntimeWarning: At least one epoch has multiple events. Only the latency of the first event will be retained.\n",
      "  epochs = read_epochs_eeglab(fname)\n"
     ]
    },
    {
     "name": "stdout",
     "output_type": "stream",
     "text": [
      "No baseline correction applied\n",
      "0 projection items activated\n",
      "Ready.\n",
      "Found 136 global spectral events in this session!!!\n",
      "Kept 61 events for analysis in this session!!!\n",
      "Found 132 global spectral events in this session!!!\n",
      "Kept 65 events for analysis in this session!!!\n",
      "Extracting parameters from /gpfs/data/brainstorm-ws/data/TRAINING/series_1/T1/preprocessed/0305_Pre_Session1_Series1_Preprocessed.set...\n",
      "Not setting metadata\n",
      "93 matching events found\n",
      "No baseline correction applied\n",
      "0 projection items activated\n",
      "Ready.\n",
      "Extracting parameters from /gpfs/data/brainstorm-ws/data/TRAINING/series_1/T2/preprocessed/0305_Post_Session1_Series1_Preprocessed.set...\n",
      "Not setting metadata\n",
      "76 matching events found\n"
     ]
    },
    {
     "name": "stderr",
     "output_type": "stream",
     "text": [
      "/tmp/ipykernel_53240/2441085883.py:13: RuntimeWarning: At least one epoch has multiple events. Only the latency of the first event will be retained.\n",
      "  epochs = read_epochs_eeglab(fname)\n",
      "/tmp/ipykernel_53240/2441085883.py:13: RuntimeWarning: At least one epoch has multiple events. Only the latency of the first event will be retained.\n",
      "  epochs = read_epochs_eeglab(fname)\n"
     ]
    },
    {
     "name": "stdout",
     "output_type": "stream",
     "text": [
      "No baseline correction applied\n",
      "0 projection items activated\n",
      "Ready.\n",
      "Found 154 global spectral events in this session!!!\n",
      "Kept 74 events for analysis in this session!!!\n",
      "Found 106 global spectral events in this session!!!\n",
      "Kept 47 events for analysis in this session!!!\n",
      "Extracting parameters from /gpfs/data/brainstorm-ws/data/TRAINING/series_1/T1/preprocessed/0310_Pre_Session1_Series1_Preprocessed.set...\n",
      "Not setting metadata\n",
      "97 matching events found\n",
      "No baseline correction applied\n",
      "0 projection items activated\n",
      "Ready.\n",
      "Extracting parameters from /gpfs/data/brainstorm-ws/data/TRAINING/series_1/T2/preprocessed/0310_Post_Session1_Series1_Preprocessed.set...\n"
     ]
    },
    {
     "name": "stderr",
     "output_type": "stream",
     "text": [
      "/tmp/ipykernel_53240/2441085883.py:13: RuntimeWarning: At least one epoch has multiple events. Only the latency of the first event will be retained.\n",
      "  epochs = read_epochs_eeglab(fname)\n",
      "/tmp/ipykernel_53240/2441085883.py:13: RuntimeWarning: At least one epoch has multiple events. Only the latency of the first event will be retained.\n",
      "  epochs = read_epochs_eeglab(fname)\n"
     ]
    },
    {
     "name": "stdout",
     "output_type": "stream",
     "text": [
      "Not setting metadata\n",
      "96 matching events found\n",
      "No baseline correction applied\n",
      "0 projection items activated\n",
      "Ready.\n",
      "Found 120 global spectral events in this session!!!\n",
      "Kept 58 events for analysis in this session!!!\n",
      "Found 118 global spectral events in this session!!!\n",
      "Kept 60 events for analysis in this session!!!\n",
      "Extracting parameters from /gpfs/data/brainstorm-ws/data/TRAINING/series_1/T1/preprocessed/0313_Pre_Session1_Series1_Preprocessed.set...\n",
      "Not setting metadata\n",
      "82 matching events found\n",
      "No baseline correction applied\n",
      "0 projection items activated\n",
      "Ready.\n",
      "Extracting parameters from /gpfs/data/brainstorm-ws/data/TRAINING/series_1/T2/preprocessed/0313_Post_Session1_Series1_Preprocessed.set...\n",
      "Not setting metadata\n",
      "81 matching events found\n"
     ]
    },
    {
     "name": "stderr",
     "output_type": "stream",
     "text": [
      "/tmp/ipykernel_53240/2441085883.py:13: RuntimeWarning: At least one epoch has multiple events. Only the latency of the first event will be retained.\n",
      "  epochs = read_epochs_eeglab(fname)\n",
      "/tmp/ipykernel_53240/2441085883.py:13: RuntimeWarning: At least one epoch has multiple events. Only the latency of the first event will be retained.\n",
      "  epochs = read_epochs_eeglab(fname)\n"
     ]
    },
    {
     "name": "stdout",
     "output_type": "stream",
     "text": [
      "No baseline correction applied\n",
      "0 projection items activated\n",
      "Ready.\n",
      "Found 145 global spectral events in this session!!!\n",
      "Kept 65 events for analysis in this session!!!\n",
      "Found 144 global spectral events in this session!!!\n",
      "Kept 70 events for analysis in this session!!!\n",
      "Extracting parameters from /gpfs/data/brainstorm-ws/data/TRAINING/series_1/T1/preprocessed/0317_Pre_Session1_Series1_Preprocessed.set...\n",
      "Not setting metadata\n",
      "80 matching events found\n",
      "No baseline correction applied\n",
      "0 projection items activated\n",
      "Ready.\n",
      "Extracting parameters from /gpfs/data/brainstorm-ws/data/TRAINING/series_1/T2/preprocessed/0317_Post_Session1_Series1_Preprocessed.set...\n",
      "Not setting metadata\n",
      "75 matching events found\n"
     ]
    },
    {
     "name": "stderr",
     "output_type": "stream",
     "text": [
      "/tmp/ipykernel_53240/2441085883.py:13: RuntimeWarning: At least one epoch has multiple events. Only the latency of the first event will be retained.\n",
      "  epochs = read_epochs_eeglab(fname)\n",
      "/tmp/ipykernel_53240/2441085883.py:13: RuntimeWarning: At least one epoch has multiple events. Only the latency of the first event will be retained.\n",
      "  epochs = read_epochs_eeglab(fname)\n"
     ]
    },
    {
     "name": "stdout",
     "output_type": "stream",
     "text": [
      "No baseline correction applied\n",
      "0 projection items activated\n",
      "Ready.\n",
      "Found 134 global spectral events in this session!!!\n",
      "Kept 75 events for analysis in this session!!!\n",
      "Found 106 global spectral events in this session!!!\n",
      "Kept 61 events for analysis in this session!!!\n",
      "Extracting parameters from /gpfs/data/brainstorm-ws/data/TRAINING/series_2/T1/preprocessed/0320_Pre_Session1_Series2_Preprocessed.set...\n",
      "Not setting metadata\n",
      "91 matching events found\n",
      "No baseline correction applied\n",
      "0 projection items activated\n",
      "Ready.\n",
      "Extracting parameters from /gpfs/data/brainstorm-ws/data/TRAINING/series_2/T2/preprocessed/0320_Post_Session1_Series2_Preprocessed.set...\n"
     ]
    },
    {
     "name": "stderr",
     "output_type": "stream",
     "text": [
      "/tmp/ipykernel_53240/2441085883.py:13: RuntimeWarning: At least one epoch has multiple events. Only the latency of the first event will be retained.\n",
      "  epochs = read_epochs_eeglab(fname)\n",
      "/tmp/ipykernel_53240/2441085883.py:13: RuntimeWarning: At least one epoch has multiple events. Only the latency of the first event will be retained.\n",
      "  epochs = read_epochs_eeglab(fname)\n"
     ]
    },
    {
     "name": "stdout",
     "output_type": "stream",
     "text": [
      "Not setting metadata\n",
      "94 matching events found\n",
      "No baseline correction applied\n",
      "0 projection items activated\n",
      "Ready.\n",
      "Found 115 global spectral events in this session!!!\n",
      "Kept 51 events for analysis in this session!!!\n",
      "Found 77 global spectral events in this session!!!\n",
      "Kept 33 events for analysis in this session!!!\n",
      "Extracting parameters from /gpfs/data/brainstorm-ws/data/TRAINING/series_2/T1/preprocessed/0326_Pre_Session1_Series2_Preprocessed.set...\n",
      "Not setting metadata\n",
      "120 matching events found\n",
      "No baseline correction applied\n",
      "0 projection items activated\n",
      "Ready.\n"
     ]
    },
    {
     "name": "stderr",
     "output_type": "stream",
     "text": [
      "/tmp/ipykernel_53240/2441085883.py:13: RuntimeWarning: At least one epoch has multiple events. Only the latency of the first event will be retained.\n",
      "  epochs = read_epochs_eeglab(fname)\n"
     ]
    },
    {
     "name": "stdout",
     "output_type": "stream",
     "text": [
      "Extracting parameters from /gpfs/data/brainstorm-ws/data/TRAINING/series_2/T2/preprocessed/0326_Post_Session1_Series2_Preprocessed.set...\n",
      "Not setting metadata\n",
      "105 matching events found\n",
      "No baseline correction applied\n",
      "0 projection items activated\n",
      "Ready.\n"
     ]
    },
    {
     "name": "stderr",
     "output_type": "stream",
     "text": [
      "/tmp/ipykernel_53240/2441085883.py:13: RuntimeWarning: At least one epoch has multiple events. Only the latency of the first event will be retained.\n",
      "  epochs = read_epochs_eeglab(fname)\n"
     ]
    },
    {
     "name": "stdout",
     "output_type": "stream",
     "text": [
      "Found 147 global spectral events in this session!!!\n",
      "Kept 70 events for analysis in this session!!!\n",
      "Found 153 global spectral events in this session!!!\n",
      "Kept 67 events for analysis in this session!!!\n",
      "Extracting parameters from /gpfs/data/brainstorm-ws/data/TRAINING/series_1/T1/preprocessed/0330_Pre_Session1_Series1_Preprocessed.set...\n",
      "Not setting metadata\n",
      "99 matching events found\n",
      "No baseline correction applied\n",
      "0 projection items activated\n",
      "Ready.\n",
      "Extracting parameters from /gpfs/data/brainstorm-ws/data/TRAINING/series_1/T2/preprocessed/0330_Post_Session1_Series1_Preprocessed.set...\n",
      "Not setting metadata\n",
      "74 matching events found\n"
     ]
    },
    {
     "name": "stderr",
     "output_type": "stream",
     "text": [
      "/tmp/ipykernel_53240/2441085883.py:13: RuntimeWarning: At least one epoch has multiple events. Only the latency of the first event will be retained.\n",
      "  epochs = read_epochs_eeglab(fname)\n",
      "/tmp/ipykernel_53240/2441085883.py:13: RuntimeWarning: At least one epoch has multiple events. Only the latency of the first event will be retained.\n",
      "  epochs = read_epochs_eeglab(fname)\n"
     ]
    },
    {
     "name": "stdout",
     "output_type": "stream",
     "text": [
      "No baseline correction applied\n",
      "0 projection items activated\n",
      "Ready.\n",
      "Found 143 global spectral events in this session!!!\n",
      "Kept 71 events for analysis in this session!!!\n",
      "Found 131 global spectral events in this session!!!\n",
      "Kept 57 events for analysis in this session!!!\n",
      "Extracting parameters from /gpfs/data/brainstorm-ws/data/TRAINING/series_1/T1/preprocessed/0332_Pre_Session1_Series1_Preprocessed.set...\n",
      "Not setting metadata\n",
      "93 matching events found\n",
      "No baseline correction applied\n",
      "0 projection items activated\n",
      "Ready.\n",
      "Extracting parameters from /gpfs/data/brainstorm-ws/data/TRAINING/series_1/T2/preprocessed/0332_Post_Session1_Series1_Preprocessed.set...\n"
     ]
    },
    {
     "name": "stderr",
     "output_type": "stream",
     "text": [
      "/tmp/ipykernel_53240/2441085883.py:13: RuntimeWarning: At least one epoch has multiple events. Only the latency of the first event will be retained.\n",
      "  epochs = read_epochs_eeglab(fname)\n",
      "/tmp/ipykernel_53240/2441085883.py:13: RuntimeWarning: At least one epoch has multiple events. Only the latency of the first event will be retained.\n",
      "  epochs = read_epochs_eeglab(fname)\n"
     ]
    },
    {
     "name": "stdout",
     "output_type": "stream",
     "text": [
      "Not setting metadata\n",
      "91 matching events found\n",
      "No baseline correction applied\n",
      "0 projection items activated\n",
      "Ready.\n",
      "Found 166 global spectral events in this session!!!\n",
      "Kept 75 events for analysis in this session!!!\n",
      "Found 177 global spectral events in this session!!!\n",
      "Kept 87 events for analysis in this session!!!\n",
      "Extracting parameters from /gpfs/data/brainstorm-ws/data/TRAINING/series_1/T1/preprocessed/0335_Pre_Session1_Series1_Preprocessed.set...\n",
      "Not setting metadata\n",
      "88 matching events found\n",
      "No baseline correction applied\n",
      "0 projection items activated\n",
      "Ready.\n",
      "Extracting parameters from /gpfs/data/brainstorm-ws/data/TRAINING/series_1/T2/preprocessed/0335_Post_Session1_Series1_Preprocessed.set...\n",
      "Not setting metadata\n",
      "78 matching events found\n"
     ]
    },
    {
     "name": "stderr",
     "output_type": "stream",
     "text": [
      "/tmp/ipykernel_53240/2441085883.py:13: RuntimeWarning: At least one epoch has multiple events. Only the latency of the first event will be retained.\n",
      "  epochs = read_epochs_eeglab(fname)\n",
      "/tmp/ipykernel_53240/2441085883.py:13: RuntimeWarning: At least one epoch has multiple events. Only the latency of the first event will be retained.\n",
      "  epochs = read_epochs_eeglab(fname)\n"
     ]
    },
    {
     "name": "stdout",
     "output_type": "stream",
     "text": [
      "No baseline correction applied\n",
      "0 projection items activated\n",
      "Ready.\n",
      "Found 168 global spectral events in this session!!!\n",
      "Kept 85 events for analysis in this session!!!\n",
      "Found 145 global spectral events in this session!!!\n",
      "Kept 73 events for analysis in this session!!!\n",
      "Extracting parameters from /gpfs/data/brainstorm-ws/data/TRAINING/series_1/T1/preprocessed/0336_Pre_Session1_Series1_Preprocessed.set...\n",
      "Not setting metadata\n",
      "79 matching events found\n",
      "No baseline correction applied\n",
      "0 projection items activated\n",
      "Ready.\n",
      "Extracting parameters from /gpfs/data/brainstorm-ws/data/TRAINING/series_1/T2/preprocessed/0336_Post_Session1_Series1_Preprocessed.set...\n",
      "Not setting metadata\n",
      "42 matching events found\n",
      "No baseline correction applied\n",
      "0 projection items activated\n",
      "Ready.\n"
     ]
    },
    {
     "name": "stderr",
     "output_type": "stream",
     "text": [
      "/tmp/ipykernel_53240/2441085883.py:13: RuntimeWarning: At least one epoch has multiple events. Only the latency of the first event will be retained.\n",
      "  epochs = read_epochs_eeglab(fname)\n",
      "/tmp/ipykernel_53240/2441085883.py:13: RuntimeWarning: At least one epoch has multiple events. Only the latency of the first event will be retained.\n",
      "  epochs = read_epochs_eeglab(fname)\n"
     ]
    },
    {
     "name": "stdout",
     "output_type": "stream",
     "text": [
      "Found 87 global spectral events in this session!!!\n",
      "Kept 49 events for analysis in this session!!!\n",
      "Found 50 global spectral events in this session!!!\n",
      "Kept 26 events for analysis in this session!!!\n",
      "Extracting parameters from /gpfs/data/brainstorm-ws/data/TRAINING/series_1/T1/preprocessed/0340_Pre_Session1_Series1_Preprocessed.set...\n",
      "Not setting metadata\n",
      "86 matching events found\n",
      "No baseline correction applied\n",
      "0 projection items activated\n",
      "Ready.\n",
      "Extracting parameters from /gpfs/data/brainstorm-ws/data/TRAINING/series_1/T2/preprocessed/0340_Post_Session1_Series1_Preprocessed.set...\n",
      "Not setting metadata\n",
      "84 matching events found\n"
     ]
    },
    {
     "name": "stderr",
     "output_type": "stream",
     "text": [
      "/tmp/ipykernel_53240/2441085883.py:13: RuntimeWarning: At least one epoch has multiple events. Only the latency of the first event will be retained.\n",
      "  epochs = read_epochs_eeglab(fname)\n",
      "/tmp/ipykernel_53240/2441085883.py:13: RuntimeWarning: At least one epoch has multiple events. Only the latency of the first event will be retained.\n",
      "  epochs = read_epochs_eeglab(fname)\n"
     ]
    },
    {
     "name": "stdout",
     "output_type": "stream",
     "text": [
      "No baseline correction applied\n",
      "0 projection items activated\n",
      "Ready.\n",
      "Found 113 global spectral events in this session!!!\n",
      "Kept 65 events for analysis in this session!!!\n",
      "Found 119 global spectral events in this session!!!\n",
      "Kept 60 events for analysis in this session!!!\n",
      "Extracting parameters from /gpfs/data/brainstorm-ws/data/TRAINING/series_1/T1/preprocessed/0341_Pre_Session1_Series1_Preprocessed.set...\n",
      "Not setting metadata\n",
      "77 matching events found\n",
      "No baseline correction applied\n",
      "0 projection items activated\n",
      "Ready.\n",
      "Extracting parameters from /gpfs/data/brainstorm-ws/data/TRAINING/series_1/T2/preprocessed/0341_Post_Session1_Series1_Preprocessed.set...\n",
      "Not setting metadata\n",
      "87 matching events found\n"
     ]
    },
    {
     "name": "stderr",
     "output_type": "stream",
     "text": [
      "/tmp/ipykernel_53240/2441085883.py:13: RuntimeWarning: At least one epoch has multiple events. Only the latency of the first event will be retained.\n",
      "  epochs = read_epochs_eeglab(fname)\n",
      "/tmp/ipykernel_53240/2441085883.py:13: RuntimeWarning: At least one epoch has multiple events. Only the latency of the first event will be retained.\n",
      "  epochs = read_epochs_eeglab(fname)\n"
     ]
    },
    {
     "name": "stdout",
     "output_type": "stream",
     "text": [
      "No baseline correction applied\n",
      "0 projection items activated\n",
      "Ready.\n",
      "Found 98 global spectral events in this session!!!\n",
      "Kept 56 events for analysis in this session!!!\n",
      "Found 130 global spectral events in this session!!!\n",
      "Kept 60 events for analysis in this session!!!\n",
      "Extracting parameters from /gpfs/data/brainstorm-ws/data/TRAINING/series_1/T1/preprocessed/0346_Pre_Session1_Series1_Preprocessed.set...\n",
      "Not setting metadata\n",
      "134 matching events found\n",
      "No baseline correction applied\n",
      "0 projection items activated\n",
      "Ready.\n"
     ]
    },
    {
     "name": "stderr",
     "output_type": "stream",
     "text": [
      "/tmp/ipykernel_53240/2441085883.py:13: RuntimeWarning: At least one epoch has multiple events. Only the latency of the first event will be retained.\n",
      "  epochs = read_epochs_eeglab(fname)\n"
     ]
    },
    {
     "name": "stdout",
     "output_type": "stream",
     "text": [
      "Extracting parameters from /gpfs/data/brainstorm-ws/data/TRAINING/series_1/T2/preprocessed/0346_Post_Session1_Series1_Preprocessed.set...\n",
      "Not setting metadata\n",
      "137 matching events found\n",
      "No baseline correction applied\n",
      "0 projection items activated\n",
      "Ready.\n"
     ]
    },
    {
     "name": "stderr",
     "output_type": "stream",
     "text": [
      "/tmp/ipykernel_53240/2441085883.py:13: RuntimeWarning: At least one epoch has multiple events. Only the latency of the first event will be retained.\n",
      "  epochs = read_epochs_eeglab(fname)\n"
     ]
    },
    {
     "name": "stdout",
     "output_type": "stream",
     "text": [
      "Found 247 global spectral events in this session!!!\n",
      "Kept 110 events for analysis in this session!!!\n",
      "Found 245 global spectral events in this session!!!\n",
      "Kept 126 events for analysis in this session!!!\n",
      "Extracting parameters from /gpfs/data/brainstorm-ws/data/TRAINING/series_1/T1/preprocessed/0348_Pre_Session1_Series1_Preprocessed.set...\n",
      "Not setting metadata\n",
      "114 matching events found\n",
      "No baseline correction applied\n",
      "0 projection items activated\n",
      "Ready.\n",
      "Extracting parameters from /gpfs/data/brainstorm-ws/data/TRAINING/series_1/T2/preprocessed/0348_Post_Session1_Series1_Preprocessed.set...\n"
     ]
    },
    {
     "name": "stderr",
     "output_type": "stream",
     "text": [
      "/tmp/ipykernel_53240/2441085883.py:13: RuntimeWarning: At least one epoch has multiple events. Only the latency of the first event will be retained.\n",
      "  epochs = read_epochs_eeglab(fname)\n",
      "/tmp/ipykernel_53240/2441085883.py:13: RuntimeWarning: At least one epoch has multiple events. Only the latency of the first event will be retained.\n",
      "  epochs = read_epochs_eeglab(fname)\n"
     ]
    },
    {
     "name": "stdout",
     "output_type": "stream",
     "text": [
      "Not setting metadata\n",
      "94 matching events found\n",
      "No baseline correction applied\n",
      "0 projection items activated\n",
      "Ready.\n",
      "Found 164 global spectral events in this session!!!\n",
      "Kept 77 events for analysis in this session!!!\n",
      "Found 100 global spectral events in this session!!!\n",
      "Kept 44 events for analysis in this session!!!\n",
      "Extracting parameters from /gpfs/data/brainstorm-ws/data/TRAINING/series_1/T1/preprocessed/0352_Pre_Session1_Series1_Preprocessed.set...\n",
      "Not setting metadata\n",
      "110 matching events found\n",
      "No baseline correction applied\n",
      "0 projection items activated\n",
      "Ready.\n",
      "Extracting parameters from /gpfs/data/brainstorm-ws/data/TRAINING/series_1/T2/preprocessed/0352_Post_Session1_Series1_Preprocessed.set...\n"
     ]
    },
    {
     "name": "stderr",
     "output_type": "stream",
     "text": [
      "/tmp/ipykernel_53240/2441085883.py:13: RuntimeWarning: At least one epoch has multiple events. Only the latency of the first event will be retained.\n",
      "  epochs = read_epochs_eeglab(fname)\n",
      "/tmp/ipykernel_53240/2441085883.py:13: RuntimeWarning: At least one epoch has multiple events. Only the latency of the first event will be retained.\n",
      "  epochs = read_epochs_eeglab(fname)\n"
     ]
    },
    {
     "name": "stdout",
     "output_type": "stream",
     "text": [
      "Not setting metadata\n",
      "95 matching events found\n",
      "No baseline correction applied\n",
      "0 projection items activated\n",
      "Ready.\n",
      "Found 151 global spectral events in this session!!!\n",
      "Kept 77 events for analysis in this session!!!\n",
      "Found 110 global spectral events in this session!!!\n",
      "Kept 41 events for analysis in this session!!!\n",
      "Extracting parameters from /gpfs/data/brainstorm-ws/data/TRAINING/series_1/T1/preprocessed/0353_Pre_Session1_Series1_Preprocessed.set...\n",
      "Not setting metadata\n",
      "112 matching events found\n",
      "No baseline correction applied\n",
      "0 projection items activated\n",
      "Ready.\n",
      "Extracting parameters from /gpfs/data/brainstorm-ws/data/TRAINING/series_1/T2/preprocessed/0353_Post_Session1_Series1_Preprocessed.set...\n"
     ]
    },
    {
     "name": "stderr",
     "output_type": "stream",
     "text": [
      "/tmp/ipykernel_53240/2441085883.py:13: RuntimeWarning: At least one epoch has multiple events. Only the latency of the first event will be retained.\n",
      "  epochs = read_epochs_eeglab(fname)\n",
      "/tmp/ipykernel_53240/2441085883.py:13: RuntimeWarning: At least one epoch has multiple events. Only the latency of the first event will be retained.\n",
      "  epochs = read_epochs_eeglab(fname)\n"
     ]
    },
    {
     "name": "stdout",
     "output_type": "stream",
     "text": [
      "Not setting metadata\n",
      "94 matching events found\n",
      "No baseline correction applied\n",
      "0 projection items activated\n",
      "Ready.\n",
      "Found 175 global spectral events in this session!!!\n",
      "Kept 86 events for analysis in this session!!!\n",
      "Found 131 global spectral events in this session!!!\n",
      "Kept 62 events for analysis in this session!!!\n",
      "Extracting parameters from /gpfs/data/brainstorm-ws/data/TRAINING/series_1/T1/preprocessed/0355_Pre_Session1_Series1_Preprocessed.set...\n",
      "Not setting metadata\n",
      "107 matching events found\n",
      "No baseline correction applied\n",
      "0 projection items activated\n",
      "Ready.\n",
      "Extracting parameters from /gpfs/data/brainstorm-ws/data/TRAINING/series_1/T2/preprocessed/0355_Post_Session1_Series1_Preprocessed.set...\n"
     ]
    },
    {
     "name": "stderr",
     "output_type": "stream",
     "text": [
      "/tmp/ipykernel_53240/2441085883.py:13: RuntimeWarning: At least one epoch has multiple events. Only the latency of the first event will be retained.\n",
      "  epochs = read_epochs_eeglab(fname)\n",
      "/tmp/ipykernel_53240/2441085883.py:13: RuntimeWarning: At least one epoch has multiple events. Only the latency of the first event will be retained.\n",
      "  epochs = read_epochs_eeglab(fname)\n"
     ]
    },
    {
     "name": "stdout",
     "output_type": "stream",
     "text": [
      "Not setting metadata\n",
      "85 matching events found\n",
      "No baseline correction applied\n",
      "0 projection items activated\n",
      "Ready.\n",
      "Found 106 global spectral events in this session!!!\n",
      "Kept 61 events for analysis in this session!!!\n",
      "Found 84 global spectral events in this session!!!\n",
      "Kept 41 events for analysis in this session!!!\n",
      "Extracting parameters from /gpfs/data/brainstorm-ws/data/TRAINING/series_3/T1/preprocessed/0356_Pre_Session1_Series3_Preprocessed.set...\n",
      "Not setting metadata\n",
      "88 matching events found\n",
      "No baseline correction applied\n",
      "0 projection items activated\n",
      "Ready.\n",
      "Extracting parameters from /gpfs/data/brainstorm-ws/data/TRAINING/series_3/T2/preprocessed/0356_Post_Session1_Series3_Preprocessed.set...\n",
      "Not setting metadata\n",
      "96 matching events found\n"
     ]
    },
    {
     "name": "stderr",
     "output_type": "stream",
     "text": [
      "/tmp/ipykernel_53240/2441085883.py:13: RuntimeWarning: At least one epoch has multiple events. Only the latency of the first event will be retained.\n",
      "  epochs = read_epochs_eeglab(fname)\n",
      "/tmp/ipykernel_53240/2441085883.py:13: RuntimeWarning: At least one epoch has multiple events. Only the latency of the first event will be retained.\n",
      "  epochs = read_epochs_eeglab(fname)\n"
     ]
    },
    {
     "name": "stdout",
     "output_type": "stream",
     "text": [
      "No baseline correction applied\n",
      "0 projection items activated\n",
      "Ready.\n",
      "Found 106 global spectral events in this session!!!\n",
      "Kept 61 events for analysis in this session!!!\n",
      "Found 138 global spectral events in this session!!!\n",
      "Kept 70 events for analysis in this session!!!\n",
      "Extracting parameters from /gpfs/data/brainstorm-ws/data/TRAINING/series_1/T1/preprocessed/0357_Pre_Session1_Series1_Preprocessed.set...\n",
      "Not setting metadata\n",
      "116 matching events found\n",
      "No baseline correction applied\n",
      "0 projection items activated\n",
      "Ready.\n"
     ]
    },
    {
     "name": "stderr",
     "output_type": "stream",
     "text": [
      "/tmp/ipykernel_53240/2441085883.py:13: RuntimeWarning: At least one epoch has multiple events. Only the latency of the first event will be retained.\n",
      "  epochs = read_epochs_eeglab(fname)\n"
     ]
    },
    {
     "name": "stdout",
     "output_type": "stream",
     "text": [
      "Extracting parameters from /gpfs/data/brainstorm-ws/data/TRAINING/series_1/T2/preprocessed/0357_Post_Session1_Series1_Preprocessed.set...\n",
      "Not setting metadata\n",
      "123 matching events found\n",
      "No baseline correction applied\n",
      "0 projection items activated\n",
      "Ready.\n"
     ]
    },
    {
     "name": "stderr",
     "output_type": "stream",
     "text": [
      "/tmp/ipykernel_53240/2441085883.py:13: RuntimeWarning: At least one epoch has multiple events. Only the latency of the first event will be retained.\n",
      "  epochs = read_epochs_eeglab(fname)\n"
     ]
    },
    {
     "name": "stdout",
     "output_type": "stream",
     "text": [
      "Found 145 global spectral events in this session!!!\n",
      "Kept 82 events for analysis in this session!!!\n",
      "Found 182 global spectral events in this session!!!\n",
      "Kept 97 events for analysis in this session!!!\n",
      "Extracting parameters from /gpfs/data/brainstorm-ws/data/TRAINING/series_1/T1/preprocessed/0361_Pre_Session1_Series1_Preprocessed.set...\n",
      "Not setting metadata\n",
      "102 matching events found\n",
      "No baseline correction applied\n",
      "0 projection items activated\n",
      "Ready.\n",
      "Extracting parameters from /gpfs/data/brainstorm-ws/data/TRAINING/series_1/T2/preprocessed/0361_Post_Session1_Series1_Preprocessed.set...\n"
     ]
    },
    {
     "name": "stderr",
     "output_type": "stream",
     "text": [
      "/tmp/ipykernel_53240/2441085883.py:13: RuntimeWarning: At least one epoch has multiple events. Only the latency of the first event will be retained.\n",
      "  epochs = read_epochs_eeglab(fname)\n",
      "/tmp/ipykernel_53240/2441085883.py:13: RuntimeWarning: At least one epoch has multiple events. Only the latency of the first event will be retained.\n",
      "  epochs = read_epochs_eeglab(fname)\n"
     ]
    },
    {
     "name": "stdout",
     "output_type": "stream",
     "text": [
      "Not setting metadata\n",
      "79 matching events found\n",
      "No baseline correction applied\n",
      "0 projection items activated\n",
      "Ready.\n",
      "Found 168 global spectral events in this session!!!\n",
      "Kept 88 events for analysis in this session!!!\n",
      "Found 141 global spectral events in this session!!!\n",
      "Kept 58 events for analysis in this session!!!\n",
      "Extracting parameters from /gpfs/data/brainstorm-ws/data/TRAINING/series_1/T1/preprocessed/0362_Pre_Session1_Series1_Preprocessed.set...\n",
      "Not setting metadata\n",
      "121 matching events found\n",
      "No baseline correction applied\n",
      "0 projection items activated\n",
      "Ready.\n",
      "Extracting parameters from /gpfs/data/brainstorm-ws/data/TRAINING/series_1/T2/preprocessed/0362_Post_Session1_Series1_Preprocessed.set...\n"
     ]
    },
    {
     "name": "stderr",
     "output_type": "stream",
     "text": [
      "/tmp/ipykernel_53240/2441085883.py:13: RuntimeWarning: At least one epoch has multiple events. Only the latency of the first event will be retained.\n",
      "  epochs = read_epochs_eeglab(fname)\n",
      "/tmp/ipykernel_53240/2441085883.py:13: RuntimeWarning: At least one epoch has multiple events. Only the latency of the first event will be retained.\n",
      "  epochs = read_epochs_eeglab(fname)\n"
     ]
    },
    {
     "name": "stdout",
     "output_type": "stream",
     "text": [
      "Not setting metadata\n",
      "97 matching events found\n",
      "No baseline correction applied\n",
      "0 projection items activated\n",
      "Ready.\n",
      "Found 188 global spectral events in this session!!!\n",
      "Kept 98 events for analysis in this session!!!\n",
      "Found 116 global spectral events in this session!!!\n",
      "Kept 64 events for analysis in this session!!!\n",
      "Extracting parameters from /gpfs/data/brainstorm-ws/data/TRAINING/series_2/T1/preprocessed/0364_Pre_Session1_Series2_Preprocessed.set...\n",
      "Not setting metadata\n",
      "97 matching events found\n",
      "No baseline correction applied\n",
      "0 projection items activated\n",
      "Ready.\n",
      "Extracting parameters from /gpfs/data/brainstorm-ws/data/TRAINING/series_2/T2/preprocessed/0364_Post_Session1_Series2_Preprocessed.set...\n"
     ]
    },
    {
     "name": "stderr",
     "output_type": "stream",
     "text": [
      "/tmp/ipykernel_53240/2441085883.py:13: RuntimeWarning: At least one epoch has multiple events. Only the latency of the first event will be retained.\n",
      "  epochs = read_epochs_eeglab(fname)\n",
      "/tmp/ipykernel_53240/2441085883.py:13: RuntimeWarning: At least one epoch has multiple events. Only the latency of the first event will be retained.\n",
      "  epochs = read_epochs_eeglab(fname)\n"
     ]
    },
    {
     "name": "stdout",
     "output_type": "stream",
     "text": [
      "Not setting metadata\n",
      "84 matching events found\n",
      "No baseline correction applied\n",
      "0 projection items activated\n",
      "Ready.\n",
      "Found 129 global spectral events in this session!!!\n",
      "Kept 68 events for analysis in this session!!!\n",
      "Found 95 global spectral events in this session!!!\n",
      "Kept 53 events for analysis in this session!!!\n",
      "Extracting parameters from /gpfs/data/brainstorm-ws/data/TRAINING/series_1/T1/preprocessed/0365_Pre_Session1_Series1_Preprocessed.set...\n",
      "Not setting metadata\n",
      "113 matching events found\n",
      "No baseline correction applied\n",
      "0 projection items activated\n",
      "Ready.\n",
      "Extracting parameters from /gpfs/data/brainstorm-ws/data/TRAINING/series_1/T2/preprocessed/0365_Post_Session1_Series1_Preprocessed.set...\n"
     ]
    },
    {
     "name": "stderr",
     "output_type": "stream",
     "text": [
      "/tmp/ipykernel_53240/2441085883.py:13: RuntimeWarning: At least one epoch has multiple events. Only the latency of the first event will be retained.\n",
      "  epochs = read_epochs_eeglab(fname)\n",
      "/tmp/ipykernel_53240/2441085883.py:13: RuntimeWarning: At least one epoch has multiple events. Only the latency of the first event will be retained.\n",
      "  epochs = read_epochs_eeglab(fname)\n"
     ]
    },
    {
     "name": "stdout",
     "output_type": "stream",
     "text": [
      "Not setting metadata\n",
      "100 matching events found\n",
      "No baseline correction applied\n",
      "0 projection items activated\n",
      "Ready.\n",
      "Found 127 global spectral events in this session!!!\n",
      "Kept 65 events for analysis in this session!!!\n",
      "Found 87 global spectral events in this session!!!\n",
      "Kept 35 events for analysis in this session!!!\n",
      "Extracting parameters from /gpfs/data/brainstorm-ws/data/TRAINING/series_1/T1/preprocessed/0367_Pre_Session1_Series1_Preprocessed.set...\n",
      "Not setting metadata\n",
      "92 matching events found\n",
      "No baseline correction applied\n",
      "0 projection items activated\n",
      "Ready.\n",
      "Extracting parameters from /gpfs/data/brainstorm-ws/data/TRAINING/series_1/T2/preprocessed/0367_Post_Session1_Series1_Preprocessed.set...\n"
     ]
    },
    {
     "name": "stderr",
     "output_type": "stream",
     "text": [
      "/tmp/ipykernel_53240/2441085883.py:13: RuntimeWarning: At least one epoch has multiple events. Only the latency of the first event will be retained.\n",
      "  epochs = read_epochs_eeglab(fname)\n",
      "/tmp/ipykernel_53240/2441085883.py:13: RuntimeWarning: At least one epoch has multiple events. Only the latency of the first event will be retained.\n",
      "  epochs = read_epochs_eeglab(fname)\n"
     ]
    },
    {
     "name": "stdout",
     "output_type": "stream",
     "text": [
      "Not setting metadata\n",
      "88 matching events found\n",
      "No baseline correction applied\n",
      "0 projection items activated\n",
      "Ready.\n",
      "Found 151 global spectral events in this session!!!\n",
      "Kept 62 events for analysis in this session!!!\n",
      "Found 118 global spectral events in this session!!!\n",
      "Kept 43 events for analysis in this session!!!\n",
      "Extracting parameters from /gpfs/data/brainstorm-ws/data/TRAINING/series_1/T1/preprocessed/0370_Pre_Session1_Series1_Preprocessed.set...\n",
      "Not setting metadata\n",
      "107 matching events found\n",
      "No baseline correction applied\n",
      "0 projection items activated\n",
      "Ready.\n",
      "Extracting parameters from /gpfs/data/brainstorm-ws/data/TRAINING/series_1/T2/preprocessed/0370_Post_Session1_Series1_Preprocessed.set...\n"
     ]
    },
    {
     "name": "stderr",
     "output_type": "stream",
     "text": [
      "/tmp/ipykernel_53240/2441085883.py:13: RuntimeWarning: At least one epoch has multiple events. Only the latency of the first event will be retained.\n",
      "  epochs = read_epochs_eeglab(fname)\n",
      "/tmp/ipykernel_53240/2441085883.py:13: RuntimeWarning: At least one epoch has multiple events. Only the latency of the first event will be retained.\n",
      "  epochs = read_epochs_eeglab(fname)\n"
     ]
    },
    {
     "name": "stdout",
     "output_type": "stream",
     "text": [
      "Not setting metadata\n",
      "105 matching events found\n",
      "No baseline correction applied\n",
      "0 projection items activated\n",
      "Ready.\n",
      "Found 157 global spectral events in this session!!!\n",
      "Kept 79 events for analysis in this session!!!\n",
      "Found 147 global spectral events in this session!!!\n",
      "Kept 70 events for analysis in this session!!!\n",
      "Extracting parameters from /gpfs/data/brainstorm-ws/data/TRAINING/series_2/T1/preprocessed/0370_Pre_Session1_Series2_Preprocessed.set...\n",
      "Not setting metadata\n",
      "92 matching events found\n",
      "No baseline correction applied\n",
      "0 projection items activated\n",
      "Ready.\n",
      "Extracting parameters from /gpfs/data/brainstorm-ws/data/TRAINING/series_2/T2/preprocessed/0370_Post_Session1_Series2_Preprocessed.set...\n",
      "Not setting metadata\n",
      "78 matching events found\n"
     ]
    },
    {
     "name": "stderr",
     "output_type": "stream",
     "text": [
      "/tmp/ipykernel_53240/2441085883.py:13: RuntimeWarning: At least one epoch has multiple events. Only the latency of the first event will be retained.\n",
      "  epochs = read_epochs_eeglab(fname)\n",
      "/tmp/ipykernel_53240/2441085883.py:13: RuntimeWarning: At least one epoch has multiple events. Only the latency of the first event will be retained.\n",
      "  epochs = read_epochs_eeglab(fname)\n"
     ]
    },
    {
     "name": "stdout",
     "output_type": "stream",
     "text": [
      "No baseline correction applied\n",
      "0 projection items activated\n",
      "Ready.\n",
      "Found 132 global spectral events in this session!!!\n",
      "Kept 68 events for analysis in this session!!!\n",
      "Found 128 global spectral events in this session!!!\n",
      "Kept 66 events for analysis in this session!!!\n",
      "Extracting parameters from /gpfs/data/brainstorm-ws/data/TRAINING/series_1/T1/preprocessed/0372_Pre_Session1_Series1_Preprocessed.set...\n",
      "Not setting metadata\n",
      "81 matching events found\n",
      "No baseline correction applied\n",
      "0 projection items activated\n",
      "Ready.\n",
      "Extracting parameters from /gpfs/data/brainstorm-ws/data/TRAINING/series_1/T2/preprocessed/0372_Post_Session1_Series1_Preprocessed.set...\n",
      "Not setting metadata\n",
      "81 matching events found\n"
     ]
    },
    {
     "name": "stderr",
     "output_type": "stream",
     "text": [
      "/tmp/ipykernel_53240/2441085883.py:13: RuntimeWarning: At least one epoch has multiple events. Only the latency of the first event will be retained.\n",
      "  epochs = read_epochs_eeglab(fname)\n",
      "/tmp/ipykernel_53240/2441085883.py:13: RuntimeWarning: At least one epoch has multiple events. Only the latency of the first event will be retained.\n",
      "  epochs = read_epochs_eeglab(fname)\n"
     ]
    },
    {
     "name": "stdout",
     "output_type": "stream",
     "text": [
      "No baseline correction applied\n",
      "0 projection items activated\n",
      "Ready.\n",
      "Found 160 global spectral events in this session!!!\n",
      "Kept 81 events for analysis in this session!!!\n",
      "Found 148 global spectral events in this session!!!\n",
      "Kept 64 events for analysis in this session!!!\n",
      "Extracting parameters from /gpfs/data/brainstorm-ws/data/TRAINING/series_2/T1/preprocessed/0373_Pre_Session1_Series2_Preprocessed.set...\n",
      "Not setting metadata\n",
      "37 matching events found\n",
      "No baseline correction applied\n",
      "0 projection items activated\n",
      "Ready.\n",
      "Extracting parameters from /gpfs/data/brainstorm-ws/data/TRAINING/series_2/T2/preprocessed/0373_Post_Session1_Series2_Preprocessed.set...\n",
      "Not setting metadata\n",
      "87 matching events found\n",
      "No baseline correction applied\n",
      "0 projection items activated\n",
      "Ready.\n"
     ]
    },
    {
     "name": "stderr",
     "output_type": "stream",
     "text": [
      "/tmp/ipykernel_53240/2441085883.py:13: RuntimeWarning: At least one epoch has multiple events. Only the latency of the first event will be retained.\n",
      "  epochs = read_epochs_eeglab(fname)\n",
      "/tmp/ipykernel_53240/2441085883.py:13: RuntimeWarning: At least one epoch has multiple events. Only the latency of the first event will be retained.\n",
      "  epochs = read_epochs_eeglab(fname)\n"
     ]
    },
    {
     "name": "stdout",
     "output_type": "stream",
     "text": [
      "Found 45 global spectral events in this session!!!\n",
      "Kept 22 events for analysis in this session!!!\n",
      "Found 163 global spectral events in this session!!!\n",
      "Kept 73 events for analysis in this session!!!\n",
      "Extracting parameters from /gpfs/data/brainstorm-ws/data/TRAINING/series_1/T1/preprocessed/0376_Pre_Session1_Series1_Preprocessed.set...\n",
      "Not setting metadata\n",
      "97 matching events found\n",
      "No baseline correction applied\n",
      "0 projection items activated\n",
      "Ready.\n",
      "Extracting parameters from /gpfs/data/brainstorm-ws/data/TRAINING/series_1/T2/preprocessed/0376_Post_Session1_Series1_Preprocessed.set...\n"
     ]
    },
    {
     "name": "stderr",
     "output_type": "stream",
     "text": [
      "/tmp/ipykernel_53240/2441085883.py:13: RuntimeWarning: At least one epoch has multiple events. Only the latency of the first event will be retained.\n",
      "  epochs = read_epochs_eeglab(fname)\n",
      "/tmp/ipykernel_53240/2441085883.py:13: RuntimeWarning: At least one epoch has multiple events. Only the latency of the first event will be retained.\n",
      "  epochs = read_epochs_eeglab(fname)\n"
     ]
    },
    {
     "name": "stdout",
     "output_type": "stream",
     "text": [
      "Not setting metadata\n",
      "99 matching events found\n",
      "No baseline correction applied\n",
      "0 projection items activated\n",
      "Ready.\n",
      "Found 163 global spectral events in this session!!!\n",
      "Kept 68 events for analysis in this session!!!\n",
      "Found 165 global spectral events in this session!!!\n",
      "Kept 70 events for analysis in this session!!!\n",
      "Extracting parameters from /gpfs/data/brainstorm-ws/data/TRAINING/series_1/T1/preprocessed/0377_Pre_Session1_Series1_Preprocessed.set...\n",
      "Not setting metadata\n",
      "85 matching events found\n",
      "No baseline correction applied\n",
      "0 projection items activated\n",
      "Ready.\n",
      "Extracting parameters from /gpfs/data/brainstorm-ws/data/TRAINING/series_1/T2/preprocessed/0377_Post_Session1_Series1_Preprocessed.set...\n",
      "Not setting metadata\n"
     ]
    },
    {
     "name": "stderr",
     "output_type": "stream",
     "text": [
      "/tmp/ipykernel_53240/2441085883.py:13: RuntimeWarning: At least one epoch has multiple events. Only the latency of the first event will be retained.\n",
      "  epochs = read_epochs_eeglab(fname)\n",
      "/tmp/ipykernel_53240/2441085883.py:13: RuntimeWarning: At least one epoch has multiple events. Only the latency of the first event will be retained.\n",
      "  epochs = read_epochs_eeglab(fname)\n"
     ]
    },
    {
     "name": "stdout",
     "output_type": "stream",
     "text": [
      "83 matching events found\n",
      "No baseline correction applied\n",
      "0 projection items activated\n",
      "Ready.\n",
      "Found 94 global spectral events in this session!!!\n",
      "Kept 45 events for analysis in this session!!!\n",
      "Found 101 global spectral events in this session!!!\n",
      "Kept 48 events for analysis in this session!!!\n",
      "Extracting parameters from /gpfs/data/brainstorm-ws/data/TRAINING/series_1/T1/preprocessed/0378_Pre_Session1_Series1_Preprocessed.set...\n",
      "Not setting metadata\n",
      "85 matching events found\n",
      "No baseline correction applied\n",
      "0 projection items activated\n",
      "Ready.\n"
     ]
    },
    {
     "name": "stderr",
     "output_type": "stream",
     "text": [
      "/tmp/ipykernel_53240/2441085883.py:13: RuntimeWarning: At least one epoch has multiple events. Only the latency of the first event will be retained.\n",
      "  epochs = read_epochs_eeglab(fname)\n"
     ]
    },
    {
     "name": "stdout",
     "output_type": "stream",
     "text": [
      "Extracting parameters from /gpfs/data/brainstorm-ws/data/TRAINING/series_1/T2/preprocessed/0378_Post_Session1_Series1_Preprocessed.set...\n",
      "Not setting metadata\n",
      "82 matching events found\n",
      "No baseline correction applied\n",
      "0 projection items activated\n",
      "Ready.\n"
     ]
    },
    {
     "name": "stderr",
     "output_type": "stream",
     "text": [
      "/tmp/ipykernel_53240/2441085883.py:13: RuntimeWarning: At least one epoch has multiple events. Only the latency of the first event will be retained.\n",
      "  epochs = read_epochs_eeglab(fname)\n"
     ]
    },
    {
     "name": "stdout",
     "output_type": "stream",
     "text": [
      "Found 79 global spectral events in this session!!!\n",
      "Kept 43 events for analysis in this session!!!\n",
      "Found 95 global spectral events in this session!!!\n",
      "Kept 51 events for analysis in this session!!!\n",
      "Extracting parameters from /gpfs/data/brainstorm-ws/data/TRAINING/series_3/T1/preprocessed/0378_Pre_Session1_Series3_Preprocessed.set...\n",
      "Not setting metadata\n",
      "111 matching events found\n",
      "No baseline correction applied\n",
      "0 projection items activated\n",
      "Ready.\n",
      "Extracting parameters from /gpfs/data/brainstorm-ws/data/TRAINING/series_3/T2/preprocessed/0378_Post_Session1_Series3_Preprocessed.set...\n"
     ]
    },
    {
     "name": "stderr",
     "output_type": "stream",
     "text": [
      "/tmp/ipykernel_53240/2441085883.py:13: RuntimeWarning: At least one epoch has multiple events. Only the latency of the first event will be retained.\n",
      "  epochs = read_epochs_eeglab(fname)\n",
      "/tmp/ipykernel_53240/2441085883.py:13: RuntimeWarning: At least one epoch has multiple events. Only the latency of the first event will be retained.\n",
      "  epochs = read_epochs_eeglab(fname)\n"
     ]
    },
    {
     "name": "stdout",
     "output_type": "stream",
     "text": [
      "Not setting metadata\n",
      "98 matching events found\n",
      "No baseline correction applied\n",
      "0 projection items activated\n",
      "Ready.\n",
      "Found 107 global spectral events in this session!!!\n",
      "Kept 57 events for analysis in this session!!!\n",
      "Found 93 global spectral events in this session!!!\n",
      "Kept 59 events for analysis in this session!!!\n",
      "Extracting parameters from /gpfs/data/brainstorm-ws/data/TRAINING/series_1/T1/preprocessed/0379_Pre_Session1_Series1_Preprocessed.set...\n",
      "Not setting metadata\n",
      "86 matching events found\n",
      "No baseline correction applied\n",
      "0 projection items activated\n",
      "Ready.\n",
      "Extracting parameters from /gpfs/data/brainstorm-ws/data/TRAINING/series_1/T2/preprocessed/0379_Post_Session1_Series1_Preprocessed.set...\n",
      "Not setting metadata\n"
     ]
    },
    {
     "name": "stderr",
     "output_type": "stream",
     "text": [
      "/tmp/ipykernel_53240/2441085883.py:13: RuntimeWarning: At least one epoch has multiple events. Only the latency of the first event will be retained.\n",
      "  epochs = read_epochs_eeglab(fname)\n",
      "/tmp/ipykernel_53240/2441085883.py:13: RuntimeWarning: At least one epoch has multiple events. Only the latency of the first event will be retained.\n",
      "  epochs = read_epochs_eeglab(fname)\n"
     ]
    },
    {
     "name": "stdout",
     "output_type": "stream",
     "text": [
      "86 matching events found\n",
      "No baseline correction applied\n",
      "0 projection items activated\n",
      "Ready.\n",
      "Found 126 global spectral events in this session!!!\n",
      "Kept 61 events for analysis in this session!!!\n",
      "Found 141 global spectral events in this session!!!\n",
      "Kept 69 events for analysis in this session!!!\n",
      "Extracting parameters from /gpfs/data/brainstorm-ws/data/TRAINING/series_1/T1/preprocessed/0380_Pre_Session1_Series1_Preprocessed.set...\n",
      "Not setting metadata\n",
      "81 matching events found\n",
      "No baseline correction applied\n",
      "0 projection items activated\n",
      "Ready.\n",
      "Extracting parameters from /gpfs/data/brainstorm-ws/data/TRAINING/series_1/T2/preprocessed/0380_Post_Session1_Series1_Preprocessed.set...\n"
     ]
    },
    {
     "name": "stderr",
     "output_type": "stream",
     "text": [
      "/tmp/ipykernel_53240/2441085883.py:13: RuntimeWarning: At least one epoch has multiple events. Only the latency of the first event will be retained.\n",
      "  epochs = read_epochs_eeglab(fname)\n",
      "/tmp/ipykernel_53240/2441085883.py:13: RuntimeWarning: At least one epoch has multiple events. Only the latency of the first event will be retained.\n",
      "  epochs = read_epochs_eeglab(fname)\n"
     ]
    },
    {
     "name": "stdout",
     "output_type": "stream",
     "text": [
      "Not setting metadata\n",
      "72 matching events found\n",
      "No baseline correction applied\n",
      "0 projection items activated\n",
      "Ready.\n",
      "Found 96 global spectral events in this session!!!\n",
      "Kept 49 events for analysis in this session!!!\n",
      "Found 96 global spectral events in this session!!!\n",
      "Kept 49 events for analysis in this session!!!\n",
      "Extracting parameters from /gpfs/data/brainstorm-ws/data/TRAINING/series_1/T1/preprocessed/0386_Pre_Session1_Series1_Preprocessed.set...\n",
      "Not setting metadata\n",
      "84 matching events found\n",
      "No baseline correction applied\n",
      "0 projection items activated\n",
      "Ready.\n",
      "Extracting parameters from /gpfs/data/brainstorm-ws/data/TRAINING/series_1/T2/preprocessed/0386_Post_Session1_Series1_Preprocessed.set...\n",
      "Not setting metadata\n",
      "69 matching events found\n"
     ]
    },
    {
     "name": "stderr",
     "output_type": "stream",
     "text": [
      "/tmp/ipykernel_53240/2441085883.py:13: RuntimeWarning: At least one epoch has multiple events. Only the latency of the first event will be retained.\n",
      "  epochs = read_epochs_eeglab(fname)\n",
      "/tmp/ipykernel_53240/2441085883.py:13: RuntimeWarning: At least one epoch has multiple events. Only the latency of the first event will be retained.\n",
      "  epochs = read_epochs_eeglab(fname)\n"
     ]
    },
    {
     "name": "stdout",
     "output_type": "stream",
     "text": [
      "No baseline correction applied\n",
      "0 projection items activated\n",
      "Ready.\n",
      "Found 107 global spectral events in this session!!!\n",
      "Kept 52 events for analysis in this session!!!\n",
      "Found 111 global spectral events in this session!!!\n",
      "Kept 44 events for analysis in this session!!!\n",
      "Extracting parameters from /gpfs/data/brainstorm-ws/data/TRAINING/series_1/T1/preprocessed/0389_Pre_Session1_Series1_Preprocessed.set...\n",
      "Not setting metadata\n",
      "87 matching events found\n",
      "No baseline correction applied\n",
      "0 projection items activated\n",
      "Ready.\n",
      "Extracting parameters from /gpfs/data/brainstorm-ws/data/TRAINING/series_1/T2/preprocessed/0389_Post_Session1_Series1_Preprocessed.set...\n"
     ]
    },
    {
     "name": "stderr",
     "output_type": "stream",
     "text": [
      "/tmp/ipykernel_53240/2441085883.py:13: RuntimeWarning: At least one epoch has multiple events. Only the latency of the first event will be retained.\n",
      "  epochs = read_epochs_eeglab(fname)\n",
      "/tmp/ipykernel_53240/2441085883.py:13: RuntimeWarning: At least one epoch has multiple events. Only the latency of the first event will be retained.\n",
      "  epochs = read_epochs_eeglab(fname)\n"
     ]
    },
    {
     "name": "stdout",
     "output_type": "stream",
     "text": [
      "Not setting metadata\n",
      "90 matching events found\n",
      "No baseline correction applied\n",
      "0 projection items activated\n",
      "Ready.\n",
      "Found 97 global spectral events in this session!!!\n",
      "Kept 53 events for analysis in this session!!!\n",
      "Found 113 global spectral events in this session!!!\n",
      "Kept 57 events for analysis in this session!!!\n",
      "Extracting parameters from /gpfs/data/brainstorm-ws/data/TRAINING/series_1/T1/preprocessed/0390_Pre_Session1_Series1_Preprocessed.set...\n",
      "Not setting metadata\n",
      "85 matching events found\n",
      "No baseline correction applied\n",
      "0 projection items activated\n",
      "Ready.\n",
      "Extracting parameters from /gpfs/data/brainstorm-ws/data/TRAINING/series_1/T2/preprocessed/0390_Post_Session1_Series1_Preprocessed.set...\n"
     ]
    },
    {
     "name": "stderr",
     "output_type": "stream",
     "text": [
      "/tmp/ipykernel_53240/2441085883.py:13: RuntimeWarning: At least one epoch has multiple events. Only the latency of the first event will be retained.\n",
      "  epochs = read_epochs_eeglab(fname)\n",
      "/tmp/ipykernel_53240/2441085883.py:13: RuntimeWarning: At least one epoch has multiple events. Only the latency of the first event will be retained.\n",
      "  epochs = read_epochs_eeglab(fname)\n"
     ]
    },
    {
     "name": "stdout",
     "output_type": "stream",
     "text": [
      "Not setting metadata\n",
      "111 matching events found\n",
      "No baseline correction applied\n",
      "0 projection items activated\n",
      "Ready.\n",
      "Found 82 global spectral events in this session!!!\n",
      "Kept 36 events for analysis in this session!!!\n",
      "Found 111 global spectral events in this session!!!\n",
      "Kept 49 events for analysis in this session!!!\n",
      "Extracting parameters from /gpfs/data/brainstorm-ws/data/TRAINING/series_1/T1/preprocessed/0392_Pre_Session1_Series1_Preprocessed.set...\n",
      "Not setting metadata\n",
      "85 matching events found\n",
      "No baseline correction applied\n",
      "0 projection items activated\n",
      "Ready.\n",
      "Extracting parameters from /gpfs/data/brainstorm-ws/data/TRAINING/series_1/T2/preprocessed/0392_Post_Session1_Series1_Preprocessed.set...\n",
      "Not setting metadata\n",
      "86 matching events found\n"
     ]
    },
    {
     "name": "stderr",
     "output_type": "stream",
     "text": [
      "/tmp/ipykernel_53240/2441085883.py:13: RuntimeWarning: At least one epoch has multiple events. Only the latency of the first event will be retained.\n",
      "  epochs = read_epochs_eeglab(fname)\n",
      "/tmp/ipykernel_53240/2441085883.py:13: RuntimeWarning: At least one epoch has multiple events. Only the latency of the first event will be retained.\n",
      "  epochs = read_epochs_eeglab(fname)\n"
     ]
    },
    {
     "name": "stdout",
     "output_type": "stream",
     "text": [
      "No baseline correction applied\n",
      "0 projection items activated\n",
      "Ready.\n",
      "Found 126 global spectral events in this session!!!\n",
      "Kept 62 events for analysis in this session!!!\n",
      "Found 118 global spectral events in this session!!!\n",
      "Kept 63 events for analysis in this session!!!\n",
      "Extracting parameters from /gpfs/data/brainstorm-ws/data/TRAINING/series_1/T1/preprocessed/0401_Pre_Session1_Series1_Preprocessed.set...\n",
      "Not setting metadata\n",
      "82 matching events found\n",
      "No baseline correction applied\n",
      "0 projection items activated\n",
      "Ready.\n",
      "Extracting parameters from /gpfs/data/brainstorm-ws/data/TRAINING/series_1/T2/preprocessed/0401_Post_Session1_Series1_Preprocessed.set...\n",
      "Not setting metadata\n"
     ]
    },
    {
     "name": "stderr",
     "output_type": "stream",
     "text": [
      "/tmp/ipykernel_53240/2441085883.py:13: RuntimeWarning: At least one epoch has multiple events. Only the latency of the first event will be retained.\n",
      "  epochs = read_epochs_eeglab(fname)\n",
      "/tmp/ipykernel_53240/2441085883.py:13: RuntimeWarning: At least one epoch has multiple events. Only the latency of the first event will be retained.\n",
      "  epochs = read_epochs_eeglab(fname)\n"
     ]
    },
    {
     "name": "stdout",
     "output_type": "stream",
     "text": [
      "90 matching events found\n",
      "No baseline correction applied\n",
      "0 projection items activated\n",
      "Ready.\n",
      "Found 120 global spectral events in this session!!!\n",
      "Kept 59 events for analysis in this session!!!\n",
      "Found 81 global spectral events in this session!!!\n",
      "Kept 46 events for analysis in this session!!!\n",
      "Extracting parameters from /gpfs/data/brainstorm-ws/data/TRAINING/series_1/T1/preprocessed/0406_Pre_Session1_Series1_Preprocessed.set...\n",
      "Not setting metadata\n",
      "85 matching events found\n",
      "No baseline correction applied\n",
      "0 projection items activated\n",
      "Ready.\n",
      "Extracting parameters from /gpfs/data/brainstorm-ws/data/TRAINING/series_1/T2/preprocessed/0406_Post_Session1_Series1_Preprocessed.set...\n",
      "Not setting metadata\n",
      "74 matching events found\n"
     ]
    },
    {
     "name": "stderr",
     "output_type": "stream",
     "text": [
      "/tmp/ipykernel_53240/2441085883.py:13: RuntimeWarning: At least one epoch has multiple events. Only the latency of the first event will be retained.\n",
      "  epochs = read_epochs_eeglab(fname)\n",
      "/tmp/ipykernel_53240/2441085883.py:13: RuntimeWarning: At least one epoch has multiple events. Only the latency of the first event will be retained.\n",
      "  epochs = read_epochs_eeglab(fname)\n"
     ]
    },
    {
     "name": "stdout",
     "output_type": "stream",
     "text": [
      "No baseline correction applied\n",
      "0 projection items activated\n",
      "Ready.\n",
      "Found 114 global spectral events in this session!!!\n",
      "Kept 53 events for analysis in this session!!!\n",
      "Found 106 global spectral events in this session!!!\n",
      "Kept 47 events for analysis in this session!!!\n",
      "Extracting parameters from /gpfs/data/brainstorm-ws/data/TRAINING/series_1/T1/preprocessed/0407_Pre_Session1_Series1_Preprocessed.set...\n",
      "Not setting metadata\n",
      "119 matching events found\n",
      "No baseline correction applied\n",
      "0 projection items activated\n",
      "Ready.\n",
      "Extracting parameters from /gpfs/data/brainstorm-ws/data/TRAINING/series_1/T2/preprocessed/0407_Post_Session1_Series1_Preprocessed.set...\n"
     ]
    },
    {
     "name": "stderr",
     "output_type": "stream",
     "text": [
      "/tmp/ipykernel_53240/2441085883.py:13: RuntimeWarning: At least one epoch has multiple events. Only the latency of the first event will be retained.\n",
      "  epochs = read_epochs_eeglab(fname)\n",
      "/tmp/ipykernel_53240/2441085883.py:13: RuntimeWarning: At least one epoch has multiple events. Only the latency of the first event will be retained.\n",
      "  epochs = read_epochs_eeglab(fname)\n"
     ]
    },
    {
     "name": "stdout",
     "output_type": "stream",
     "text": [
      "Not setting metadata\n",
      "76 matching events found\n",
      "No baseline correction applied\n",
      "0 projection items activated\n",
      "Ready.\n",
      "Found 72 global spectral events in this session!!!\n",
      "Kept 36 events for analysis in this session!!!\n",
      "Found 99 global spectral events in this session!!!\n",
      "Kept 44 events for analysis in this session!!!\n",
      "Extracting parameters from /gpfs/data/brainstorm-ws/data/TRAINING/series_1/T1/preprocessed/0409_Pre_Session1_Series1_Preprocessed.set...\n",
      "Not setting metadata\n",
      "88 matching events found\n",
      "No baseline correction applied\n",
      "0 projection items activated\n",
      "Ready.\n",
      "Extracting parameters from /gpfs/data/brainstorm-ws/data/TRAINING/series_1/T2/preprocessed/0409_Post_Session1_Series1_Preprocessed.set...\n",
      "Not setting metadata\n",
      "26 matching events found\n",
      "No baseline correction applied\n",
      "0 projection items activated\n",
      "Ready.\n"
     ]
    },
    {
     "name": "stderr",
     "output_type": "stream",
     "text": [
      "/tmp/ipykernel_53240/2441085883.py:13: RuntimeWarning: At least one epoch has multiple events. Only the latency of the first event will be retained.\n",
      "  epochs = read_epochs_eeglab(fname)\n",
      "/tmp/ipykernel_53240/2441085883.py:13: RuntimeWarning: At least one epoch has multiple events. Only the latency of the first event will be retained.\n",
      "  epochs = read_epochs_eeglab(fname)\n"
     ]
    },
    {
     "name": "stdout",
     "output_type": "stream",
     "text": [
      "Found 86 global spectral events in this session!!!\n",
      "Kept 40 events for analysis in this session!!!\n",
      "Found 23 global spectral events in this session!!!\n",
      "Kept 12 events for analysis in this session!!!\n",
      "Extracting parameters from /gpfs/data/brainstorm-ws/data/TRAINING/series_1/T1/preprocessed/0413_Pre_Session1_Series1_Preprocessed.set...\n",
      "Not setting metadata\n",
      "82 matching events found\n",
      "No baseline correction applied\n",
      "0 projection items activated\n",
      "Ready.\n",
      "Extracting parameters from /gpfs/data/brainstorm-ws/data/TRAINING/series_1/T2/preprocessed/0413_Post_Session1_Series1_Preprocessed.set...\n"
     ]
    },
    {
     "name": "stderr",
     "output_type": "stream",
     "text": [
      "/tmp/ipykernel_53240/2441085883.py:13: RuntimeWarning: At least one epoch has multiple events. Only the latency of the first event will be retained.\n",
      "  epochs = read_epochs_eeglab(fname)\n",
      "/tmp/ipykernel_53240/2441085883.py:13: RuntimeWarning: At least one epoch has multiple events. Only the latency of the first event will be retained.\n",
      "  epochs = read_epochs_eeglab(fname)\n"
     ]
    },
    {
     "name": "stdout",
     "output_type": "stream",
     "text": [
      "Not setting metadata\n",
      "97 matching events found\n",
      "No baseline correction applied\n",
      "0 projection items activated\n",
      "Ready.\n",
      "Found 127 global spectral events in this session!!!\n",
      "Kept 67 events for analysis in this session!!!\n",
      "Found 152 global spectral events in this session!!!\n",
      "Kept 72 events for analysis in this session!!!\n",
      "Extracting parameters from /gpfs/data/brainstorm-ws/data/TRAINING/series_1/T1/preprocessed/0415_Pre_Session1_Series1_Preprocessed.set...\n",
      "Not setting metadata\n",
      "89 matching events found\n",
      "No baseline correction applied\n",
      "0 projection items activated\n",
      "Ready.\n",
      "Extracting parameters from /gpfs/data/brainstorm-ws/data/TRAINING/series_1/T2/preprocessed/0415_Post_Session1_Series1_Preprocessed.set...\n",
      "Not setting metadata\n",
      "78 matching events found\n"
     ]
    },
    {
     "name": "stderr",
     "output_type": "stream",
     "text": [
      "/tmp/ipykernel_53240/2441085883.py:13: RuntimeWarning: At least one epoch has multiple events. Only the latency of the first event will be retained.\n",
      "  epochs = read_epochs_eeglab(fname)\n",
      "/tmp/ipykernel_53240/2441085883.py:13: RuntimeWarning: At least one epoch has multiple events. Only the latency of the first event will be retained.\n",
      "  epochs = read_epochs_eeglab(fname)\n"
     ]
    },
    {
     "name": "stdout",
     "output_type": "stream",
     "text": [
      "No baseline correction applied\n",
      "0 projection items activated\n",
      "Ready.\n",
      "Found 103 global spectral events in this session!!!\n",
      "Kept 50 events for analysis in this session!!!\n",
      "Found 85 global spectral events in this session!!!\n",
      "Kept 35 events for analysis in this session!!!\n",
      "Extracting parameters from /gpfs/data/brainstorm-ws/data/TRAINING/series_1/T1/preprocessed/0416_Pre_Session1_Series1_Preprocessed.set...\n",
      "Not setting metadata\n",
      "83 matching events found\n",
      "No baseline correction applied\n",
      "0 projection items activated\n",
      "Ready.\n",
      "Extracting parameters from /gpfs/data/brainstorm-ws/data/TRAINING/series_1/T2/preprocessed/0416_Post_Session1_Series1_Preprocessed.set...\n",
      "Not setting metadata\n",
      "67 matching events found\n",
      "No baseline correction applied\n",
      "0 projection items activated\n",
      "Ready.\n"
     ]
    },
    {
     "name": "stderr",
     "output_type": "stream",
     "text": [
      "/tmp/ipykernel_53240/2441085883.py:13: RuntimeWarning: At least one epoch has multiple events. Only the latency of the first event will be retained.\n",
      "  epochs = read_epochs_eeglab(fname)\n",
      "/tmp/ipykernel_53240/2441085883.py:13: RuntimeWarning: At least one epoch has multiple events. Only the latency of the first event will be retained.\n",
      "  epochs = read_epochs_eeglab(fname)\n"
     ]
    },
    {
     "name": "stdout",
     "output_type": "stream",
     "text": [
      "Found 119 global spectral events in this session!!!\n",
      "Kept 56 events for analysis in this session!!!\n",
      "Found 55 global spectral events in this session!!!\n",
      "Kept 29 events for analysis in this session!!!\n",
      "Extracting parameters from /gpfs/data/brainstorm-ws/data/TRAINING/series_1/T1/preprocessed/0418_Pre_Session1_Series1_Preprocessed.set...\n",
      "Not setting metadata\n",
      "115 matching events found\n",
      "No baseline correction applied\n",
      "0 projection items activated\n",
      "Ready.\n",
      "Extracting parameters from /gpfs/data/brainstorm-ws/data/TRAINING/series_1/T2/preprocessed/0418_Post_Session1_Series1_Preprocessed.set...\n"
     ]
    },
    {
     "name": "stderr",
     "output_type": "stream",
     "text": [
      "/tmp/ipykernel_53240/2441085883.py:13: RuntimeWarning: At least one epoch has multiple events. Only the latency of the first event will be retained.\n",
      "  epochs = read_epochs_eeglab(fname)\n",
      "/tmp/ipykernel_53240/2441085883.py:13: RuntimeWarning: At least one epoch has multiple events. Only the latency of the first event will be retained.\n",
      "  epochs = read_epochs_eeglab(fname)\n"
     ]
    },
    {
     "name": "stdout",
     "output_type": "stream",
     "text": [
      "Not setting metadata\n",
      "71 matching events found\n",
      "No baseline correction applied\n",
      "0 projection items activated\n",
      "Ready.\n",
      "Found 191 global spectral events in this session!!!\n",
      "Kept 91 events for analysis in this session!!!\n",
      "Found 115 global spectral events in this session!!!\n",
      "Kept 58 events for analysis in this session!!!\n",
      "Extracting parameters from /gpfs/data/brainstorm-ws/data/TRAINING/series_1/T1/preprocessed/0419_Pre_Session1_Series1_Preprocessed.set...\n",
      "Not setting metadata\n",
      "101 matching events found\n",
      "No baseline correction applied\n",
      "0 projection items activated\n",
      "Ready.\n",
      "Extracting parameters from /gpfs/data/brainstorm-ws/data/TRAINING/series_1/T2/preprocessed/0419_Post_Session1_Series1_Preprocessed.set...\n",
      "Not setting metadata\n",
      "76 matching events found\n"
     ]
    },
    {
     "name": "stderr",
     "output_type": "stream",
     "text": [
      "/tmp/ipykernel_53240/2441085883.py:13: RuntimeWarning: At least one epoch has multiple events. Only the latency of the first event will be retained.\n",
      "  epochs = read_epochs_eeglab(fname)\n",
      "/tmp/ipykernel_53240/2441085883.py:13: RuntimeWarning: At least one epoch has multiple events. Only the latency of the first event will be retained.\n",
      "  epochs = read_epochs_eeglab(fname)\n"
     ]
    },
    {
     "name": "stdout",
     "output_type": "stream",
     "text": [
      "No baseline correction applied\n",
      "0 projection items activated\n",
      "Ready.\n",
      "Found 126 global spectral events in this session!!!\n",
      "Kept 65 events for analysis in this session!!!\n",
      "Found 111 global spectral events in this session!!!\n",
      "Kept 59 events for analysis in this session!!!\n",
      "Extracting parameters from /gpfs/data/brainstorm-ws/data/TRAINING/series_2/T1/preprocessed/0419_Pre_Session1_Series2_Preprocessed.set...\n",
      "Not setting metadata\n",
      "115 matching events found\n",
      "No baseline correction applied\n",
      "0 projection items activated\n",
      "Ready.\n"
     ]
    },
    {
     "name": "stderr",
     "output_type": "stream",
     "text": [
      "/tmp/ipykernel_53240/2441085883.py:13: RuntimeWarning: At least one epoch has multiple events. Only the latency of the first event will be retained.\n",
      "  epochs = read_epochs_eeglab(fname)\n"
     ]
    },
    {
     "name": "stdout",
     "output_type": "stream",
     "text": [
      "Extracting parameters from /gpfs/data/brainstorm-ws/data/TRAINING/series_2/T2/preprocessed/0419_Post_Session1_Series2_Preprocessed.set...\n",
      "Not setting metadata\n",
      "81 matching events found\n",
      "No baseline correction applied\n",
      "0 projection items activated\n",
      "Ready.\n"
     ]
    },
    {
     "name": "stderr",
     "output_type": "stream",
     "text": [
      "/tmp/ipykernel_53240/2441085883.py:13: RuntimeWarning: At least one epoch has multiple events. Only the latency of the first event will be retained.\n",
      "  epochs = read_epochs_eeglab(fname)\n"
     ]
    },
    {
     "name": "stdout",
     "output_type": "stream",
     "text": [
      "Found 147 global spectral events in this session!!!\n",
      "Kept 68 events for analysis in this session!!!\n",
      "Found 79 global spectral events in this session!!!\n",
      "Kept 37 events for analysis in this session!!!\n",
      "Extracting parameters from /gpfs/data/brainstorm-ws/data/TRAINING/series_1/T1/preprocessed/0420_Pre_Session1_Series1_Preprocessed.set...\n",
      "Not setting metadata\n",
      "78 matching events found\n",
      "No baseline correction applied\n",
      "0 projection items activated\n",
      "Ready.\n",
      "Extracting parameters from /gpfs/data/brainstorm-ws/data/TRAINING/series_1/T2/preprocessed/0420_Post_Session1_Series1_Preprocessed.set...\n",
      "Not setting metadata\n",
      "76 matching events found\n"
     ]
    },
    {
     "name": "stderr",
     "output_type": "stream",
     "text": [
      "/tmp/ipykernel_53240/2441085883.py:13: RuntimeWarning: At least one epoch has multiple events. Only the latency of the first event will be retained.\n",
      "  epochs = read_epochs_eeglab(fname)\n",
      "/tmp/ipykernel_53240/2441085883.py:13: RuntimeWarning: At least one epoch has multiple events. Only the latency of the first event will be retained.\n",
      "  epochs = read_epochs_eeglab(fname)\n"
     ]
    },
    {
     "name": "stdout",
     "output_type": "stream",
     "text": [
      "No baseline correction applied\n",
      "0 projection items activated\n",
      "Ready.\n",
      "Found 115 global spectral events in this session!!!\n",
      "Kept 56 events for analysis in this session!!!\n",
      "Found 91 global spectral events in this session!!!\n",
      "Kept 49 events for analysis in this session!!!\n",
      "Extracting parameters from /gpfs/data/brainstorm-ws/data/TRAINING/series_2/T1/preprocessed/0421_Pre_Session1_Series2_Preprocessed.set...\n",
      "Not setting metadata\n",
      "78 matching events found\n",
      "No baseline correction applied\n",
      "0 projection items activated\n",
      "Ready.\n",
      "Extracting parameters from /gpfs/data/brainstorm-ws/data/TRAINING/series_2/T2/preprocessed/0421_Post_Session1_Series2_Preprocessed.set...\n"
     ]
    },
    {
     "name": "stderr",
     "output_type": "stream",
     "text": [
      "/tmp/ipykernel_53240/2441085883.py:13: RuntimeWarning: At least one epoch has multiple events. Only the latency of the first event will be retained.\n",
      "  epochs = read_epochs_eeglab(fname)\n",
      "/tmp/ipykernel_53240/2441085883.py:13: RuntimeWarning: At least one epoch has multiple events. Only the latency of the first event will be retained.\n",
      "  epochs = read_epochs_eeglab(fname)\n"
     ]
    },
    {
     "name": "stdout",
     "output_type": "stream",
     "text": [
      "Not setting metadata\n",
      "106 matching events found\n",
      "No baseline correction applied\n",
      "0 projection items activated\n",
      "Ready.\n",
      "Found 151 global spectral events in this session!!!\n",
      "Kept 75 events for analysis in this session!!!\n",
      "Found 200 global spectral events in this session!!!\n",
      "Kept 93 events for analysis in this session!!!\n",
      "Extracting parameters from /gpfs/data/brainstorm-ws/data/TRAINING/series_3/T1/preprocessed/0421_Pre_Session1_Series3_Preprocessed.set...\n",
      "Not setting metadata\n",
      "72 matching events found\n",
      "No baseline correction applied\n",
      "0 projection items activated\n",
      "Ready.\n",
      "Extracting parameters from /gpfs/data/brainstorm-ws/data/TRAINING/series_3/T2/preprocessed/0421_Post_Session1_Series3_Preprocessed.set...\n",
      "Not setting metadata\n",
      "68 matching events found\n",
      "No baseline correction applied\n",
      "0 projection items activated\n",
      "Ready.\n"
     ]
    },
    {
     "name": "stderr",
     "output_type": "stream",
     "text": [
      "/tmp/ipykernel_53240/2441085883.py:13: RuntimeWarning: At least one epoch has multiple events. Only the latency of the first event will be retained.\n",
      "  epochs = read_epochs_eeglab(fname)\n",
      "/tmp/ipykernel_53240/2441085883.py:13: RuntimeWarning: At least one epoch has multiple events. Only the latency of the first event will be retained.\n",
      "  epochs = read_epochs_eeglab(fname)\n"
     ]
    },
    {
     "name": "stdout",
     "output_type": "stream",
     "text": [
      "Found 159 global spectral events in this session!!!\n",
      "Kept 75 events for analysis in this session!!!\n",
      "Found 126 global spectral events in this session!!!\n",
      "Kept 69 events for analysis in this session!!!\n",
      "Extracting parameters from /gpfs/data/brainstorm-ws/data/TRAINING/series_1/T1/preprocessed/0422_Pre_Session1_Series1_Preprocessed.set...\n",
      "Not setting metadata\n",
      "86 matching events found\n",
      "No baseline correction applied\n",
      "0 projection items activated\n",
      "Ready.\n",
      "Extracting parameters from /gpfs/data/brainstorm-ws/data/TRAINING/series_1/T2/preprocessed/0422_Post_Session1_Series1_Preprocessed.set...\n",
      "Not setting metadata\n",
      "45 matching events found\n",
      "No baseline correction applied\n",
      "0 projection items activated\n",
      "Ready.\n"
     ]
    },
    {
     "name": "stderr",
     "output_type": "stream",
     "text": [
      "/tmp/ipykernel_53240/2441085883.py:13: RuntimeWarning: At least one epoch has multiple events. Only the latency of the first event will be retained.\n",
      "  epochs = read_epochs_eeglab(fname)\n",
      "/tmp/ipykernel_53240/2441085883.py:13: RuntimeWarning: At least one epoch has multiple events. Only the latency of the first event will be retained.\n",
      "  epochs = read_epochs_eeglab(fname)\n"
     ]
    },
    {
     "name": "stdout",
     "output_type": "stream",
     "text": [
      "Found 120 global spectral events in this session!!!\n",
      "Kept 62 events for analysis in this session!!!\n",
      "Found 58 global spectral events in this session!!!\n",
      "Kept 27 events for analysis in this session!!!\n",
      "Extracting parameters from /gpfs/data/brainstorm-ws/data/TRAINING/series_1/T1/preprocessed/0423_Pre_Session1_Series1_Preprocessed.set...\n",
      "Not setting metadata\n",
      "84 matching events found\n",
      "No baseline correction applied\n",
      "0 projection items activated\n",
      "Ready.\n",
      "Extracting parameters from /gpfs/data/brainstorm-ws/data/TRAINING/series_1/T2/preprocessed/0423_Post_Session1_Series1_Preprocessed.set...\n",
      "Not setting metadata\n",
      "71 matching events found\n"
     ]
    },
    {
     "name": "stderr",
     "output_type": "stream",
     "text": [
      "/tmp/ipykernel_53240/2441085883.py:13: RuntimeWarning: At least one epoch has multiple events. Only the latency of the first event will be retained.\n",
      "  epochs = read_epochs_eeglab(fname)\n",
      "/tmp/ipykernel_53240/2441085883.py:13: RuntimeWarning: At least one epoch has multiple events. Only the latency of the first event will be retained.\n",
      "  epochs = read_epochs_eeglab(fname)\n"
     ]
    },
    {
     "name": "stdout",
     "output_type": "stream",
     "text": [
      "No baseline correction applied\n",
      "0 projection items activated\n",
      "Ready.\n",
      "Found 118 global spectral events in this session!!!\n",
      "Kept 55 events for analysis in this session!!!\n",
      "Found 91 global spectral events in this session!!!\n",
      "Kept 43 events for analysis in this session!!!\n",
      "Extracting parameters from /gpfs/data/brainstorm-ws/data/TRAINING/series_1/T1/preprocessed/0431_Pre_Session1_Series1_Preprocessed.set...\n",
      "Not setting metadata\n",
      "81 matching events found\n",
      "No baseline correction applied\n",
      "0 projection items activated\n",
      "Ready.\n",
      "Extracting parameters from /gpfs/data/brainstorm-ws/data/TRAINING/series_1/T2/preprocessed/0431_Post_Session1_Series1_Preprocessed.set...\n",
      "Not setting metadata\n",
      "82 matching events found\n"
     ]
    },
    {
     "name": "stderr",
     "output_type": "stream",
     "text": [
      "/tmp/ipykernel_53240/2441085883.py:13: RuntimeWarning: At least one epoch has multiple events. Only the latency of the first event will be retained.\n",
      "  epochs = read_epochs_eeglab(fname)\n",
      "/tmp/ipykernel_53240/2441085883.py:13: RuntimeWarning: At least one epoch has multiple events. Only the latency of the first event will be retained.\n",
      "  epochs = read_epochs_eeglab(fname)\n"
     ]
    },
    {
     "name": "stdout",
     "output_type": "stream",
     "text": [
      "No baseline correction applied\n",
      "0 projection items activated\n",
      "Ready.\n",
      "Found 100 global spectral events in this session!!!\n",
      "Kept 57 events for analysis in this session!!!\n",
      "Found 85 global spectral events in this session!!!\n",
      "Kept 38 events for analysis in this session!!!\n",
      "Extracting parameters from /gpfs/data/brainstorm-ws/data/TRAINING/series_1/T1/preprocessed/0436_Pre_Session1_Series1_Preprocessed.set...\n",
      "Not setting metadata\n",
      "81 matching events found\n",
      "No baseline correction applied\n",
      "0 projection items activated\n",
      "Ready.\n",
      "Extracting parameters from /gpfs/data/brainstorm-ws/data/TRAINING/series_1/T2/preprocessed/0436_Post_Session1_Series1_Preprocessed.set...\n",
      "Not setting metadata\n",
      "80 matching events found\n"
     ]
    },
    {
     "name": "stderr",
     "output_type": "stream",
     "text": [
      "/tmp/ipykernel_53240/2441085883.py:13: RuntimeWarning: At least one epoch has multiple events. Only the latency of the first event will be retained.\n",
      "  epochs = read_epochs_eeglab(fname)\n",
      "/tmp/ipykernel_53240/2441085883.py:13: RuntimeWarning: At least one epoch has multiple events. Only the latency of the first event will be retained.\n",
      "  epochs = read_epochs_eeglab(fname)\n"
     ]
    },
    {
     "name": "stdout",
     "output_type": "stream",
     "text": [
      "No baseline correction applied\n",
      "0 projection items activated\n",
      "Ready.\n",
      "Found 81 global spectral events in this session!!!\n",
      "Kept 48 events for analysis in this session!!!\n",
      "Found 95 global spectral events in this session!!!\n",
      "Kept 50 events for analysis in this session!!!\n",
      "Extracting parameters from /gpfs/data/brainstorm-ws/data/TRAINING/series_2/T1/preprocessed/0436_Pre_Session1_Series2_Preprocessed.set...\n",
      "Not setting metadata\n",
      "81 matching events found\n",
      "No baseline correction applied\n",
      "0 projection items activated\n",
      "Ready.\n",
      "Extracting parameters from /gpfs/data/brainstorm-ws/data/TRAINING/series_2/T2/preprocessed/0436_Post_Session1_Series2_Preprocessed.set...\n",
      "Not setting metadata\n",
      "87 matching events found\n"
     ]
    },
    {
     "name": "stderr",
     "output_type": "stream",
     "text": [
      "/tmp/ipykernel_53240/2441085883.py:13: RuntimeWarning: At least one epoch has multiple events. Only the latency of the first event will be retained.\n",
      "  epochs = read_epochs_eeglab(fname)\n",
      "/tmp/ipykernel_53240/2441085883.py:13: RuntimeWarning: At least one epoch has multiple events. Only the latency of the first event will be retained.\n",
      "  epochs = read_epochs_eeglab(fname)\n"
     ]
    },
    {
     "name": "stdout",
     "output_type": "stream",
     "text": [
      "No baseline correction applied\n",
      "0 projection items activated\n",
      "Ready.\n",
      "Found 106 global spectral events in this session!!!\n",
      "Kept 51 events for analysis in this session!!!\n",
      "Found 137 global spectral events in this session!!!\n",
      "Kept 65 events for analysis in this session!!!\n",
      "Extracting parameters from /gpfs/data/brainstorm-ws/data/TRAINING/series_1/T1/preprocessed/0437_Pre_Session1_Series1_Preprocessed.set...\n",
      "Not setting metadata\n",
      "83 matching events found\n",
      "No baseline correction applied\n",
      "0 projection items activated\n",
      "Ready.\n",
      "Extracting parameters from /gpfs/data/brainstorm-ws/data/TRAINING/series_1/T2/preprocessed/0437_Post_Session1_Series1_Preprocessed.set...\n"
     ]
    },
    {
     "name": "stderr",
     "output_type": "stream",
     "text": [
      "/tmp/ipykernel_53240/2441085883.py:13: RuntimeWarning: At least one epoch has multiple events. Only the latency of the first event will be retained.\n",
      "  epochs = read_epochs_eeglab(fname)\n",
      "/tmp/ipykernel_53240/2441085883.py:13: RuntimeWarning: At least one epoch has multiple events. Only the latency of the first event will be retained.\n",
      "  epochs = read_epochs_eeglab(fname)\n"
     ]
    },
    {
     "name": "stdout",
     "output_type": "stream",
     "text": [
      "Not setting metadata\n",
      "71 matching events found\n",
      "No baseline correction applied\n",
      "0 projection items activated\n",
      "Ready.\n",
      "Found 121 global spectral events in this session!!!\n",
      "Kept 59 events for analysis in this session!!!\n",
      "Found 98 global spectral events in this session!!!\n",
      "Kept 47 events for analysis in this session!!!\n",
      "Extracting parameters from /gpfs/data/brainstorm-ws/data/TRAINING/series_1/T1/preprocessed/0440_Pre_Session1_Series1_Preprocessed.set...\n",
      "Not setting metadata\n",
      "111 matching events found\n",
      "No baseline correction applied\n",
      "0 projection items activated\n",
      "Ready.\n",
      "Extracting parameters from /gpfs/data/brainstorm-ws/data/TRAINING/series_1/T2/preprocessed/0440_Post_Session1_Series1_Preprocessed.set...\n"
     ]
    },
    {
     "name": "stderr",
     "output_type": "stream",
     "text": [
      "/tmp/ipykernel_53240/2441085883.py:13: RuntimeWarning: At least one epoch has multiple events. Only the latency of the first event will be retained.\n",
      "  epochs = read_epochs_eeglab(fname)\n",
      "/tmp/ipykernel_53240/2441085883.py:13: RuntimeWarning: At least one epoch has multiple events. Only the latency of the first event will be retained.\n",
      "  epochs = read_epochs_eeglab(fname)\n"
     ]
    },
    {
     "name": "stdout",
     "output_type": "stream",
     "text": [
      "Not setting metadata\n",
      "81 matching events found\n",
      "No baseline correction applied\n",
      "0 projection items activated\n",
      "Ready.\n",
      "Found 111 global spectral events in this session!!!\n",
      "Kept 57 events for analysis in this session!!!\n",
      "Found 89 global spectral events in this session!!!\n",
      "Kept 54 events for analysis in this session!!!\n",
      "Extracting parameters from /gpfs/data/brainstorm-ws/data/TRAINING/series_1/T1/preprocessed/0451_Pre_Session1_Series1_Preprocessed.set...\n",
      "Not setting metadata\n",
      "81 matching events found\n",
      "No baseline correction applied\n",
      "0 projection items activated\n",
      "Ready.\n",
      "Extracting parameters from /gpfs/data/brainstorm-ws/data/TRAINING/series_1/T2/preprocessed/0451_Post_Session1_Series1_Preprocessed.set...\n",
      "Not setting metadata\n",
      "76 matching events found\n"
     ]
    },
    {
     "name": "stderr",
     "output_type": "stream",
     "text": [
      "/tmp/ipykernel_53240/2441085883.py:13: RuntimeWarning: At least one epoch has multiple events. Only the latency of the first event will be retained.\n",
      "  epochs = read_epochs_eeglab(fname)\n",
      "/tmp/ipykernel_53240/2441085883.py:13: RuntimeWarning: At least one epoch has multiple events. Only the latency of the first event will be retained.\n",
      "  epochs = read_epochs_eeglab(fname)\n"
     ]
    },
    {
     "name": "stdout",
     "output_type": "stream",
     "text": [
      "No baseline correction applied\n",
      "0 projection items activated\n",
      "Ready.\n",
      "Found 94 global spectral events in this session!!!\n",
      "Kept 45 events for analysis in this session!!!\n",
      "Found 74 global spectral events in this session!!!\n",
      "Kept 42 events for analysis in this session!!!\n",
      "Extracting parameters from /gpfs/data/brainstorm-ws/data/TRAINING/series_1/T1/preprocessed/0461_Pre_Session1_Series1_Preprocessed.set...\n",
      "Not setting metadata\n",
      "92 matching events found\n",
      "No baseline correction applied\n",
      "0 projection items activated\n",
      "Ready.\n",
      "Extracting parameters from /gpfs/data/brainstorm-ws/data/TRAINING/series_1/T2/preprocessed/0461_Post_Session1_Series1_Preprocessed.set...\n",
      "Not setting metadata\n",
      "83 matching events found\n"
     ]
    },
    {
     "name": "stderr",
     "output_type": "stream",
     "text": [
      "/tmp/ipykernel_53240/2441085883.py:13: RuntimeWarning: At least one epoch has multiple events. Only the latency of the first event will be retained.\n",
      "  epochs = read_epochs_eeglab(fname)\n",
      "/tmp/ipykernel_53240/2441085883.py:13: RuntimeWarning: At least one epoch has multiple events. Only the latency of the first event will be retained.\n",
      "  epochs = read_epochs_eeglab(fname)\n"
     ]
    },
    {
     "name": "stdout",
     "output_type": "stream",
     "text": [
      "No baseline correction applied\n",
      "0 projection items activated\n",
      "Ready.\n",
      "Found 106 global spectral events in this session!!!\n",
      "Kept 65 events for analysis in this session!!!\n",
      "Found 100 global spectral events in this session!!!\n",
      "Kept 59 events for analysis in this session!!!\n",
      "Extracting parameters from /gpfs/data/brainstorm-ws/data/TRAINING/series_1/T1/preprocessed/0466_Pre_Session1_Series1_Preprocessed.set...\n",
      "Not setting metadata\n",
      "82 matching events found\n",
      "No baseline correction applied\n",
      "0 projection items activated\n",
      "Ready.\n",
      "Extracting parameters from /gpfs/data/brainstorm-ws/data/TRAINING/series_1/T2/preprocessed/0466_Post_Session1_Series1_Preprocessed.set...\n",
      "Not setting metadata\n",
      "76 matching events found\n"
     ]
    },
    {
     "name": "stderr",
     "output_type": "stream",
     "text": [
      "/tmp/ipykernel_53240/2441085883.py:13: RuntimeWarning: At least one epoch has multiple events. Only the latency of the first event will be retained.\n",
      "  epochs = read_epochs_eeglab(fname)\n",
      "/tmp/ipykernel_53240/2441085883.py:13: RuntimeWarning: At least one epoch has multiple events. Only the latency of the first event will be retained.\n",
      "  epochs = read_epochs_eeglab(fname)\n"
     ]
    },
    {
     "name": "stdout",
     "output_type": "stream",
     "text": [
      "No baseline correction applied\n",
      "0 projection items activated\n",
      "Ready.\n",
      "Found 111 global spectral events in this session!!!\n",
      "Kept 53 events for analysis in this session!!!\n",
      "Found 101 global spectral events in this session!!!\n",
      "Kept 40 events for analysis in this session!!!\n",
      "Extracting parameters from /gpfs/data/brainstorm-ws/data/TRAINING/series_1/T1/preprocessed/0467_Pre_Session1_Series1_Preprocessed.set...\n",
      "Not setting metadata\n",
      "81 matching events found\n",
      "No baseline correction applied\n",
      "0 projection items activated\n",
      "Ready.\n",
      "Extracting parameters from /gpfs/data/brainstorm-ws/data/TRAINING/series_1/T2/preprocessed/0467_Post_Session1_Series1_Preprocessed.set...\n",
      "Not setting metadata\n",
      "82 matching events found\n"
     ]
    },
    {
     "name": "stderr",
     "output_type": "stream",
     "text": [
      "/tmp/ipykernel_53240/2441085883.py:13: RuntimeWarning: At least one epoch has multiple events. Only the latency of the first event will be retained.\n",
      "  epochs = read_epochs_eeglab(fname)\n",
      "/tmp/ipykernel_53240/2441085883.py:13: RuntimeWarning: At least one epoch has multiple events. Only the latency of the first event will be retained.\n",
      "  epochs = read_epochs_eeglab(fname)\n"
     ]
    },
    {
     "name": "stdout",
     "output_type": "stream",
     "text": [
      "No baseline correction applied\n",
      "0 projection items activated\n",
      "Ready.\n",
      "Found 94 global spectral events in this session!!!\n",
      "Kept 54 events for analysis in this session!!!\n",
      "Found 74 global spectral events in this session!!!\n",
      "Kept 25 events for analysis in this session!!!\n",
      "Extracting parameters from /gpfs/data/brainstorm-ws/data/TRAINING/series_1/T1/preprocessed/0468_Pre_Session1_Series1_Preprocessed.set...\n",
      "Not setting metadata\n",
      "94 matching events found\n",
      "No baseline correction applied\n",
      "0 projection items activated\n",
      "Ready.\n",
      "Extracting parameters from /gpfs/data/brainstorm-ws/data/TRAINING/series_1/T2/preprocessed/0468_Post_Session1_Series1_Preprocessed.set...\n",
      "Not setting metadata\n",
      "83 matching events found\n"
     ]
    },
    {
     "name": "stderr",
     "output_type": "stream",
     "text": [
      "/tmp/ipykernel_53240/2441085883.py:13: RuntimeWarning: At least one epoch has multiple events. Only the latency of the first event will be retained.\n",
      "  epochs = read_epochs_eeglab(fname)\n",
      "/tmp/ipykernel_53240/2441085883.py:13: RuntimeWarning: At least one epoch has multiple events. Only the latency of the first event will be retained.\n",
      "  epochs = read_epochs_eeglab(fname)\n"
     ]
    },
    {
     "name": "stdout",
     "output_type": "stream",
     "text": [
      "No baseline correction applied\n",
      "0 projection items activated\n",
      "Ready.\n",
      "Found 150 global spectral events in this session!!!\n",
      "Kept 72 events for analysis in this session!!!\n",
      "Found 124 global spectral events in this session!!!\n",
      "Kept 63 events for analysis in this session!!!\n",
      "Extracting parameters from /gpfs/data/brainstorm-ws/data/TRAINING/series_1/T1/preprocessed/0469_Pre_Session1_Series1_Preprocessed.set...\n",
      "Not setting metadata\n",
      "76 matching events found\n",
      "No baseline correction applied\n",
      "0 projection items activated\n",
      "Ready.\n",
      "Extracting parameters from /gpfs/data/brainstorm-ws/data/TRAINING/series_1/T2/preprocessed/0469_Post_Session1_Series1_Preprocessed.set...\n",
      "Not setting metadata\n",
      "66 matching events found\n",
      "No baseline correction applied\n",
      "0 projection items activated\n",
      "Ready.\n"
     ]
    },
    {
     "name": "stderr",
     "output_type": "stream",
     "text": [
      "/tmp/ipykernel_53240/2441085883.py:13: RuntimeWarning: At least one epoch has multiple events. Only the latency of the first event will be retained.\n",
      "  epochs = read_epochs_eeglab(fname)\n",
      "/tmp/ipykernel_53240/2441085883.py:13: RuntimeWarning: At least one epoch has multiple events. Only the latency of the first event will be retained.\n",
      "  epochs = read_epochs_eeglab(fname)\n"
     ]
    },
    {
     "name": "stdout",
     "output_type": "stream",
     "text": [
      "Found 102 global spectral events in this session!!!\n",
      "Kept 48 events for analysis in this session!!!\n",
      "Found 70 global spectral events in this session!!!\n",
      "Kept 39 events for analysis in this session!!!\n",
      "Extracting parameters from /gpfs/data/brainstorm-ws/data/TRAINING/series_1/T1/preprocessed/0472_Pre_Session1_Series1_Preprocessed.set...\n",
      "Not setting metadata\n",
      "115 matching events found\n",
      "No baseline correction applied\n",
      "0 projection items activated\n",
      "Ready.\n",
      "Extracting parameters from /gpfs/data/brainstorm-ws/data/TRAINING/series_1/T2/preprocessed/0472_Post_Session1_Series1_Preprocessed.set...\n"
     ]
    },
    {
     "name": "stderr",
     "output_type": "stream",
     "text": [
      "/tmp/ipykernel_53240/2441085883.py:13: RuntimeWarning: At least one epoch has multiple events. Only the latency of the first event will be retained.\n",
      "  epochs = read_epochs_eeglab(fname)\n",
      "/tmp/ipykernel_53240/2441085883.py:13: RuntimeWarning: At least one epoch has multiple events. Only the latency of the first event will be retained.\n",
      "  epochs = read_epochs_eeglab(fname)\n"
     ]
    },
    {
     "name": "stdout",
     "output_type": "stream",
     "text": [
      "Not setting metadata\n",
      "87 matching events found\n",
      "No baseline correction applied\n",
      "0 projection items activated\n",
      "Ready.\n",
      "Found 180 global spectral events in this session!!!\n",
      "Kept 97 events for analysis in this session!!!\n",
      "Found 129 global spectral events in this session!!!\n",
      "Kept 56 events for analysis in this session!!!\n",
      "Extracting parameters from /gpfs/data/brainstorm-ws/data/TRAINING/series_2/T1/preprocessed/0498_Pre_Session1_Series2_Preprocessed.set...\n",
      "Not setting metadata\n",
      "98 matching events found\n",
      "No baseline correction applied\n",
      "0 projection items activated\n",
      "Ready.\n",
      "Extracting parameters from /gpfs/data/brainstorm-ws/data/TRAINING/series_2/T2/preprocessed/0498_Post_Session1_Series2_Preprocessed.set...\n",
      "Not setting metadata\n"
     ]
    },
    {
     "name": "stderr",
     "output_type": "stream",
     "text": [
      "/tmp/ipykernel_53240/2441085883.py:13: RuntimeWarning: At least one epoch has multiple events. Only the latency of the first event will be retained.\n",
      "  epochs = read_epochs_eeglab(fname)\n",
      "/tmp/ipykernel_53240/2441085883.py:13: RuntimeWarning: At least one epoch has multiple events. Only the latency of the first event will be retained.\n",
      "  epochs = read_epochs_eeglab(fname)\n"
     ]
    },
    {
     "name": "stdout",
     "output_type": "stream",
     "text": [
      "82 matching events found\n",
      "No baseline correction applied\n",
      "0 projection items activated\n",
      "Ready.\n",
      "Found 106 global spectral events in this session!!!\n",
      "Kept 45 events for analysis in this session!!!\n",
      "Found 85 global spectral events in this session!!!\n",
      "Kept 47 events for analysis in this session!!!\n",
      "Extracting parameters from /gpfs/data/brainstorm-ws/data/TRAINING/series_1/T1/preprocessed/0511_Pre_Session1_Series1_Preprocessed.set...\n",
      "Not setting metadata\n",
      "91 matching events found\n",
      "No baseline correction applied\n",
      "0 projection items activated\n",
      "Ready.\n",
      "Extracting parameters from /gpfs/data/brainstorm-ws/data/TRAINING/series_1/T2/preprocessed/0511_Post_Session1_Series1_Preprocessed.set...\n"
     ]
    },
    {
     "name": "stderr",
     "output_type": "stream",
     "text": [
      "/tmp/ipykernel_53240/2441085883.py:13: RuntimeWarning: At least one epoch has multiple events. Only the latency of the first event will be retained.\n",
      "  epochs = read_epochs_eeglab(fname)\n",
      "/tmp/ipykernel_53240/2441085883.py:13: RuntimeWarning: At least one epoch has multiple events. Only the latency of the first event will be retained.\n",
      "  epochs = read_epochs_eeglab(fname)\n"
     ]
    },
    {
     "name": "stdout",
     "output_type": "stream",
     "text": [
      "Not setting metadata\n",
      "87 matching events found\n",
      "No baseline correction applied\n",
      "0 projection items activated\n",
      "Ready.\n",
      "Found 155 global spectral events in this session!!!\n",
      "Kept 78 events for analysis in this session!!!\n",
      "Found 109 global spectral events in this session!!!\n",
      "Kept 54 events for analysis in this session!!!\n",
      "Extracting parameters from /gpfs/data/brainstorm-ws/data/TRAINING/series_1/T1/preprocessed/9001_Pre_Session1_Series1_Preprocessed.set...\n",
      "Not setting metadata\n",
      "98 matching events found\n",
      "No baseline correction applied\n",
      "0 projection items activated\n",
      "Ready.\n",
      "Extracting parameters from /gpfs/data/brainstorm-ws/data/TRAINING/series_1/T2/preprocessed/9001_Post_Session1_Series1_Preprocessed.set...\n",
      "Not setting metadata\n",
      "76 matching events found\n"
     ]
    },
    {
     "name": "stderr",
     "output_type": "stream",
     "text": [
      "/tmp/ipykernel_53240/2441085883.py:13: RuntimeWarning: At least one epoch has multiple events. Only the latency of the first event will be retained.\n",
      "  epochs = read_epochs_eeglab(fname)\n",
      "/tmp/ipykernel_53240/2441085883.py:13: RuntimeWarning: At least one epoch has multiple events. Only the latency of the first event will be retained.\n",
      "  epochs = read_epochs_eeglab(fname)\n"
     ]
    },
    {
     "name": "stdout",
     "output_type": "stream",
     "text": [
      "No baseline correction applied\n",
      "0 projection items activated\n",
      "Ready.\n",
      "Found 118 global spectral events in this session!!!\n",
      "Kept 62 events for analysis in this session!!!\n",
      "Found 98 global spectral events in this session!!!\n",
      "Kept 54 events for analysis in this session!!!\n",
      "Extracting parameters from /gpfs/data/brainstorm-ws/data/TRAINING/series_2/T1/preprocessed/9001_Pre_Session1_Series2_Preprocessed.set...\n",
      "Not setting metadata\n",
      "97 matching events found\n",
      "No baseline correction applied\n",
      "0 projection items activated\n",
      "Ready.\n",
      "Extracting parameters from /gpfs/data/brainstorm-ws/data/TRAINING/series_2/T2/preprocessed/9001_Post_Session1_Series2_Preprocessed.set...\n",
      "Not setting metadata\n",
      "66 matching events found\n"
     ]
    },
    {
     "name": "stderr",
     "output_type": "stream",
     "text": [
      "/tmp/ipykernel_53240/2441085883.py:13: RuntimeWarning: At least one epoch has multiple events. Only the latency of the first event will be retained.\n",
      "  epochs = read_epochs_eeglab(fname)\n",
      "/tmp/ipykernel_53240/2441085883.py:13: RuntimeWarning: At least one epoch has multiple events. Only the latency of the first event will be retained.\n",
      "  epochs = read_epochs_eeglab(fname)\n"
     ]
    },
    {
     "name": "stdout",
     "output_type": "stream",
     "text": [
      "No baseline correction applied\n",
      "0 projection items activated\n",
      "Ready.\n",
      "Found 111 global spectral events in this session!!!\n",
      "Kept 57 events for analysis in this session!!!\n",
      "Found 83 global spectral events in this session!!!\n",
      "Kept 44 events for analysis in this session!!!\n",
      "Extracting parameters from /gpfs/data/brainstorm-ws/data/TRAINING/series_6/T1/preprocessed/9001_Pre_Session1_Series6_Preprocessed.set...\n",
      "Not setting metadata\n",
      "83 matching events found\n",
      "No baseline correction applied\n",
      "0 projection items activated\n",
      "Ready.\n",
      "Extracting parameters from /gpfs/data/brainstorm-ws/data/TRAINING/series_6/T2/preprocessed/9001_Post_Session1_Series6_Preprocessed.set...\n",
      "Not setting metadata\n",
      "77 matching events found\n"
     ]
    },
    {
     "name": "stderr",
     "output_type": "stream",
     "text": [
      "/tmp/ipykernel_53240/2441085883.py:13: RuntimeWarning: At least one epoch has multiple events. Only the latency of the first event will be retained.\n",
      "  epochs = read_epochs_eeglab(fname)\n",
      "/tmp/ipykernel_53240/2441085883.py:13: RuntimeWarning: At least one epoch has multiple events. Only the latency of the first event will be retained.\n",
      "  epochs = read_epochs_eeglab(fname)\n"
     ]
    },
    {
     "name": "stdout",
     "output_type": "stream",
     "text": [
      "No baseline correction applied\n",
      "0 projection items activated\n",
      "Ready.\n",
      "Found 83 global spectral events in this session!!!\n",
      "Kept 40 events for analysis in this session!!!\n",
      "Found 103 global spectral events in this session!!!\n",
      "Kept 53 events for analysis in this session!!!\n"
     ]
    }
   ],
   "source": [
    "features = np.zeros((n_subj_series, 6))\n",
    "\n",
    "data_type_dir = op.join(data_dir, data_type)\n",
    "for idx in range(n_subj_series):\n",
    "    features[idx] = get_features(subj_ids[idx], series_nums[idx], data_type_dir)"
   ]
  },
  {
   "cell_type": "markdown",
   "id": "1da3958b",
   "metadata": {},
   "source": [
    "## Try to visualize clusters and observe trends"
   ]
  },
  {
   "cell_type": "code",
   "execution_count": 17,
   "id": "41f7f46e",
   "metadata": {
    "scrolled": false
   },
   "outputs": [
    {
     "data": {
      "application/vnd.jupyter.widget-view+json": {
       "model_id": "0b90182d2a054ebd81c837cddd36b4dd",
       "version_major": 2,
       "version_minor": 0
      },
      "image/png": "[encoded data removed]",
      "text/html": [
       "\n",
       "            <div style=\"display: inline-block;\">\n",
       "                <div class=\"jupyter-widgets widget-label\" style=\"text-align: center;\">\n",
       "                    Figure\n",
       "                </div>\n",
       "                <img src='data:image/png;base64,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' width=600.0/>\n",
       "            </div>\n",
       "        "
      ],
      "text/plain": [
       "Canvas(toolbar=Toolbar(toolitems=[('Home', 'Reset original view', 'home', 'home'), ('Back', 'Back to previous …"
      ]
     },
     "metadata": {},
     "output_type": "display_data"
    },
    {
     "data": {
      "application/vnd.jupyter.widget-view+json": {
       "model_id": "41ff1a7b6fd7463cac93e9c6e2661a39",
       "version_major": 2,
       "version_minor": 0
      },
      "image/png": "[encoded data removed]",
      "text/html": [
       "\n",
       "            <div style=\"display: inline-block;\">\n",
       "                <div class=\"jupyter-widgets widget-label\" style=\"text-align: center;\">\n",
       "                    Figure\n",
       "                </div>\n",
       "                <img src='data:image/png;base64,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' width=600.0/>\n",
       "            </div>\n",
       "        "
      ],
      "text/plain": [
       "Canvas(toolbar=Toolbar(toolitems=[('Home', 'Reset original view', 'home', 'home'), ('Back', 'Back to previous …"
      ]
     },
     "metadata": {},
     "output_type": "display_data"
    },
    {
     "data": {
      "application/vnd.jupyter.widget-view+json": {
       "model_id": "a3f823b1d1044ae89386560a3b31b1c2",
       "version_major": 2,
       "version_minor": 0
      },
      "image/png": "[encoded data removed]",
      "text/html": [
       "\n",
       "            <div style=\"display: inline-block;\">\n",
       "                <div class=\"jupyter-widgets widget-label\" style=\"text-align: center;\">\n",
       "                    Figure\n",
       "                </div>\n",
       "                <img src='data:image/png;base64,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' width=600.0/>\n",
       "            </div>\n",
       "        "
      ],
      "text/plain": [
       "Canvas(toolbar=Toolbar(toolitems=[('Home', 'Reset original view', 'home', 'home'), ('Back', 'Back to previous …"
      ]
     },
     "metadata": {},
     "output_type": "display_data"
    }
   ],
   "source": [
    "# plot 1st and 2nd features\n",
    "#ax_labels = [r'$std(W_{sess_2})-std(W_{sess_1})$', r'$\\parallel W_{sess_2}-W_{sess_1}\\parallel$']\n",
    "ax_labels = ['feature 1', 'feature 2']\n",
    "plot_features_scatter(x=features[:, 0], y=features[:, 1], responder_labels=responders, ax_labels=ax_labels)\n",
    "\n",
    "# plot 3st and 4rd features\n",
    "#ax_labels = [r'$\\Delta$ cross-hemisphere beta event coherence', r'$\\parallel W_{sess_2}-W_{sess_1}\\parallel$']\n",
    "ax_labels = ['feature 3', 'feature 4']\n",
    "plot_features_scatter(x=features[:, 2], y=features[:, 3], responder_labels=responders, ax_labels=ax_labels)\n",
    "\n",
    "# plot 1st and 3rd features\n",
    "#ax_labels = [r'$\\Delta$ cross-hemisphere beta event coherence', r'$\\parallel W_{sess_2}-W_{sess_1}\\parallel$']\n",
    "ax_labels = ['feature 5', 'feature 6']\n",
    "plot_features_scatter(x=features[:, 4], y=features[:, 5], responder_labels=responders, ax_labels=ax_labels)\n"
   ]
  },
  {
   "cell_type": "code",
   "execution_count": 29,
   "id": "fa0f5c66",
   "metadata": {},
   "outputs": [
    {
     "data": {
      "application/vnd.jupyter.widget-view+json": {
       "model_id": "4ad410f8b8f04048ace3bda316280109",
       "version_major": 2,
       "version_minor": 0
      },
      "image/png": "[encoded data removed]",
      "text/html": [
       "\n",
       "            <div style=\"display: inline-block;\">\n",
       "                <div class=\"jupyter-widgets widget-label\" style=\"text-align: center;\">\n",
       "                    Figure\n",
       "                </div>\n",
       "                <img src='data:image/png;base64,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' width=600.0/>\n",
       "            </div>\n",
       "        "
      ],
      "text/plain": [
       "Canvas(toolbar=Toolbar(toolitems=[('Home', 'Reset original view', 'home', 'home'), ('Back', 'Back to previous …"
      ]
     },
     "metadata": {},
     "output_type": "display_data"
    }
   ],
   "source": [
    "# PCA: see if the two data classes appear to be linearly separable\n",
    "# answer: nope\n",
    "X = features.copy()\n",
    "X = StandardScaler().fit_transform(X)\n",
    "pca = PCA()\n",
    "pca.fit(X)\n",
    "pcs = pca.components_[:2, :]\n",
    "X_pc = X @ pcs.T\n",
    "\n",
    "ax_labels = ['PC_2', 'PC_1']\n",
    "plot_features_scatter(x=X_pc[:, 1], y=X_pc[:, 0], responder_labels=responders, ax_labels=ax_labels)"
   ]
  },
  {
   "cell_type": "markdown",
   "id": "187aa891",
   "metadata": {},
   "source": [
    "## Train and validate SVM classifier\n",
    "- first try omicient version (i.e., training data = testing data)\n",
    "- then try with separate training and testing datasets, for demographic regressors only\n",
    "- finally add EEG features"
   ]
  },
  {
   "cell_type": "code",
   "execution_count": 11,
   "id": "7f3051d0",
   "metadata": {
    "scrolled": true
   },
   "outputs": [
    {
     "data": {
      "text/plain": [
       "0.8"
      ]
     },
     "execution_count": 11,
     "metadata": {},
     "output_type": "execute_result"
    },
    {
     "name": "stdout",
     "output_type": "stream",
     "text": [
      "Found 27 global spectral events!!!\n",
      "Kept 22 events for analysis!!!\n",
      "shape: (22, 64, 299)\n",
      "Found 138 global spectral events!!!\n",
      "Kept 80 events for analysis!!!\n",
      "shape: (80, 64, 299)\n"
     ]
    },
    {
     "name": "stderr",
     "output_type": "stream",
     "text": [
      "/tmp/ipykernel_52587/24770785.py:13: RuntimeWarning: At least one epoch has multiple events. Only the latency of the first event will be retained.\n",
      "/tmp/ipykernel_52587/24770785.py:13: RuntimeWarning: At least one epoch has multiple events. Only the latency of the first event will be retained.\n",
      "/tmp/ipykernel_52587/24770785.py:13: RuntimeWarning: At least one epoch has multiple events. Only the latency of the first event will be retained.\n",
      "/tmp/ipykernel_52587/24770785.py:13: RuntimeWarning: At least one epoch has multiple events. Only the latency of the first event will be retained.\n",
      "/tmp/ipykernel_52587/24770785.py:13: RuntimeWarning: At least one epoch has multiple events. Only the latency of the first event will be retained.\n",
      "/tmp/ipykernel_52587/24770785.py:13: RuntimeWarning: At least one epoch has multiple events. Only the latency of the first event will be retained.\n"
     ]
    },
    {
     "name": "stdout",
     "output_type": "stream",
     "text": [
      "Found 60 global spectral events!!!\n",
      "Kept 46 events for analysis!!!\n",
      "shape: (46, 64, 299)\n",
      "Found 142 global spectral events!!!\n",
      "Kept 73 events for analysis!!!\n",
      "shape: (73, 64, 299)\n"
     ]
    },
    {
     "name": "stderr",
     "output_type": "stream",
     "text": [
      "/tmp/ipykernel_52587/24770785.py:13: RuntimeWarning: At least one epoch has multiple events. Only the latency of the first event will be retained.\n",
      "/tmp/ipykernel_52587/24770785.py:13: RuntimeWarning: At least one epoch has multiple events. Only the latency of the first event will be retained.\n",
      "/tmp/ipykernel_52587/24770785.py:13: RuntimeWarning: At least one epoch has multiple events. Only the latency of the first event will be retained.\n",
      "/tmp/ipykernel_52587/24770785.py:13: RuntimeWarning: At least one epoch has multiple events. Only the latency of the first event will be retained.\n",
      "/tmp/ipykernel_52587/24770785.py:13: RuntimeWarning: At least one epoch has multiple events. Only the latency of the first event will be retained.\n",
      "/tmp/ipykernel_52587/24770785.py:13: RuntimeWarning: At least one epoch has multiple events. Only the latency of the first event will be retained.\n"
     ]
    },
    {
     "name": "stdout",
     "output_type": "stream",
     "text": [
      "Found 158 global spectral events!!!\n",
      "Kept 91 events for analysis!!!\n",
      "shape: (91, 64, 299)\n",
      "Found 164 global spectral events!!!\n",
      "Kept 86 events for analysis!!!\n",
      "shape: (86, 64, 299)\n"
     ]
    },
    {
     "name": "stderr",
     "output_type": "stream",
     "text": [
      "/tmp/ipykernel_52587/24770785.py:13: RuntimeWarning: At least one epoch has multiple events. Only the latency of the first event will be retained.\n",
      "/tmp/ipykernel_52587/24770785.py:13: RuntimeWarning: At least one epoch has multiple events. Only the latency of the first event will be retained.\n",
      "/tmp/ipykernel_52587/24770785.py:13: RuntimeWarning: At least one epoch has multiple events. Only the latency of the first event will be retained.\n",
      "/tmp/ipykernel_52587/24770785.py:13: RuntimeWarning: At least one epoch has multiple events. Only the latency of the first event will be retained.\n",
      "/tmp/ipykernel_52587/24770785.py:13: RuntimeWarning: At least one epoch has multiple events. Only the latency of the first event will be retained.\n",
      "/tmp/ipykernel_52587/24770785.py:13: RuntimeWarning: At least one epoch has multiple events. Only the latency of the first event will be retained.\n"
     ]
    }
   ],
   "source": [
    "X = np.c_[feat_1, feat_2, feat_3, feat_4, feat_5, ages, sexes, depression_histories, symptoms_init]\n",
    "X = StandardScaler().fit_transform(X)\n",
    "svm_cls = svm.SVC(kernel='rbf')\n",
    "svm_cls.fit(X, responders)\n",
    "svm_cls.score(X, responders)"
   ]
  },
  {
   "cell_type": "code",
   "execution_count": 33,
   "id": "312d3455",
   "metadata": {},
   "outputs": [
    {
     "name": "stdout",
     "output_type": "stream",
     "text": [
      "Mean accuracy: 0.4410689655172414\n"
     ]
    }
   ],
   "source": [
    "n_perm = 1000\n",
    "training_set_ratio = 0.7\n",
    "\n",
    "n_set = n_subj_series\n",
    "n_training_set = int(np.round(training_set_ratio * n_set))\n",
    "n_test_set = int(n_set - n_training_set)\n",
    "\n",
    "accuracy_scores = np.zeros((n_perm,))\n",
    "for perm_idx in range(n_perm):\n",
    "    \n",
    "    set_idxs = np.arange(n_set)\n",
    "    np.random.shuffle(set_idxs)\n",
    "    train_idxs = set_idxs[:n_training_set]\n",
    "    test_idxs = set_idxs[n_training_set:]\n",
    "    \n",
    "    # fit to training set\n",
    "    X_train = np.c_[ages[train_idxs],\n",
    "                    sexes[train_idxs],\n",
    "                    depression_histories[train_idxs],\n",
    "                    symptoms_init[train_idxs]]\n",
    "    std_scaler = StandardScaler().fit(X_train)\n",
    "    X_train = std_scaler.transform(X_train)\n",
    "    Y_train = responders[train_idxs]\n",
    "    svm_cls = svm.SVC(kernel='linear')\n",
    "    svm_cls.fit(X_train, Y_train)\n",
    "    \n",
    "    # validate on test set\n",
    "    X_test = np.c_[ages[test_idxs],\n",
    "                   sexes[test_idxs],\n",
    "                   depression_histories[test_idxs],\n",
    "                   symptoms_init[test_idxs]]\n",
    "    X_test = std_scaler.transform(X_test) \n",
    "    Y_test = responders[test_idxs]\n",
    "    accuracy_scores[perm_idx] = svm_cls.score(X_test, Y_test)\n",
    "\n",
    "print(f'Mean accuracy: {np.mean(accuracy_scores)}')"
   ]
  },
  {
   "cell_type": "code",
   "execution_count": 31,
   "id": "883040c7",
   "metadata": {},
   "outputs": [
    {
     "name": "stdout",
     "output_type": "stream",
     "text": [
      "Mean accuracy: 0.5338965517241379\n"
     ]
    }
   ],
   "source": [
    "n_perm = 1000\n",
    "training_set_ratio = 0.7\n",
    "\n",
    "n_set = n_subj_series\n",
    "n_training_set = int(np.round(training_set_ratio * n_set))\n",
    "n_test_set = int(n_set - n_training_set)\n",
    "\n",
    "accuracy_scores = np.zeros((n_perm,))\n",
    "for perm_idx in range(n_perm):\n",
    "    \n",
    "    set_idxs = np.arange(n_set)\n",
    "    np.random.shuffle(set_idxs)\n",
    "    train_idxs = set_idxs[:n_training_set]\n",
    "    test_idxs = set_idxs[n_training_set:]\n",
    "    \n",
    "    # fit to training set\n",
    "    X_train = features.copy()[train_idxs, :]\n",
    "    std_scaler = StandardScaler().fit(X_train)\n",
    "    X_train = std_scaler.transform(X_train)\n",
    "    Y_train = responders[train_idxs]\n",
    "    svm_cls = svm.SVC(kernel='linear')\n",
    "    svm_cls.fit(X_train, Y_train)\n",
    "    \n",
    "    # validate on test set\n",
    "    X_test = features.copy()[test_idxs, :]\n",
    "    X_test = std_scaler.transform(X_test) \n",
    "    Y_test = responders[test_idxs]\n",
    "    accuracy_scores[perm_idx] = svm_cls.score(X_test, Y_test)\n",
    "\n",
    "print(f'Mean accuracy: {np.mean(accuracy_scores)}')"
   ]
  },
  {
   "cell_type": "code",
   "execution_count": null,
   "id": "797d531e",
   "metadata": {},
   "outputs": [],
   "source": []
  }
 ],
 "metadata": {
  "kernelspec": {
   "display_name": "Python 3 (ipykernel)",
   "language": "python",
   "name": "python3"
  },
  "language_info": {
   "codemirror_mode": {
    "name": "ipython",
    "version": 3
   },
   "file_extension": ".py",
   "mimetype": "text/x-python",
   "name": "python",
   "nbconvert_exporter": "python",
   "pygments_lexer": "ipython3",
   "version": "3.8.13"
  }
 },
 "nbformat": 4,
 "nbformat_minor": 5
}
