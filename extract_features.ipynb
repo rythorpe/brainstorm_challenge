{
 "cells": [
  {
   "cell_type": "code",
   "execution_count": 2,
   "id": "ec977872",
   "metadata": {},
   "outputs": [],
   "source": [
    "%matplotlib widget\n",
    "\n",
    "import sys\n",
    "import os\n",
    "import os.path as op\n",
    "from glob import glob\n",
    "\n",
    "import numpy as np\n",
    "from scipy.io import loadmat\n",
    "import matplotlib.pyplot as plt\n",
    "import seaborn as sns\n",
    "sns.set()\n",
    "\n",
    "import mne\n",
    "from mne.io import read_epochs_eeglab\n",
    "from mne.decoding import SSD\n",
    "from mne.time_frequency import psd_array_multitaper"
   ]
  },
  {
   "cell_type": "code",
   "execution_count": 9,
   "id": "8e2a08ce",
   "metadata": {},
   "outputs": [
    {
     "ename": "ValueError",
     "evalue": "could not convert string to float: '\\ufeffTMSID,Series,Challenge,HasSes1EEG,HasSesXEEG,HasT1,HasT2,HasT3,HasT4,HasT1T2T3T4,HasT1T3,HasT1T2,FirstAvailEEG,TMSTypeSes1,TMSTypeSesX,HasOutcomes,HasSymptoms.Ses1,HasSymptoms.SesX'",
     "output_type": "error",
     "traceback": [
      "\u001b[0;31m---------------------------------------------------------------------------\u001b[0m",
      "\u001b[0;31mValueError\u001b[0m                                Traceback (most recent call last)",
      "\u001b[0;32m/tmp/ipykernel_246240/2575907529.py\u001b[0m in \u001b[0;36m<cell line: 4>\u001b[0;34m()\u001b[0m\n\u001b[1;32m      2\u001b[0m \u001b[0mdata_type\u001b[0m \u001b[0;34m=\u001b[0m \u001b[0;34m'TRAINING'\u001b[0m\u001b[0;34m\u001b[0m\u001b[0;34m\u001b[0m\u001b[0m\n\u001b[1;32m      3\u001b[0m \u001b[0mfname_master\u001b[0m \u001b[0;34m=\u001b[0m \u001b[0mop\u001b[0m\u001b[0;34m.\u001b[0m\u001b[0mjoin\u001b[0m\u001b[0;34m(\u001b[0m\u001b[0mdata_dir\u001b[0m\u001b[0;34m,\u001b[0m \u001b[0mdata_type\u001b[0m\u001b[0;34m,\u001b[0m \u001b[0mdata_type\u001b[0m \u001b[0;34m+\u001b[0m \u001b[0;34m'_Master List_All Series.csv'\u001b[0m\u001b[0;34m)\u001b[0m\u001b[0;34m\u001b[0m\u001b[0;34m\u001b[0m\u001b[0m\n\u001b[0;32m----> 4\u001b[0;31m \u001b[0mmaster_list\u001b[0m \u001b[0;34m=\u001b[0m \u001b[0mnp\u001b[0m\u001b[0;34m.\u001b[0m\u001b[0mloadtxt\u001b[0m\u001b[0;34m(\u001b[0m\u001b[0mfname_master\u001b[0m\u001b[0;34m)\u001b[0m\u001b[0;34m\u001b[0m\u001b[0;34m\u001b[0m\u001b[0m\n\u001b[0m",
      "\u001b[0;32m/gpfs/data/brainstorm-ws/conda/lib/python3.9/site-packages/numpy/lib/npyio.py\u001b[0m in \u001b[0;36mloadtxt\u001b[0;34m(fname, dtype, comments, delimiter, converters, skiprows, usecols, unpack, ndmin, encoding, max_rows, like)\u001b[0m\n\u001b[1;32m   1161\u001b[0m                 \u001b[0;31m# Convert each value according to its column, then pack it\u001b[0m\u001b[0;34m\u001b[0m\u001b[0;34m\u001b[0m\u001b[0m\n\u001b[1;32m   1162\u001b[0m                 \u001b[0;31m# according to the dtype's nesting, and store it.\u001b[0m\u001b[0;34m\u001b[0m\u001b[0;34m\u001b[0m\u001b[0m\n\u001b[0;32m-> 1163\u001b[0;31m                 \u001b[0mchunk\u001b[0m\u001b[0;34m.\u001b[0m\u001b[0mappend\u001b[0m\u001b[0;34m(\u001b[0m\u001b[0mpacker\u001b[0m\u001b[0;34m(\u001b[0m\u001b[0mconvert_row\u001b[0m\u001b[0;34m(\u001b[0m\u001b[0mwords\u001b[0m\u001b[0;34m)\u001b[0m\u001b[0;34m)\u001b[0m\u001b[0;34m)\u001b[0m\u001b[0;34m\u001b[0m\u001b[0;34m\u001b[0m\u001b[0m\n\u001b[0m\u001b[1;32m   1164\u001b[0m             \u001b[0;32mif\u001b[0m \u001b[0;32mnot\u001b[0m \u001b[0mchunk\u001b[0m\u001b[0;34m:\u001b[0m  \u001b[0;31m# The islice is empty, i.e. we're done.\u001b[0m\u001b[0;34m\u001b[0m\u001b[0;34m\u001b[0m\u001b[0m\n\u001b[1;32m   1165\u001b[0m                 \u001b[0;32mbreak\u001b[0m\u001b[0;34m\u001b[0m\u001b[0;34m\u001b[0m\u001b[0m\n",
      "\u001b[0;32m/gpfs/data/brainstorm-ws/conda/lib/python3.9/site-packages/numpy/lib/npyio.py\u001b[0m in \u001b[0;36mconvert_row\u001b[0;34m(vals, _conv)\u001b[0m\n\u001b[1;32m   1140\u001b[0m             \u001b[0;31m# equal dtypes.\u001b[0m\u001b[0;34m\u001b[0m\u001b[0;34m\u001b[0m\u001b[0m\n\u001b[1;32m   1141\u001b[0m             \u001b[0;32mdef\u001b[0m \u001b[0mconvert_row\u001b[0m\u001b[0;34m(\u001b[0m\u001b[0mvals\u001b[0m\u001b[0;34m,\u001b[0m \u001b[0m_conv\u001b[0m\u001b[0;34m=\u001b[0m\u001b[0mconverters\u001b[0m\u001b[0;34m[\u001b[0m\u001b[0;36m0\u001b[0m\u001b[0;34m]\u001b[0m\u001b[0;34m)\u001b[0m\u001b[0;34m:\u001b[0m\u001b[0;34m\u001b[0m\u001b[0;34m\u001b[0m\u001b[0m\n\u001b[0;32m-> 1142\u001b[0;31m                 \u001b[0;32mreturn\u001b[0m \u001b[0;34m[\u001b[0m\u001b[0;34m*\u001b[0m\u001b[0mmap\u001b[0m\u001b[0;34m(\u001b[0m\u001b[0m_conv\u001b[0m\u001b[0;34m,\u001b[0m \u001b[0mvals\u001b[0m\u001b[0;34m)\u001b[0m\u001b[0;34m]\u001b[0m\u001b[0;34m\u001b[0m\u001b[0;34m\u001b[0m\u001b[0m\n\u001b[0m\u001b[1;32m   1143\u001b[0m         \u001b[0;32melse\u001b[0m\u001b[0;34m:\u001b[0m\u001b[0;34m\u001b[0m\u001b[0;34m\u001b[0m\u001b[0m\n\u001b[1;32m   1144\u001b[0m             \u001b[0;32mdef\u001b[0m \u001b[0mconvert_row\u001b[0m\u001b[0;34m(\u001b[0m\u001b[0mvals\u001b[0m\u001b[0;34m)\u001b[0m\u001b[0;34m:\u001b[0m\u001b[0;34m\u001b[0m\u001b[0;34m\u001b[0m\u001b[0m\n",
      "\u001b[0;32m/gpfs/data/brainstorm-ws/conda/lib/python3.9/site-packages/numpy/lib/npyio.py\u001b[0m in \u001b[0;36m_floatconv\u001b[0;34m(x)\u001b[0m\n\u001b[1;32m    723\u001b[0m \u001b[0;32mdef\u001b[0m \u001b[0m_floatconv\u001b[0m\u001b[0;34m(\u001b[0m\u001b[0mx\u001b[0m\u001b[0;34m)\u001b[0m\u001b[0;34m:\u001b[0m\u001b[0;34m\u001b[0m\u001b[0;34m\u001b[0m\u001b[0m\n\u001b[1;32m    724\u001b[0m     \u001b[0;32mtry\u001b[0m\u001b[0;34m:\u001b[0m\u001b[0;34m\u001b[0m\u001b[0;34m\u001b[0m\u001b[0m\n\u001b[0;32m--> 725\u001b[0;31m         \u001b[0;32mreturn\u001b[0m \u001b[0mfloat\u001b[0m\u001b[0;34m(\u001b[0m\u001b[0mx\u001b[0m\u001b[0;34m)\u001b[0m  \u001b[0;31m# The fastest path.\u001b[0m\u001b[0;34m\u001b[0m\u001b[0;34m\u001b[0m\u001b[0m\n\u001b[0m\u001b[1;32m    726\u001b[0m     \u001b[0;32mexcept\u001b[0m \u001b[0mValueError\u001b[0m\u001b[0;34m:\u001b[0m\u001b[0;34m\u001b[0m\u001b[0;34m\u001b[0m\u001b[0m\n\u001b[1;32m    727\u001b[0m         \u001b[0;32mif\u001b[0m \u001b[0;34m'0x'\u001b[0m \u001b[0;32min\u001b[0m \u001b[0mx\u001b[0m\u001b[0;34m:\u001b[0m  \u001b[0;31m# Don't accidentally convert \"a\" (\"0xa\") to 10.\u001b[0m\u001b[0;34m\u001b[0m\u001b[0;34m\u001b[0m\u001b[0m\n",
      "\u001b[0;31mValueError\u001b[0m: could not convert string to float: '\\ufeffTMSID,Series,Challenge,HasSes1EEG,HasSesXEEG,HasT1,HasT2,HasT3,HasT4,HasT1T2T3T4,HasT1T3,HasT1T2,FirstAvailEEG,TMSTypeSes1,TMSTypeSesX,HasOutcomes,HasSymptoms.Ses1,HasSymptoms.SesX'"
     ]
    }
   ],
   "source": [
    "data_dir = '/gpfs/data/brainstorm-ws/data/'\n",
    "data_type = 'TRAINING'\n",
    "fname_master = op.join(data_dir, data_type, data_type + '_Master List_All Series.csv')\n",
    "master_list = np.loadtxt(fname_master)\n"
   ]
  },
  {
   "cell_type": "code",
   "execution_count": 4,
   "id": "a541795f",
   "metadata": {},
   "outputs": [
    {
     "data": {
      "text/plain": [
       "['TRAINING_Item Level IDSSR Symptoms_Ses1_All Series.csv',\n",
       " 'TRAINING_Master List_All Series.csv',\n",
       " 'series_6',\n",
       " 'series_2',\n",
       " 'series_5',\n",
       " 'series_4',\n",
       " 'TRAINING_Demographics and Clinical Outcomes_All Series.csv',\n",
       " 'TRAINING_Item Level IDSSR Symptoms_SesX_All Series.csv',\n",
       " 'series_1',\n",
       " 'series_7',\n",
       " 'series_3']"
      ]
     },
     "execution_count": 4,
     "metadata": {},
     "output_type": "execute_result"
    }
   ],
   "source": [
    "fnames"
   ]
  },
  {
   "cell_type": "code",
   "execution_count": null,
   "id": "ee9db164",
   "metadata": {},
   "outputs": [],
   "source": [
    "data_dir = '/gpfs/data/brainstorm-ws/data/TRAINING/series_1/'\n",
    "subj_id = '0372'\n",
    "t1_fname = op.join(data_dir, 'T1/preprocessed', subj_id + '_Pre_Session1_Series1_Preprocessed.set')\n",
    "t2_fname = op.join(data_dir, 'T2/preprocessed', subj_id + '_Post_Session1_Series1_Preprocessed.set')\n",
    "\n",
    "epochs_t1 = read_epochs_eeglab(t1_fname)\n",
    "epochs_t2 = read_epochs_eeglab(t2_fname)\n",
    "\n",
    "epochs_t1 = epochs_t1.pick_channels(['C3'])\n",
    "epochs_t2 = epochs_t2.pick_channels(['C3'])"
   ]
  },
  {
   "cell_type": "code",
   "execution_count": null,
   "id": "0b013d11",
   "metadata": {},
   "outputs": [],
   "source": [
    "plt.close('all')\n",
    "fig, ax = plt.subplots(1, 1)\n",
    "\n",
    "epochs_t1.plot_psd(fmin=3., fmax=50., ax=ax, color='orange', spatial_colors=False)\n",
    "epochs_t2.plot_psd(fmin=3., fmax=50., ax=ax, color='blue', spatial_colors=False)\n",
    "    \n",
    "plt.show()"
   ]
  },
  {
   "cell_type": "code",
   "execution_count": null,
   "id": "37907781",
   "metadata": {},
   "outputs": [],
   "source": [
    "data_t1 = epochs_t1.get_data().squeeze()  # epoch x time\n",
    "data_t2 = epochs_t2.get_data().squeeze()  # epoch x time\n",
    "\n",
    "times = epochs_t1.times\n",
    "dt = times[1] - times[0]\n",
    "samp_freq = 1 / dt\n",
    "print(np.array_equal(epochs_t1.times, epochs_t2.times))"
   ]
  },
  {
   "cell_type": "code",
   "execution_count": null,
   "id": "a412678c",
   "metadata": {},
   "outputs": [],
   "source": [
    "import os\n",
    "\n",
    "data_dir_t1 = op.join(data_dir, 'T1/preprocessed')\n",
    "\n",
    "fnames = sorted(os.listdir(data_dir_t1))"
   ]
  }
 ],
 "metadata": {
  "kernelspec": {
   "display_name": "Python 3 (ipykernel)",
   "language": "python",
   "name": "python3"
  },
  "language_info": {
   "codemirror_mode": {
    "name": "ipython",
    "version": 3
   },
   "file_extension": ".py",
   "mimetype": "text/x-python",
   "name": "python",
   "nbconvert_exporter": "python",
   "pygments_lexer": "ipython3",
   "version": "3.9.13"
  }
 },
 "nbformat": 4,
 "nbformat_minor": 5
}
