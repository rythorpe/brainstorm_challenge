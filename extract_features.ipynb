{
 "cells": [
  {
   "cell_type": "code",
   "execution_count": 5,
   "id": "ec977872",
   "metadata": {},
   "outputs": [],
   "source": [
    "%matplotlib widget\n",
    "\n",
    "import io\n",
    "import sys\n",
    "import os\n",
    "import os.path as op\n",
    "from glob import glob\n",
    "\n",
    "import numpy as np\n",
    "from scipy.io import loadmat\n",
    "import matplotlib.pyplot as plt\n",
    "import seaborn as sns\n",
    "sns.set()\n",
    "\n",
    "import mne\n",
    "from mne.io import read_epochs_eeglab\n",
    "from mne.decoding import SSD\n",
    "from mne.time_frequency import psd_array_multitaper"
   ]
  },
  {
   "cell_type": "code",
   "execution_count": 6,
   "id": "30254100",
   "metadata": {},
   "outputs": [],
   "source": [
    "# set data directory\n",
    "data_dir = '/gpfs/data/brainstorm-ws/data/'\n",
    "data_type = 'TRAINING'"
   ]
  },
  {
   "cell_type": "code",
   "execution_count": 7,
   "id": "8e2a08ce",
   "metadata": {},
   "outputs": [],
   "source": [
    "# read metadata from master list\n",
    "fname_master = op.join(data_dir, data_type, data_type + '_Master List_All Series.csv')\n",
    "master_keys = np.loadtxt(fname_master,  delimiter=',', max_rows=1, dtype=str)\n",
    "master_keys[0] = 'TMSID'  # fix first key string\n",
    "master_values = np.loadtxt(fname_master, delimiter=',', skiprows=1, dtype=str)\n",
    "master_info = {key: master_values[:, master_keys == key].squeeze() for key in master_keys}\n",
    "\n",
    "# get subject IDs for datasets with both pre-/post-TMS EEG recordings\n",
    "subj_select = master_info['HasT1T2'] == '1'\n",
    "subj_ids = master_info['TMSID'][subj_select]"
   ]
  },
  {
   "cell_type": "code",
   "execution_count": 19,
   "id": "0425f11f",
   "metadata": {},
   "outputs": [],
   "source": [
    "# read metadata from demographics and clinical outcomes\n",
    "fname_outcomes = op.join(data_dir, data_type, data_type + '_Demographics and Clinical Outcomes_All Series.csv')\n",
    "outcomes_keys = np.loadtxt(fname_outcomes,  delimiter=',', max_rows=1, dtype=str)\n",
    "outcomes_keys[0] = 'TMSID'  # fix first key string\n",
    "outcomes_values = np.loadtxt(fname_outcomes, delimiter=',', skiprows=1, dtype=str)\n",
    "outcome_info = {key: outcomes_values[:, outcomes_keys == key].squeeze() for key in outcomes_keys}\n",
    "\n",
    "# get demographic and outcome data\n",
    "subj_select = np.in1d(outcome_info['TMSID'], subj_ids)\n",
    "subj_age = outcome_info['AgeTMSstart'][subj_select].astype(int)\n",
    "subj_sex = outcome_info['Sex'][subj_select].astype(int)\n",
    "subj_HSD = outcome_info['SevHxDep'][subj_select].astype(int)\n",
    "subj_response = outcome_info['LastRespIDSSR'][subj_select].astype(int)\n",
    "\n",
    "# get series\n",
    "subj_series = outcome_info['Series'][subj_select].astype(int)"
   ]
  },
  {
   "cell_type": "code",
   "execution_count": null,
   "id": "ee9db164",
   "metadata": {},
   "outputs": [],
   "source": [
    "data_dir = '/gpfs/data/brainstorm-ws/data/TRAINING/series_1/'\n",
    "subj_id = '0372'\n",
    "t1_fname = op.join(data_dir, 'T1/preprocessed', subj_id + '_Pre_Session1_Series1_Preprocessed.set')\n",
    "t2_fname = op.join(data_dir, 'T2/preprocessed', subj_id + '_Post_Session1_Series1_Preprocessed.set')\n",
    "\n",
    "epochs_t1 = read_epochs_eeglab(t1_fname)\n",
    "epochs_t2 = read_epochs_eeglab(t2_fname)\n",
    "\n",
    "epochs_t1 = epochs_t1.pick_channels(['C3'])\n",
    "epochs_t2 = epochs_t2.pick_channels(['C3'])"
   ]
  },
  {
   "cell_type": "code",
   "execution_count": null,
   "id": "0b013d11",
   "metadata": {},
   "outputs": [],
   "source": [
    "plt.close('all')\n",
    "fig, ax = plt.subplots(1, 1)\n",
    "\n",
    "epochs_t1.plot_psd(fmin=3., fmax=50., ax=ax, color='orange', spatial_colors=False)\n",
    "epochs_t2.plot_psd(fmin=3., fmax=50., ax=ax, color='blue', spatial_colors=False)\n",
    "    \n",
    "plt.show()"
   ]
  },
  {
   "cell_type": "code",
   "execution_count": null,
   "id": "37907781",
   "metadata": {},
   "outputs": [],
   "source": [
    "data_t1 = epochs_t1.get_data().squeeze()  # epoch x time\n",
    "data_t2 = epochs_t2.get_data().squeeze()  # epoch x time\n",
    "\n",
    "times = epochs_t1.times\n",
    "dt = times[1] - times[0]\n",
    "samp_freq = 1 / dt\n",
    "print(np.array_equal(epochs_t1.times, epochs_t2.times))"
   ]
  },
  {
   "cell_type": "code",
   "execution_count": null,
   "id": "a412678c",
   "metadata": {},
   "outputs": [],
   "source": [
    "import os\n",
    "\n",
    "data_dir_t1 = op.join(data_dir, 'T1/preprocessed')\n",
    "\n",
    "fnames = sorted(os.listdir(data_dir_t1))"
   ]
  }
 ],
 "metadata": {
  "kernelspec": {
   "display_name": "Python 3 (ipykernel)",
   "language": "python",
   "name": "python3"
  },
  "language_info": {
   "codemirror_mode": {
    "name": "ipython",
    "version": 3
   },
   "file_extension": ".py",
   "mimetype": "text/x-python",
   "name": "python",
   "nbconvert_exporter": "python",
   "pygments_lexer": "ipython3",
   "version": "3.8.13"
  }
 },
 "nbformat": 4,
 "nbformat_minor": 5
}
